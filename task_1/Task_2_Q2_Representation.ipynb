{
 "cells": [
  {
   "cell_type": "markdown",
   "id": "6c20ca57-2a9b-4511-8b89-593f94a630ee",
   "metadata": {},
   "source": [
    "Part 2 - Q2 - Representation Learning\n",
    "===\n",
    "\n"
   ]
  },
  {
   "cell_type": "markdown",
   "id": "4249dc2f",
   "metadata": {},
   "source": []
  },
  {
   "cell_type": "code",
   "execution_count": 1,
   "id": "73c334c9",
   "metadata": {},
   "outputs": [],
   "source": [
    "import pandas as pd\n",
    "import numpy as np\n",
    "import matplotlib.pyplot as plt\n",
    "import seaborn as sns\n",
    "import tsfresh as tsf\n",
    "from tsfresh import extract_features\n",
    "import warnings"
   ]
  },
  {
   "cell_type": "code",
   "execution_count": 2,
   "id": "2dec4db4-a964-4878-93c3-480a3191919f",
   "metadata": {},
   "outputs": [],
   "source": [
    "%matplotlib inline\n",
    "import torch\n",
    "import torch.nn.functional as F"
   ]
  },
  {
   "cell_type": "code",
   "execution_count": 3,
   "id": "86be1e0e-6a7d-42e8-9c37-a5a9f3da9bf9",
   "metadata": {},
   "outputs": [],
   "source": [
    "from sklearn.preprocessing import MinMaxScaler\n",
    "from sklearn.model_selection import train_test_split\n",
    "from sklearn.metrics import confusion_matrix\n",
    "from sklearn.metrics import roc_curve, auc"
   ]
  },
  {
   "cell_type": "code",
   "execution_count": 4,
   "id": "da4974d8-5377-4c12-8ce7-4f9f720951d0",
   "metadata": {},
   "outputs": [
    {
     "data": {
      "application/javascript": "(function(root) {\n  function now() {\n    return new Date();\n  }\n\n  var force = true;\n  var py_version = '3.4.1'.replace('rc', '-rc.').replace('.dev', '-dev.');\n  var reloading = false;\n  var Bokeh = root.Bokeh;\n\n  if (typeof (root._bokeh_timeout) === \"undefined\" || force) {\n    root._bokeh_timeout = Date.now() + 5000;\n    root._bokeh_failed_load = false;\n  }\n\n  function run_callbacks() {\n    try {\n      root._bokeh_onload_callbacks.forEach(function(callback) {\n        if (callback != null)\n          callback();\n      });\n    } finally {\n      delete root._bokeh_onload_callbacks;\n    }\n    console.debug(\"Bokeh: all callbacks have finished\");\n  }\n\n  function load_libs(css_urls, js_urls, js_modules, js_exports, callback) {\n    if (css_urls == null) css_urls = [];\n    if (js_urls == null) js_urls = [];\n    if (js_modules == null) js_modules = [];\n    if (js_exports == null) js_exports = {};\n\n    root._bokeh_onload_callbacks.push(callback);\n\n    if (root._bokeh_is_loading > 0) {\n      console.debug(\"Bokeh: BokehJS is being loaded, scheduling callback at\", now());\n      return null;\n    }\n    if (js_urls.length === 0 && js_modules.length === 0 && Object.keys(js_exports).length === 0) {\n      run_callbacks();\n      return null;\n    }\n    if (!reloading) {\n      console.debug(\"Bokeh: BokehJS not loaded, scheduling load and callback at\", now());\n    }\n\n    function on_load() {\n      root._bokeh_is_loading--;\n      if (root._bokeh_is_loading === 0) {\n        console.debug(\"Bokeh: all BokehJS libraries/stylesheets loaded\");\n        run_callbacks()\n      }\n    }\n    window._bokeh_on_load = on_load\n\n    function on_error() {\n      console.error(\"failed to load \" + url);\n    }\n\n    var skip = [];\n    if (window.requirejs) {\n      window.requirejs.config({'packages': {}, 'paths': {}, 'shim': {}});\n      root._bokeh_is_loading = css_urls.length + 0;\n    } else {\n      root._bokeh_is_loading = css_urls.length + js_urls.length + js_modules.length + Object.keys(js_exports).length;\n    }\n\n    var existing_stylesheets = []\n    var links = document.getElementsByTagName('link')\n    for (var i = 0; i < links.length; i++) {\n      var link = links[i]\n      if (link.href != null) {\n\texisting_stylesheets.push(link.href)\n      }\n    }\n    for (var i = 0; i < css_urls.length; i++) {\n      var url = css_urls[i];\n      if (existing_stylesheets.indexOf(url) !== -1) {\n\ton_load()\n\tcontinue;\n      }\n      const element = document.createElement(\"link\");\n      element.onload = on_load;\n      element.onerror = on_error;\n      element.rel = \"stylesheet\";\n      element.type = \"text/css\";\n      element.href = url;\n      console.debug(\"Bokeh: injecting link tag for BokehJS stylesheet: \", url);\n      document.body.appendChild(element);\n    }    var existing_scripts = []\n    var scripts = document.getElementsByTagName('script')\n    for (var i = 0; i < scripts.length; i++) {\n      var script = scripts[i]\n      if (script.src != null) {\n\texisting_scripts.push(script.src)\n      }\n    }\n    for (var i = 0; i < js_urls.length; i++) {\n      var url = js_urls[i];\n      if (skip.indexOf(url) !== -1 || existing_scripts.indexOf(url) !== -1) {\n\tif (!window.requirejs) {\n\t  on_load();\n\t}\n\tcontinue;\n      }\n      var element = document.createElement('script');\n      element.onload = on_load;\n      element.onerror = on_error;\n      element.async = false;\n      element.src = url;\n      console.debug(\"Bokeh: injecting script tag for BokehJS library: \", url);\n      document.head.appendChild(element);\n    }\n    for (var i = 0; i < js_modules.length; i++) {\n      var url = js_modules[i];\n      if (skip.indexOf(url) !== -1 || existing_scripts.indexOf(url) !== -1) {\n\tif (!window.requirejs) {\n\t  on_load();\n\t}\n\tcontinue;\n      }\n      var element = document.createElement('script');\n      element.onload = on_load;\n      element.onerror = on_error;\n      element.async = false;\n      element.src = url;\n      element.type = \"module\";\n      console.debug(\"Bokeh: injecting script tag for BokehJS library: \", url);\n      document.head.appendChild(element);\n    }\n    for (const name in js_exports) {\n      var url = js_exports[name];\n      if (skip.indexOf(url) >= 0 || root[name] != null) {\n\tif (!window.requirejs) {\n\t  on_load();\n\t}\n\tcontinue;\n      }\n      var element = document.createElement('script');\n      element.onerror = on_error;\n      element.async = false;\n      element.type = \"module\";\n      console.debug(\"Bokeh: injecting script tag for BokehJS library: \", url);\n      element.textContent = `\n      import ${name} from \"${url}\"\n      window.${name} = ${name}\n      window._bokeh_on_load()\n      `\n      document.head.appendChild(element);\n    }\n    if (!js_urls.length && !js_modules.length) {\n      on_load()\n    }\n  };\n\n  function inject_raw_css(css) {\n    const element = document.createElement(\"style\");\n    element.appendChild(document.createTextNode(css));\n    document.body.appendChild(element);\n  }\n\n  var js_urls = [\"https://cdn.bokeh.org/bokeh/release/bokeh-3.4.1.min.js\", \"https://cdn.bokeh.org/bokeh/release/bokeh-gl-3.4.1.min.js\", \"https://cdn.bokeh.org/bokeh/release/bokeh-widgets-3.4.1.min.js\", \"https://cdn.bokeh.org/bokeh/release/bokeh-tables-3.4.1.min.js\", \"https://cdn.holoviz.org/panel/1.4.1/dist/panel.min.js\"];\n  var js_modules = [];\n  var js_exports = {};\n  var css_urls = [];\n  var inline_js = [    function(Bokeh) {\n      Bokeh.set_log_level(\"info\");\n    },\nfunction(Bokeh) {} // ensure no trailing comma for IE\n  ];\n\n  function run_inline_js() {\n    if ((root.Bokeh !== undefined) || (force === true)) {\n      for (var i = 0; i < inline_js.length; i++) {\n\ttry {\n          inline_js[i].call(root, root.Bokeh);\n\t} catch(e) {\n\t  if (!reloading) {\n\t    throw e;\n\t  }\n\t}\n      }\n      // Cache old bokeh versions\n      if (Bokeh != undefined && !reloading) {\n\tvar NewBokeh = root.Bokeh;\n\tif (Bokeh.versions === undefined) {\n\t  Bokeh.versions = new Map();\n\t}\n\tif (NewBokeh.version !== Bokeh.version) {\n\t  Bokeh.versions.set(NewBokeh.version, NewBokeh)\n\t}\n\troot.Bokeh = Bokeh;\n      }} else if (Date.now() < root._bokeh_timeout) {\n      setTimeout(run_inline_js, 100);\n    } else if (!root._bokeh_failed_load) {\n      console.log(\"Bokeh: BokehJS failed to load within specified timeout.\");\n      root._bokeh_failed_load = true;\n    }\n    root._bokeh_is_initializing = false\n  }\n\n  function load_or_wait() {\n    // Implement a backoff loop that tries to ensure we do not load multiple\n    // versions of Bokeh and its dependencies at the same time.\n    // In recent versions we use the root._bokeh_is_initializing flag\n    // to determine whether there is an ongoing attempt to initialize\n    // bokeh, however for backward compatibility we also try to ensure\n    // that we do not start loading a newer (Panel>=1.0 and Bokeh>3) version\n    // before older versions are fully initialized.\n    if (root._bokeh_is_initializing && Date.now() > root._bokeh_timeout) {\n      root._bokeh_is_initializing = false;\n      root._bokeh_onload_callbacks = undefined;\n      console.log(\"Bokeh: BokehJS was loaded multiple times but one version failed to initialize.\");\n      load_or_wait();\n    } else if (root._bokeh_is_initializing || (typeof root._bokeh_is_initializing === \"undefined\" && root._bokeh_onload_callbacks !== undefined)) {\n      setTimeout(load_or_wait, 100);\n    } else {\n      root._bokeh_is_initializing = true\n      root._bokeh_onload_callbacks = []\n      var bokeh_loaded = Bokeh != null && (Bokeh.version === py_version || (Bokeh.versions !== undefined && Bokeh.versions.has(py_version)));\n      if (!reloading && !bokeh_loaded) {\n\troot.Bokeh = undefined;\n      }\n      load_libs(css_urls, js_urls, js_modules, js_exports, function() {\n\tconsole.debug(\"Bokeh: BokehJS plotting callback run at\", now());\n\trun_inline_js();\n      });\n    }\n  }\n  // Give older versions of the autoload script a head-start to ensure\n  // they initialize before we start loading newer version.\n  setTimeout(load_or_wait, 100)\n}(window));",
      "application/vnd.holoviews_load.v0+json": ""
     },
     "metadata": {},
     "output_type": "display_data"
    },
    {
     "data": {
      "application/javascript": "\nif ((window.PyViz === undefined) || (window.PyViz instanceof HTMLElement)) {\n  window.PyViz = {comms: {}, comm_status:{}, kernels:{}, receivers: {}, plot_index: []}\n}\n\n\n    function JupyterCommManager() {\n    }\n\n    JupyterCommManager.prototype.register_target = function(plot_id, comm_id, msg_handler) {\n      if (window.comm_manager || ((window.Jupyter !== undefined) && (Jupyter.notebook.kernel != null))) {\n        var comm_manager = window.comm_manager || Jupyter.notebook.kernel.comm_manager;\n        comm_manager.register_target(comm_id, function(comm) {\n          comm.on_msg(msg_handler);\n        });\n      } else if ((plot_id in window.PyViz.kernels) && (window.PyViz.kernels[plot_id])) {\n        window.PyViz.kernels[plot_id].registerCommTarget(comm_id, function(comm) {\n          comm.onMsg = msg_handler;\n        });\n      } else if (typeof google != 'undefined' && google.colab.kernel != null) {\n        google.colab.kernel.comms.registerTarget(comm_id, (comm) => {\n          var messages = comm.messages[Symbol.asyncIterator]();\n          function processIteratorResult(result) {\n            var message = result.value;\n            console.log(message)\n            var content = {data: message.data, comm_id};\n            var buffers = []\n            for (var buffer of message.buffers || []) {\n              buffers.push(new DataView(buffer))\n            }\n            var metadata = message.metadata || {};\n            var msg = {content, buffers, metadata}\n            msg_handler(msg);\n            return messages.next().then(processIteratorResult);\n          }\n          return messages.next().then(processIteratorResult);\n        })\n      }\n    }\n\n    JupyterCommManager.prototype.get_client_comm = function(plot_id, comm_id, msg_handler) {\n      if (comm_id in window.PyViz.comms) {\n        return window.PyViz.comms[comm_id];\n      } else if (window.comm_manager || ((window.Jupyter !== undefined) && (Jupyter.notebook.kernel != null))) {\n        var comm_manager = window.comm_manager || Jupyter.notebook.kernel.comm_manager;\n        var comm = comm_manager.new_comm(comm_id, {}, {}, {}, comm_id);\n        if (msg_handler) {\n          comm.on_msg(msg_handler);\n        }\n      } else if ((plot_id in window.PyViz.kernels) && (window.PyViz.kernels[plot_id])) {\n        var comm = window.PyViz.kernels[plot_id].connectToComm(comm_id);\n        comm.open();\n        if (msg_handler) {\n          comm.onMsg = msg_handler;\n        }\n      } else if (typeof google != 'undefined' && google.colab.kernel != null) {\n        var comm_promise = google.colab.kernel.comms.open(comm_id)\n        comm_promise.then((comm) => {\n          window.PyViz.comms[comm_id] = comm;\n          if (msg_handler) {\n            var messages = comm.messages[Symbol.asyncIterator]();\n            function processIteratorResult(result) {\n              var message = result.value;\n              var content = {data: message.data};\n              var metadata = message.metadata || {comm_id};\n              var msg = {content, metadata}\n              msg_handler(msg);\n              return messages.next().then(processIteratorResult);\n            }\n            return messages.next().then(processIteratorResult);\n          }\n        }) \n        var sendClosure = (data, metadata, buffers, disposeOnDone) => {\n          return comm_promise.then((comm) => {\n            comm.send(data, metadata, buffers, disposeOnDone);\n          });\n        };\n        var comm = {\n          send: sendClosure\n        };\n      }\n      window.PyViz.comms[comm_id] = comm;\n      return comm;\n    }\n    window.PyViz.comm_manager = new JupyterCommManager();\n    \n\n\nvar JS_MIME_TYPE = 'application/javascript';\nvar HTML_MIME_TYPE = 'text/html';\nvar EXEC_MIME_TYPE = 'application/vnd.holoviews_exec.v0+json';\nvar CLASS_NAME = 'output';\n\n/**\n * Render data to the DOM node\n */\nfunction render(props, node) {\n  var div = document.createElement(\"div\");\n  var script = document.createElement(\"script\");\n  node.appendChild(div);\n  node.appendChild(script);\n}\n\n/**\n * Handle when a new output is added\n */\nfunction handle_add_output(event, handle) {\n  var output_area = handle.output_area;\n  var output = handle.output;\n  if ((output.data == undefined) || (!output.data.hasOwnProperty(EXEC_MIME_TYPE))) {\n    return\n  }\n  var id = output.metadata[EXEC_MIME_TYPE][\"id\"];\n  var toinsert = output_area.element.find(\".\" + CLASS_NAME.split(' ')[0]);\n  if (id !== undefined) {\n    var nchildren = toinsert.length;\n    var html_node = toinsert[nchildren-1].children[0];\n    html_node.innerHTML = output.data[HTML_MIME_TYPE];\n    var scripts = [];\n    var nodelist = html_node.querySelectorAll(\"script\");\n    for (var i in nodelist) {\n      if (nodelist.hasOwnProperty(i)) {\n        scripts.push(nodelist[i])\n      }\n    }\n\n    scripts.forEach( function (oldScript) {\n      var newScript = document.createElement(\"script\");\n      var attrs = [];\n      var nodemap = oldScript.attributes;\n      for (var j in nodemap) {\n        if (nodemap.hasOwnProperty(j)) {\n          attrs.push(nodemap[j])\n        }\n      }\n      attrs.forEach(function(attr) { newScript.setAttribute(attr.name, attr.value) });\n      newScript.appendChild(document.createTextNode(oldScript.innerHTML));\n      oldScript.parentNode.replaceChild(newScript, oldScript);\n    });\n    if (JS_MIME_TYPE in output.data) {\n      toinsert[nchildren-1].children[1].textContent = output.data[JS_MIME_TYPE];\n    }\n    output_area._hv_plot_id = id;\n    if ((window.Bokeh !== undefined) && (id in Bokeh.index)) {\n      window.PyViz.plot_index[id] = Bokeh.index[id];\n    } else {\n      window.PyViz.plot_index[id] = null;\n    }\n  } else if (output.metadata[EXEC_MIME_TYPE][\"server_id\"] !== undefined) {\n    var bk_div = document.createElement(\"div\");\n    bk_div.innerHTML = output.data[HTML_MIME_TYPE];\n    var script_attrs = bk_div.children[0].attributes;\n    for (var i = 0; i < script_attrs.length; i++) {\n      toinsert[toinsert.length - 1].childNodes[1].setAttribute(script_attrs[i].name, script_attrs[i].value);\n    }\n    // store reference to server id on output_area\n    output_area._bokeh_server_id = output.metadata[EXEC_MIME_TYPE][\"server_id\"];\n  }\n}\n\n/**\n * Handle when an output is cleared or removed\n */\nfunction handle_clear_output(event, handle) {\n  var id = handle.cell.output_area._hv_plot_id;\n  var server_id = handle.cell.output_area._bokeh_server_id;\n  if (((id === undefined) || !(id in PyViz.plot_index)) && (server_id !== undefined)) { return; }\n  var comm = window.PyViz.comm_manager.get_client_comm(\"hv-extension-comm\", \"hv-extension-comm\", function () {});\n  if (server_id !== null) {\n    comm.send({event_type: 'server_delete', 'id': server_id});\n    return;\n  } else if (comm !== null) {\n    comm.send({event_type: 'delete', 'id': id});\n  }\n  delete PyViz.plot_index[id];\n  if ((window.Bokeh !== undefined) & (id in window.Bokeh.index)) {\n    var doc = window.Bokeh.index[id].model.document\n    doc.clear();\n    const i = window.Bokeh.documents.indexOf(doc);\n    if (i > -1) {\n      window.Bokeh.documents.splice(i, 1);\n    }\n  }\n}\n\n/**\n * Handle kernel restart event\n */\nfunction handle_kernel_cleanup(event, handle) {\n  delete PyViz.comms[\"hv-extension-comm\"];\n  window.PyViz.plot_index = {}\n}\n\n/**\n * Handle update_display_data messages\n */\nfunction handle_update_output(event, handle) {\n  handle_clear_output(event, {cell: {output_area: handle.output_area}})\n  handle_add_output(event, handle)\n}\n\nfunction register_renderer(events, OutputArea) {\n  function append_mime(data, metadata, element) {\n    // create a DOM node to render to\n    var toinsert = this.create_output_subarea(\n    metadata,\n    CLASS_NAME,\n    EXEC_MIME_TYPE\n    );\n    this.keyboard_manager.register_events(toinsert);\n    // Render to node\n    var props = {data: data, metadata: metadata[EXEC_MIME_TYPE]};\n    render(props, toinsert[0]);\n    element.append(toinsert);\n    return toinsert\n  }\n\n  events.on('output_added.OutputArea', handle_add_output);\n  events.on('output_updated.OutputArea', handle_update_output);\n  events.on('clear_output.CodeCell', handle_clear_output);\n  events.on('delete.Cell', handle_clear_output);\n  events.on('kernel_ready.Kernel', handle_kernel_cleanup);\n\n  OutputArea.prototype.register_mime_type(EXEC_MIME_TYPE, append_mime, {\n    safe: true,\n    index: 0\n  });\n}\n\nif (window.Jupyter !== undefined) {\n  try {\n    var events = require('base/js/events');\n    var OutputArea = require('notebook/js/outputarea').OutputArea;\n    if (OutputArea.prototype.mime_types().indexOf(EXEC_MIME_TYPE) == -1) {\n      register_renderer(events, OutputArea);\n    }\n  } catch(err) {\n  }\n}\n",
      "application/vnd.holoviews_load.v0+json": ""
     },
     "metadata": {},
     "output_type": "display_data"
    },
    {
     "data": {
      "text/html": [
       "<style>*[data-root-id],\n",
       "*[data-root-id] > * {\n",
       "  box-sizing: border-box;\n",
       "  font-family: var(--jp-ui-font-family);\n",
       "  font-size: var(--jp-ui-font-size1);\n",
       "  color: var(--vscode-editor-foreground, var(--jp-ui-font-color1));\n",
       "}\n",
       "\n",
       "/* Override VSCode background color */\n",
       ".cell-output-ipywidget-background:has(\n",
       "    > .cell-output-ipywidget-background > .lm-Widget > *[data-root-id]\n",
       "  ),\n",
       ".cell-output-ipywidget-background:has(> .lm-Widget > *[data-root-id]) {\n",
       "  background-color: transparent !important;\n",
       "}\n",
       "</style>"
      ]
     },
     "metadata": {},
     "output_type": "display_data"
    },
    {
     "data": {
      "application/vnd.holoviews_exec.v0+json": "",
      "text/html": [
       "<div id='20ca2643-7978-44c5-ba1f-ddc29156576b'>\n",
       "  <div id=\"a5a984d1-4546-4aca-9c93-184ef1fb3c0d\" data-root-id=\"20ca2643-7978-44c5-ba1f-ddc29156576b\" style=\"display: contents;\"></div>\n",
       "</div>\n",
       "<script type=\"application/javascript\">(function(root) {\n",
       "  var docs_json = {\"eca76814-9aab-4e35-a9e5-ac4a6bc157c9\":{\"version\":\"3.4.1\",\"title\":\"Bokeh Application\",\"roots\":[{\"type\":\"object\",\"name\":\"panel.models.browser.BrowserInfo\",\"id\":\"20ca2643-7978-44c5-ba1f-ddc29156576b\"},{\"type\":\"object\",\"name\":\"panel.models.comm_manager.CommManager\",\"id\":\"208a6158-c53b-416d-a7b3-0aaf11db4e6d\",\"attributes\":{\"plot_id\":\"20ca2643-7978-44c5-ba1f-ddc29156576b\",\"comm_id\":\"5bfd7e71e83747b19eaae921d964ee5a\",\"client_comm_id\":\"14c7ad2ca58c41c791c915db40b2c1db\"}}],\"defs\":[{\"type\":\"model\",\"name\":\"ReactiveHTML1\"},{\"type\":\"model\",\"name\":\"FlexBox1\",\"properties\":[{\"name\":\"align_content\",\"kind\":\"Any\",\"default\":\"flex-start\"},{\"name\":\"align_items\",\"kind\":\"Any\",\"default\":\"flex-start\"},{\"name\":\"flex_direction\",\"kind\":\"Any\",\"default\":\"row\"},{\"name\":\"flex_wrap\",\"kind\":\"Any\",\"default\":\"wrap\"},{\"name\":\"gap\",\"kind\":\"Any\",\"default\":\"\"},{\"name\":\"justify_content\",\"kind\":\"Any\",\"default\":\"flex-start\"}]},{\"type\":\"model\",\"name\":\"FloatPanel1\",\"properties\":[{\"name\":\"config\",\"kind\":\"Any\",\"default\":{\"type\":\"map\"}},{\"name\":\"contained\",\"kind\":\"Any\",\"default\":true},{\"name\":\"position\",\"kind\":\"Any\",\"default\":\"right-top\"},{\"name\":\"offsetx\",\"kind\":\"Any\",\"default\":null},{\"name\":\"offsety\",\"kind\":\"Any\",\"default\":null},{\"name\":\"theme\",\"kind\":\"Any\",\"default\":\"primary\"},{\"name\":\"status\",\"kind\":\"Any\",\"default\":\"normalized\"}]},{\"type\":\"model\",\"name\":\"GridStack1\",\"properties\":[{\"name\":\"mode\",\"kind\":\"Any\",\"default\":\"warn\"},{\"name\":\"ncols\",\"kind\":\"Any\",\"default\":null},{\"name\":\"nrows\",\"kind\":\"Any\",\"default\":null},{\"name\":\"allow_resize\",\"kind\":\"Any\",\"default\":true},{\"name\":\"allow_drag\",\"kind\":\"Any\",\"default\":true},{\"name\":\"state\",\"kind\":\"Any\",\"default\":[]}]},{\"type\":\"model\",\"name\":\"drag1\",\"properties\":[{\"name\":\"slider_width\",\"kind\":\"Any\",\"default\":5},{\"name\":\"slider_color\",\"kind\":\"Any\",\"default\":\"black\"},{\"name\":\"value\",\"kind\":\"Any\",\"default\":50}]},{\"type\":\"model\",\"name\":\"click1\",\"properties\":[{\"name\":\"terminal_output\",\"kind\":\"Any\",\"default\":\"\"},{\"name\":\"debug_name\",\"kind\":\"Any\",\"default\":\"\"},{\"name\":\"clears\",\"kind\":\"Any\",\"default\":0}]},{\"type\":\"model\",\"name\":\"FastWrapper1\",\"properties\":[{\"name\":\"object\",\"kind\":\"Any\",\"default\":null},{\"name\":\"style\",\"kind\":\"Any\",\"default\":null}]},{\"type\":\"model\",\"name\":\"NotificationAreaBase1\",\"properties\":[{\"name\":\"js_events\",\"kind\":\"Any\",\"default\":{\"type\":\"map\"}},{\"name\":\"position\",\"kind\":\"Any\",\"default\":\"bottom-right\"},{\"name\":\"_clear\",\"kind\":\"Any\",\"default\":0}]},{\"type\":\"model\",\"name\":\"NotificationArea1\",\"properties\":[{\"name\":\"js_events\",\"kind\":\"Any\",\"default\":{\"type\":\"map\"}},{\"name\":\"notifications\",\"kind\":\"Any\",\"default\":[]},{\"name\":\"position\",\"kind\":\"Any\",\"default\":\"bottom-right\"},{\"name\":\"_clear\",\"kind\":\"Any\",\"default\":0},{\"name\":\"types\",\"kind\":\"Any\",\"default\":[{\"type\":\"map\",\"entries\":[[\"type\",\"warning\"],[\"background\",\"#ffc107\"],[\"icon\",{\"type\":\"map\",\"entries\":[[\"className\",\"fas fa-exclamation-triangle\"],[\"tagName\",\"i\"],[\"color\",\"white\"]]}]]},{\"type\":\"map\",\"entries\":[[\"type\",\"info\"],[\"background\",\"#007bff\"],[\"icon\",{\"type\":\"map\",\"entries\":[[\"className\",\"fas fa-info-circle\"],[\"tagName\",\"i\"],[\"color\",\"white\"]]}]]}]}]},{\"type\":\"model\",\"name\":\"Notification\",\"properties\":[{\"name\":\"background\",\"kind\":\"Any\",\"default\":null},{\"name\":\"duration\",\"kind\":\"Any\",\"default\":3000},{\"name\":\"icon\",\"kind\":\"Any\",\"default\":null},{\"name\":\"message\",\"kind\":\"Any\",\"default\":\"\"},{\"name\":\"notification_type\",\"kind\":\"Any\",\"default\":null},{\"name\":\"_destroyed\",\"kind\":\"Any\",\"default\":false}]},{\"type\":\"model\",\"name\":\"TemplateActions1\",\"properties\":[{\"name\":\"open_modal\",\"kind\":\"Any\",\"default\":0},{\"name\":\"close_modal\",\"kind\":\"Any\",\"default\":0}]},{\"type\":\"model\",\"name\":\"BootstrapTemplateActions1\",\"properties\":[{\"name\":\"open_modal\",\"kind\":\"Any\",\"default\":0},{\"name\":\"close_modal\",\"kind\":\"Any\",\"default\":0}]},{\"type\":\"model\",\"name\":\"TemplateEditor1\",\"properties\":[{\"name\":\"layout\",\"kind\":\"Any\",\"default\":[]}]},{\"type\":\"model\",\"name\":\"MaterialTemplateActions1\",\"properties\":[{\"name\":\"open_modal\",\"kind\":\"Any\",\"default\":0},{\"name\":\"close_modal\",\"kind\":\"Any\",\"default\":0}]},{\"type\":\"model\",\"name\":\"copy_to_clipboard1\",\"properties\":[{\"name\":\"fill\",\"kind\":\"Any\",\"default\":\"none\"},{\"name\":\"value\",\"kind\":\"Any\",\"default\":null}]}]}};\n",
       "  var render_items = [{\"docid\":\"eca76814-9aab-4e35-a9e5-ac4a6bc157c9\",\"roots\":{\"20ca2643-7978-44c5-ba1f-ddc29156576b\":\"a5a984d1-4546-4aca-9c93-184ef1fb3c0d\"},\"root_ids\":[\"20ca2643-7978-44c5-ba1f-ddc29156576b\"]}];\n",
       "  var docs = Object.values(docs_json)\n",
       "  if (!docs) {\n",
       "    return\n",
       "  }\n",
       "  const py_version = docs[0].version.replace('rc', '-rc.').replace('.dev', '-dev.')\n",
       "  function embed_document(root) {\n",
       "    var Bokeh = get_bokeh(root)\n",
       "    Bokeh.embed.embed_items_notebook(docs_json, render_items);\n",
       "    for (const render_item of render_items) {\n",
       "      for (const root_id of render_item.root_ids) {\n",
       "\tconst id_el = document.getElementById(root_id)\n",
       "\tif (id_el.children.length && (id_el.children[0].className === 'bk-root')) {\n",
       "\t  const root_el = id_el.children[0]\n",
       "\t  root_el.id = root_el.id + '-rendered'\n",
       "\t}\n",
       "      }\n",
       "    }\n",
       "  }\n",
       "  function get_bokeh(root) {\n",
       "    if (root.Bokeh === undefined) {\n",
       "      return null\n",
       "    } else if (root.Bokeh.version !== py_version) {\n",
       "      if (root.Bokeh.versions === undefined || !root.Bokeh.versions.has(py_version)) {\n",
       "\treturn null\n",
       "      }\n",
       "      return root.Bokeh.versions.get(py_version);\n",
       "    } else if (root.Bokeh.version === py_version) {\n",
       "      return root.Bokeh\n",
       "    }\n",
       "    return null\n",
       "  }\n",
       "  function is_loaded(root) {\n",
       "    var Bokeh = get_bokeh(root)\n",
       "    return (Bokeh != null && Bokeh.Panel !== undefined)\n",
       "  }\n",
       "  if (is_loaded(root)) {\n",
       "    embed_document(root);\n",
       "  } else {\n",
       "    var attempts = 0;\n",
       "    var timer = setInterval(function(root) {\n",
       "      if (is_loaded(root)) {\n",
       "        clearInterval(timer);\n",
       "        embed_document(root);\n",
       "      } else if (document.readyState == \"complete\") {\n",
       "        attempts++;\n",
       "        if (attempts > 200) {\n",
       "          clearInterval(timer);\n",
       "\t  var Bokeh = get_bokeh(root)\n",
       "\t  if (Bokeh == null || Bokeh.Panel == null) {\n",
       "            console.warn(\"Panel: ERROR: Unable to run Panel code because Bokeh or Panel library is missing\");\n",
       "\t  } else {\n",
       "\t    console.warn(\"Panel: WARNING: Attempting to render but not all required libraries could be resolved.\")\n",
       "\t    embed_document(root)\n",
       "\t  }\n",
       "        }\n",
       "      }\n",
       "    }, 25, root)\n",
       "  }\n",
       "})(window);</script>"
      ]
     },
     "metadata": {
      "application/vnd.holoviews_exec.v0+json": {
       "id": "20ca2643-7978-44c5-ba1f-ddc29156576b"
      }
     },
     "output_type": "display_data"
    }
   ],
   "source": [
    "import param\n",
    "import panel as pn\n",
    "pn.extension()\n",
    "import datetime as dt\n",
    "import importlib\n",
    "from importlib import reload\n",
    "from tqdm import tqdm"
   ]
  },
  {
   "cell_type": "code",
   "execution_count": 5,
   "id": "b953ada0-a09f-4d69-8a01-5776b4539a73",
   "metadata": {},
   "outputs": [
    {
     "name": "stderr",
     "output_type": "stream",
     "text": [
      "2024-05-20 22:30:55.158299: I tensorflow/core/util/port.cc:113] oneDNN custom operations are on. You may see slightly different numerical results due to floating-point round-off errors from different computation orders. To turn them off, set the environment variable `TF_ENABLE_ONEDNN_OPTS=0`.\n",
      "2024-05-20 22:30:55.978430: I tensorflow/core/platform/cpu_feature_guard.cc:210] This TensorFlow binary is optimized to use available CPU instructions in performance-critical operations.\n",
      "To enable the following instructions: AVX2 AVX_VNNI FMA, in other operations, rebuild TensorFlow with the appropriate compiler flags.\n",
      "2024-05-20 22:30:59.391856: W tensorflow/compiler/tf2tensorrt/utils/py_utils.cc:38] TF-TRT Warning: Could not find TensorRT\n"
     ]
    }
   ],
   "source": [
    "import graph as gr\n",
    "import params as par\n",
    "import py_lib as lib\n",
    "reload(gr)\n",
    "reload(par)\n",
    "reload(lib)\n",
    "import graph as gr\n",
    "import params as par\n",
    "import py_lib as lib"
   ]
  },
  {
   "cell_type": "code",
   "execution_count": 6,
   "id": "61b8d2c3-0e75-4c18-9302-f84c57178aed",
   "metadata": {},
   "outputs": [],
   "source": [
    "format_dict = par.create_format_dict()"
   ]
  },
  {
   "cell_type": "code",
   "execution_count": 7,
   "id": "564b77f3",
   "metadata": {},
   "outputs": [],
   "source": [
    "class NotebookParams(param.Parameterized):\n",
    "    lambda_multiple          = param.Number(1, bounds=(1,10), doc=\"lambda Lasso Multiple of 10^x\")\n",
    "    lambda_power             = param.Integer(default=2, bounds=(1,7),doc=\"lambda Lasso exponent of 10^x\")\n",
    "    lr_multiple              = param.Number(5, bounds=(1,10), doc=\"Learning Rate Multiple of 10^x\")\n",
    "    lr_power                 = param.Integer(default=3, bounds=(1,9),doc=\"Learning Rate exponent of 10^x\")\n",
    "    epochs                   = param.Integer(default=2000 ,bounds=(1,2000))\n",
    "    data_set                 = param.ObjectSelector(default=\"test\",objects=['train', 'validation', 'train + validation', 'test'])\n",
    "    stand_features           = param.Boolean(False, doc=\"Whether we want to standardize numerical features\")\n",
    "    use_lasso                = param.Boolean(True)\n",
    "    use_focal_loss           = param.Boolean(True)\n",
    "    iter_array               = param.Integer(default=5, bounds=(1,20),doc=\"How often to save loss and training data, in epochs\")\n",
    "    iter_printing            = param.Integer(default=5, bounds=(1,100),doc=\"How many epochs between printing\")\n",
    "    add_one_hot_encoded      = param.Boolean(False, doc=\"Whether to add one hot encoded columns from categorical variables\")\n",
    "    test_size                = param.Number(0.2, bounds=(0.1,0.9), doc=\"Test size for train_test_split\")\n",
    "    random_state_test_train_split = param.Integer(42)\n",
    "base = NotebookParams()"
   ]
  },
  {
   "cell_type": "markdown",
   "id": "607e05bd-0726-41dd-bf81-4d428149a5ac",
   "metadata": {},
   "source": [
    "# Import Data"
   ]
  },
  {
   "cell_type": "code",
   "execution_count": 8,
   "id": "9418bc11-4422-477c-bdc6-9d0ce573c0e7",
   "metadata": {},
   "outputs": [],
   "source": [
    "# df_heart = pd.read_csv('../data_proj2/ptbdb_train.csv')\n",
    "df_heart_test = pd.read_csv('../data_proj2/mitbih_test.csv', header=None)\n",
    "df_heart_train = pd.read_csv('../data_proj2/mitbih_train.csv', header=None)"
   ]
  },
  {
   "cell_type": "code",
   "execution_count": 9,
   "id": "62beaa62-7c99-4b98-bcdf-8345da39415b",
   "metadata": {},
   "outputs": [
    {
     "data": {
      "text/html": [
       "<div>\n",
       "<style scoped>\n",
       "    .dataframe tbody tr th:only-of-type {\n",
       "        vertical-align: middle;\n",
       "    }\n",
       "\n",
       "    .dataframe tbody tr th {\n",
       "        vertical-align: top;\n",
       "    }\n",
       "\n",
       "    .dataframe thead th {\n",
       "        text-align: right;\n",
       "    }\n",
       "</style>\n",
       "<table border=\"1\" class=\"dataframe\">\n",
       "  <thead>\n",
       "    <tr style=\"text-align: right;\">\n",
       "      <th></th>\n",
       "      <th>0</th>\n",
       "      <th>1</th>\n",
       "      <th>2</th>\n",
       "      <th>3</th>\n",
       "      <th>4</th>\n",
       "      <th>5</th>\n",
       "      <th>6</th>\n",
       "      <th>7</th>\n",
       "      <th>8</th>\n",
       "      <th>9</th>\n",
       "      <th>...</th>\n",
       "      <th>178</th>\n",
       "      <th>179</th>\n",
       "      <th>180</th>\n",
       "      <th>181</th>\n",
       "      <th>182</th>\n",
       "      <th>183</th>\n",
       "      <th>184</th>\n",
       "      <th>185</th>\n",
       "      <th>186</th>\n",
       "      <th>187</th>\n",
       "    </tr>\n",
       "  </thead>\n",
       "  <tbody>\n",
       "    <tr>\n",
       "      <th>0</th>\n",
       "      <td>0.977941</td>\n",
       "      <td>0.926471</td>\n",
       "      <td>0.681373</td>\n",
       "      <td>0.245098</td>\n",
       "      <td>0.154412</td>\n",
       "      <td>0.191176</td>\n",
       "      <td>0.151961</td>\n",
       "      <td>0.085784</td>\n",
       "      <td>0.058824</td>\n",
       "      <td>0.049020</td>\n",
       "      <td>...</td>\n",
       "      <td>0.0</td>\n",
       "      <td>0.0</td>\n",
       "      <td>0.0</td>\n",
       "      <td>0.0</td>\n",
       "      <td>0.0</td>\n",
       "      <td>0.0</td>\n",
       "      <td>0.0</td>\n",
       "      <td>0.0</td>\n",
       "      <td>0.0</td>\n",
       "      <td>0.0</td>\n",
       "    </tr>\n",
       "    <tr>\n",
       "      <th>1</th>\n",
       "      <td>0.960114</td>\n",
       "      <td>0.863248</td>\n",
       "      <td>0.461538</td>\n",
       "      <td>0.196581</td>\n",
       "      <td>0.094017</td>\n",
       "      <td>0.125356</td>\n",
       "      <td>0.099715</td>\n",
       "      <td>0.088319</td>\n",
       "      <td>0.074074</td>\n",
       "      <td>0.082621</td>\n",
       "      <td>...</td>\n",
       "      <td>0.0</td>\n",
       "      <td>0.0</td>\n",
       "      <td>0.0</td>\n",
       "      <td>0.0</td>\n",
       "      <td>0.0</td>\n",
       "      <td>0.0</td>\n",
       "      <td>0.0</td>\n",
       "      <td>0.0</td>\n",
       "      <td>0.0</td>\n",
       "      <td>0.0</td>\n",
       "    </tr>\n",
       "    <tr>\n",
       "      <th>2</th>\n",
       "      <td>1.000000</td>\n",
       "      <td>0.659459</td>\n",
       "      <td>0.186486</td>\n",
       "      <td>0.070270</td>\n",
       "      <td>0.070270</td>\n",
       "      <td>0.059459</td>\n",
       "      <td>0.056757</td>\n",
       "      <td>0.043243</td>\n",
       "      <td>0.054054</td>\n",
       "      <td>0.045946</td>\n",
       "      <td>...</td>\n",
       "      <td>0.0</td>\n",
       "      <td>0.0</td>\n",
       "      <td>0.0</td>\n",
       "      <td>0.0</td>\n",
       "      <td>0.0</td>\n",
       "      <td>0.0</td>\n",
       "      <td>0.0</td>\n",
       "      <td>0.0</td>\n",
       "      <td>0.0</td>\n",
       "      <td>0.0</td>\n",
       "    </tr>\n",
       "  </tbody>\n",
       "</table>\n",
       "<p>3 rows × 188 columns</p>\n",
       "</div>"
      ],
      "text/plain": [
       "        0         1         2         3         4         5         6    \\\n",
       "0  0.977941  0.926471  0.681373  0.245098  0.154412  0.191176  0.151961   \n",
       "1  0.960114  0.863248  0.461538  0.196581  0.094017  0.125356  0.099715   \n",
       "2  1.000000  0.659459  0.186486  0.070270  0.070270  0.059459  0.056757   \n",
       "\n",
       "        7         8         9    ...  178  179  180  181  182  183  184  185  \\\n",
       "0  0.085784  0.058824  0.049020  ...  0.0  0.0  0.0  0.0  0.0  0.0  0.0  0.0   \n",
       "1  0.088319  0.074074  0.082621  ...  0.0  0.0  0.0  0.0  0.0  0.0  0.0  0.0   \n",
       "2  0.043243  0.054054  0.045946  ...  0.0  0.0  0.0  0.0  0.0  0.0  0.0  0.0   \n",
       "\n",
       "   186  187  \n",
       "0  0.0  0.0  \n",
       "1  0.0  0.0  \n",
       "2  0.0  0.0  \n",
       "\n",
       "[3 rows x 188 columns]"
      ]
     },
     "execution_count": 9,
     "metadata": {},
     "output_type": "execute_result"
    }
   ],
   "source": [
    "df_heart_train.head(3)"
   ]
  },
  {
   "cell_type": "code",
   "execution_count": 10,
   "id": "a73eca28",
   "metadata": {},
   "outputs": [
    {
     "data": {
      "text/plain": [
       "(87554, 188)"
      ]
     },
     "execution_count": 10,
     "metadata": {},
     "output_type": "execute_result"
    }
   ],
   "source": [
    "df_heart_train.shape"
   ]
  },
  {
   "cell_type": "code",
   "execution_count": 11,
   "id": "def29b16",
   "metadata": {},
   "outputs": [
    {
     "data": {
      "text/plain": [
       "Index([  0,   1,   2,   3,   4,   5,   6,   7,   8,   9,\n",
       "       ...\n",
       "       178, 179, 180, 181, 182, 183, 184, 185, 186, 187],\n",
       "      dtype='int64', length=188)"
      ]
     },
     "execution_count": 11,
     "metadata": {},
     "output_type": "execute_result"
    }
   ],
   "source": [
    "df_heart_train.columns"
   ]
  },
  {
   "cell_type": "code",
   "execution_count": 12,
   "id": "4d6a0013",
   "metadata": {},
   "outputs": [
    {
     "name": "stdout",
     "output_type": "stream",
     "text": [
      "The test split has 21892 rows, or 20.00% of all examples (which represent 109446 rows).\n"
     ]
    }
   ],
   "source": [
    "n_train_examples = df_heart_train.shape[0]\n",
    "n_test_examples = df_heart_test.shape[0]\n",
    "n_total_examples = n_train_examples + n_test_examples\n",
    "print(f'The test split has {n_test_examples} rows, or {n_test_examples/n_total_examples:.2%} of all examples (which represent {n_total_examples} rows).')"
   ]
  },
  {
   "cell_type": "markdown",
   "id": "57cb078b",
   "metadata": {},
   "source": [
    "## Labels"
   ]
  },
  {
   "cell_type": "code",
   "execution_count": 13,
   "id": "7fd2b238",
   "metadata": {},
   "outputs": [
    {
     "data": {
      "text/html": [
       "<style type=\"text/css\">\n",
       "</style>\n",
       "<table id=\"T_a0f30\">\n",
       "  <thead>\n",
       "    <tr>\n",
       "      <th class=\"blank level0\" >&nbsp;</th>\n",
       "      <th id=\"T_a0f30_level0_col0\" class=\"col_heading level0 col0\" >0.0</th>\n",
       "      <th id=\"T_a0f30_level0_col1\" class=\"col_heading level0 col1\" >4.0</th>\n",
       "      <th id=\"T_a0f30_level0_col2\" class=\"col_heading level0 col2\" >2.0</th>\n",
       "      <th id=\"T_a0f30_level0_col3\" class=\"col_heading level0 col3\" >1.0</th>\n",
       "      <th id=\"T_a0f30_level0_col4\" class=\"col_heading level0 col4\" >3.0</th>\n",
       "    </tr>\n",
       "  </thead>\n",
       "  <tbody>\n",
       "    <tr>\n",
       "      <th id=\"T_a0f30_level0_row0\" class=\"row_heading level0 row0\" >proportion</th>\n",
       "      <td id=\"T_a0f30_row0_col0\" class=\"data row0 col0\" >83%</td>\n",
       "      <td id=\"T_a0f30_row0_col1\" class=\"data row0 col1\" >7%</td>\n",
       "      <td id=\"T_a0f30_row0_col2\" class=\"data row0 col2\" >7%</td>\n",
       "      <td id=\"T_a0f30_row0_col3\" class=\"data row0 col3\" >3%</td>\n",
       "      <td id=\"T_a0f30_row0_col4\" class=\"data row0 col4\" >1%</td>\n",
       "    </tr>\n",
       "  </tbody>\n",
       "</table>\n"
      ],
      "text/plain": [
       "<pandas.io.formats.style.Styler at 0x7f4f7da3ac20>"
      ]
     },
     "execution_count": 13,
     "metadata": {},
     "output_type": "execute_result"
    }
   ],
   "source": [
    "label_col = list(df_heart_train.columns)[-1]\n",
    "labels_count = df_heart_train[label_col].value_counts(normalize=True).to_frame().T\n",
    "labels_count.columns = [str(x) for x in labels_count.columns]\n",
    "n_classes = len(labels_count.columns)\n",
    "labels_count.style.format(format_dict)"
   ]
  },
  {
   "cell_type": "code",
   "execution_count": 14,
   "id": "64cc6a19",
   "metadata": {},
   "outputs": [
    {
     "name": "stderr",
     "output_type": "stream",
     "text": [
      "/home/pinolej/eth/healthcare/proj3/task_1/graph.py:146: UserWarning: FigureCanvasAgg is non-interactive, and thus cannot be shown\n",
      "  fig.show()\n"
     ]
    },
    {
     "data": {
      "image/png": "[encoded data removed]",
      "text/plain": [
       "<Figure size 600x300 with 2 Axes>"
      ]
     },
     "metadata": {},
     "output_type": "display_data"
    }
   ],
   "source": [
    "gr.dist_mult_plots(\n",
    "    df_heart_train,\n",
    "    cols=[label_col],\n",
    "\t\trename_cols_for_title={label_col: 'Proportions of outcomes'},\n",
    "    figsize=(6, 3),\n",
    "    ncols=2,\n",
    "    bar_plot=True,\n",
    "    fontsize={\n",
    "        'ax_title': 10,\n",
    "    },\n",
    ")"
   ]
  },
  {
   "cell_type": "markdown",
   "id": "8f79eb46",
   "metadata": {},
   "source": [
    "## Features pre-processing"
   ]
  },
  {
   "cell_type": "code",
   "execution_count": 16,
   "id": "efcdadca",
   "metadata": {},
   "outputs": [],
   "source": [
    "x_train_0, x_test_0, y_train_0, y_test_0 = lib.pre_process_ecg(\n",
    "        df_heart_train,\n",
    "        label_col_pos=-1,\n",
    "        test_size=base.test_size,\n",
    "        random_state=3,\n",
    "        split_data=False,\n",
    "\t\t\t\twith_lstm_transfo=False,\n",
    "\t\t\t\tfor_keras=True,\n",
    "\t\t\t\tn_classes=n_classes,\n",
    ")"
   ]
  },
  {
   "cell_type": "markdown",
   "id": "4518758e",
   "metadata": {},
   "source": [
    "# Q2-1: Pretrain an encoder\n",
    "\n",
    "Pretrain an encoder using the objective of your choice on the training set of the MIT-BIH dataset"
   ]
  },
  {
   "cell_type": "code",
   "execution_count": 17,
   "id": "696977a6",
   "metadata": {},
   "outputs": [],
   "source": [
    "import tensorflow as tf\n",
    "from tensorflow.keras import layers, models\n",
    "from tensorflow.keras.layers import Input, LSTM, Dense, Lambda\n",
    "from tensorflow.keras.models import Model\n",
    "from tensorflow.keras import backend as K"
   ]
  },
  {
   "cell_type": "markdown",
   "id": "1c876d96",
   "metadata": {},
   "source": [
    "I use `n_neurons = 40` in the last Dense layer of the encoder, to match the dimension of the encoder of question 1. \n",
    "\n",
    "Remember the architecture of encoder 1, before the activation head, with the parameter `n_neurons = 120`:\n",
    "\n",
    "> \t\tmodel.add(Dense(n_neurons, activation='relu', input_shape=(input_dim,)))\n",
    "> \t\tmodel.add(Dropout(final_dropout))\n",
    "> \t\tmodel.add(Dense(int(2*n_neurons/3), activation='relu', input_shape=(input_dim,)))\n",
    "> \t\tmodel.add(Dropout(final_dropout))\n",
    "> \t\tmodel.add(Dense(int(n_neurons/3), activation='relu', input_shape=(input_dim,)))\n",
    "\n",
    "As the last (non-activation) layer has a dimension of `int(n_neurons/3)`, we are getting the same dimension of `40` in both encoders.\n",
    "\n"
   ]
  },
  {
   "cell_type": "code",
   "execution_count": 18,
   "id": "1b6395eb",
   "metadata": {},
   "outputs": [],
   "source": [
    "n_neurons = 40\n",
    "\n",
    "num_samples = x_train_0.shape[0]\n",
    "\n",
    "x_train_0_subset = x_train_0[:num_samples, :]\n",
    "y_train_0_subset = y_train_0[:num_samples, :]\n",
    "\n",
    "seq_length = x_train_0_subset.shape[1]\n",
    "input_dim = 1\n",
    "num_classes = n_classes\n",
    "\n",
    "x_train_0_subset = x_train_0_subset.reshape(num_samples, seq_length, input_dim)"
   ]
  },
  {
   "cell_type": "code",
   "execution_count": 20,
   "id": "e46aa122",
   "metadata": {},
   "outputs": [],
   "source": [
    "# Step 1: Data Preparation\n",
    "def generate_pairs(data, augment_fn, batch_size=32):\n",
    "    while True:\n",
    "        idx = np.random.choice(len(data), batch_size, replace=False)\n",
    "        x1 = data[idx]\n",
    "        x2 = augment_fn(x1)\n",
    "        yield x1, x2\n",
    "\n",
    "def augment_fn(x):\n",
    "    noise = tf.random.normal(shape=tf.shape(x), mean=0.0, stddev=0.1)\n",
    "    return x + noise\n",
    "\n",
    "# Step 2: Define the Encoder Model\n",
    "def create_encoder(input_shape):\n",
    "    inputs = layers.Input(shape=input_shape)\n",
    "    x = layers.Conv1D(64, kernel_size=3, activation='relu')(inputs)\n",
    "    x = layers.MaxPooling1D(pool_size=2)(x)\n",
    "    x = layers.Conv1D(128, kernel_size=3, activation='relu')(x)\n",
    "    x = layers.GlobalAveragePooling1D()(x)\n",
    "\n",
    "\t\t# This is where the dimension of the pre-training representation is decided, with `n_neurons`\n",
    "    outputs = layers.Dense(n_neurons, activation=None)(x)\n",
    "    model = models.Model(inputs, outputs)\n",
    "    return model\n",
    "\n",
    "# Step 3: Define the InfoNCE Loss Function\n",
    "def contrastive_loss(z_i, z_j, temperature=0.1):\n",
    "    batch_size = tf.shape(z_i)[0]\n",
    "    z_i = tf.math.l2_normalize(z_i, axis=1)\n",
    "    z_j = tf.math.l2_normalize(z_j, axis=1)\n",
    "    similarity_matrix = tf.matmul(z_i, z_j, transpose_b=True) / temperature\n",
    "    labels = tf.range(batch_size)\n",
    "    loss_i = tf.nn.sparse_softmax_cross_entropy_with_logits(labels, similarity_matrix)\n",
    "    loss_j = tf.nn.sparse_softmax_cross_entropy_with_logits(labels, tf.transpose(similarity_matrix))\n",
    "    loss = tf.reduce_mean(loss_i + loss_j)\n",
    "    return loss\n",
    "\n",
    "# Step 4: Pre-Training with InfoNCE\n",
    "input_shape = (seq_length, input_dim)\n",
    "encoder = create_encoder(input_shape)\n",
    "optimizer = tf.keras.optimizers.Adam()\n",
    "\n",
    "@tf.function\n",
    "def train_step(x1, x2):\n",
    "    with tf.GradientTape() as tape:\n",
    "        z_i = encoder(x1, training=True)\n",
    "        z_j = encoder(x2, training=True)\n",
    "        loss = contrastive_loss(z_i, z_j)\n",
    "    gradients = tape.gradient(loss, encoder.trainable_variables)\n",
    "    optimizer.apply_gradients(zip(gradients, encoder.trainable_variables))\n",
    "    return loss\n",
    "\n",
    "batch_size = 32\n",
    "epochs = 12\n",
    "steps_per_epoch = num_samples // batch_size\n",
    "\n",
    "loss_curve = []"
   ]
  },
  {
   "cell_type": "markdown",
   "id": "bf5f0cd9",
   "metadata": {},
   "source": [
    "**Training**"
   ]
  },
  {
   "cell_type": "code",
   "execution_count": 21,
   "id": "e6b57067",
   "metadata": {},
   "outputs": [
    {
     "name": "stdout",
     "output_type": "stream",
     "text": [
      "Epoch 1, Step 0, Loss: 6.899510383605957\n",
      "Epoch 1, Step 100, Loss: 2.666623115539551\n",
      "Epoch 1, Step 200, Loss: 2.1493401527404785\n",
      "Epoch 1, Step 300, Loss: 1.8228131532669067\n",
      "Epoch 1, Step 400, Loss: 1.4606037139892578\n",
      "Epoch 1, Step 500, Loss: 1.6818628311157227\n",
      "Epoch 1, Step 600, Loss: 1.2089964151382446\n",
      "Epoch 1, Step 700, Loss: 1.030773639678955\n",
      "Epoch 1, Step 800, Loss: 1.2837612628936768\n",
      "Epoch 1, Step 900, Loss: 1.0449120998382568\n",
      "Epoch 1, Step 1000, Loss: 0.8127871751785278\n",
      "Epoch 1, Step 1100, Loss: 1.019716501235962\n",
      "Epoch 1, Step 1200, Loss: 1.0483208894729614\n",
      "Epoch 1, Step 1300, Loss: 0.8178204298019409\n",
      "Epoch 1, Step 1400, Loss: 0.577897846698761\n",
      "Epoch 1, Step 1500, Loss: 0.5758307576179504\n",
      "Epoch 1, Step 1600, Loss: 0.6399256587028503\n",
      "Epoch 1, Step 1700, Loss: 0.7026141881942749\n",
      "Epoch 1, Step 1800, Loss: 0.9931478500366211\n",
      "Epoch 1, Step 1900, Loss: 0.4121646583080292\n",
      "Epoch 1, Step 2000, Loss: 0.9740930795669556\n",
      "Epoch 1, Step 2100, Loss: 0.7369043827056885\n",
      "Epoch 1, Step 2200, Loss: 0.7415387630462646\n",
      "Epoch 1, Step 2300, Loss: 0.4987561106681824\n",
      "Epoch 1, Step 2400, Loss: 0.4656319320201874\n",
      "Epoch 1, Step 2500, Loss: 0.6630715131759644\n",
      "Epoch 1, Step 2600, Loss: 0.5124565958976746\n",
      "Epoch 1, Step 2700, Loss: 0.37559565901756287\n",
      "Epoch 2, Step 0, Loss: 0.7022532224655151\n",
      "Epoch 2, Step 100, Loss: 0.5105157494544983\n",
      "Epoch 2, Step 200, Loss: 0.556281328201294\n",
      "Epoch 2, Step 300, Loss: 0.39794960618019104\n",
      "Epoch 2, Step 400, Loss: 0.7529295682907104\n",
      "Epoch 2, Step 500, Loss: 0.32891756296157837\n",
      "Epoch 2, Step 600, Loss: 0.48717355728149414\n",
      "Epoch 2, Step 700, Loss: 0.6874114274978638\n",
      "Epoch 2, Step 800, Loss: 0.5216072201728821\n",
      "Epoch 2, Step 900, Loss: 0.5787764191627502\n",
      "Epoch 2, Step 1000, Loss: 0.5105525255203247\n",
      "Epoch 2, Step 1100, Loss: 0.39863139390945435\n",
      "Epoch 2, Step 1200, Loss: 0.5619488954544067\n",
      "Epoch 2, Step 1300, Loss: 0.5330244302749634\n",
      "Epoch 2, Step 1400, Loss: 0.46780329942703247\n",
      "Epoch 2, Step 1500, Loss: 0.46969789266586304\n"
     ]
    }
   ],
   "source": [
    "for epoch in range(epochs):\n",
    "\t\tfor step in range(steps_per_epoch):\n",
    "\t\t\t\tx1, x2 = next(generate_pairs(x_train_0_subset, augment_fn, batch_size))\n",
    "\t\t\t\tloss = train_step(x1, x2)\n",
    "\t\t\t\tif step % 100 == 0:\n",
    "\t\t\t\t\t\tprint(f\"Epoch {epoch + 1}, Step {step}, Loss: {loss.numpy()}\")\n",
    "\t\t\t\t\t\tloss_curve.append(loss)"
   ]
  },
  {
   "cell_type": "code",
   "execution_count": null,
   "id": "ab5a1ea1",
   "metadata": {},
   "outputs": [
    {
     "data": {
      "text/plain": [
       "Text(0, 0.5, 'loss')"
      ]
     },
     "execution_count": 134,
     "metadata": {},
     "output_type": "execute_result"
    },
    {
     "data": {
      "image/png": "[encoded data removed]",
      "text/plain": [
       "<Figure size 600x450 with 1 Axes>"
      ]
     },
     "metadata": {},
     "output_type": "display_data"
    }
   ],
   "source": [
    "fig, axes = plt.subplots(1, 1, figsize = (6,4.5))\n",
    "axes.plot(loss_curve)\n",
    "# axes[0].plot(history.history['val_accuracy'],'--')\n",
    "axes.set_title('training loss')\n",
    "axes.set_ylabel('loss')"
   ]
  },
  {
   "cell_type": "code",
   "execution_count": 136,
   "id": "5adfdbd6",
   "metadata": {},
   "outputs": [
    {
     "name": "stderr",
     "output_type": "stream",
     "text": [
      "WARNING:absl:You are saving your model as an HDF5 file via `model.save()` or `keras.saving.save_model(model)`. This file format is considered legacy. We recommend using instead the native Keras format, e.g. `model.save('my_model.keras')` or `keras.saving.save_model(model, 'my_model.keras')`. \n"
     ]
    },
    {
     "name": "stdout",
     "output_type": "stream",
     "text": [
      "Saved model to disk\n"
     ]
    }
   ],
   "source": [
    "# equivalent to: model.save(\"model.h5\")\n",
    "from tensorflow.keras.models import save_model\n",
    "# save_model(model, \"model_second_save.h5\")\n",
    "# save model and architecture to single file\n",
    "encoder.save(\"encoder_2.h5\")\n",
    "encoder.save('encoder_2.keras')\n",
    "print(\"Saved model to disk\")"
   ]
  },
  {
   "cell_type": "markdown",
   "id": "eb220c63",
   "metadata": {},
   "source": [
    "# Q2-2: Pretraining Evaluation on MIT-BIH\n",
    "\n",
    "Evaluation of the Pretraining: train a classic ML method from Part 1 to predict the MIT-BIH labels from the learned representations of the training set and evaluate the representation learning quality on the test set of the MIT-BIH dataset"
   ]
  },
  {
   "cell_type": "code",
   "execution_count": null,
   "id": "713f10fb",
   "metadata": {},
   "outputs": [],
   "source": [
    "x_train_0_reshaped = x_train_0.reshape(num_samples, seq_length, 1)"
   ]
  },
  {
   "cell_type": "code",
   "execution_count": 216,
   "id": "15b8b0f2",
   "metadata": {},
   "outputs": [],
   "source": [
    "import tensorflow as tf\n",
    "from tensorflow.keras import backend as K\n",
    "from keras.optimizers import  SGD\n",
    "from keras.optimizers import  RMSprop\n",
    "from keras.optimizers import Adam\n",
    "\n",
    "def focal_loss(gamma=2., alpha=0.25):\n",
    "    def focal_loss_fixed(y_true, y_pred):\n",
    "        epsilon = K.epsilon()\n",
    "        y_pred = K.clip(y_pred, epsilon, 1. - epsilon)\n",
    "        y_true = tf.cast(y_true, tf.float32)\n",
    "        \n",
    "        alpha_t = y_true * alpha + (K.ones_like(y_true) - y_true) * (1 - alpha)\n",
    "        p_t = y_true * y_pred + (K.ones_like(y_true) - y_true) * (1 - y_pred)\n",
    "        fl = - alpha_t * K.pow((K.ones_like(y_true) - p_t), gamma) * K.log(p_t)\n",
    "        \n",
    "        return K.mean(fl)\n",
    "    return focal_loss_fixed"
   ]
  },
  {
   "cell_type": "code",
   "execution_count": 217,
   "id": "e107764e",
   "metadata": {},
   "outputs": [],
   "source": [
    "from keras.callbacks import ReduceLROnPlateau\n",
    "learning_rate_reduction = ReduceLROnPlateau(monitor='val_accuracy', patience = 2, verbose=1,factor=0.3, min_lr=0.000001)"
   ]
  },
  {
   "cell_type": "code",
   "execution_count": 299,
   "id": "b3967b19",
   "metadata": {},
   "outputs": [],
   "source": [
    "learning_rate=0.001\n",
    "use_focal=False\n",
    "clipnorm=0.5\n",
    "use_sgd_opt=False\n",
    "use_rms_opt=False"
   ]
  },
  {
   "cell_type": "code",
   "execution_count": 300,
   "id": "a42a50cc",
   "metadata": {},
   "outputs": [
    {
     "name": "stdout",
     "output_type": "stream",
     "text": [
      "Epoch 1/6\n",
      "\u001b[1m219/219\u001b[0m \u001b[32m━━━━━━━━━━━━━━━━━━━━\u001b[0m\u001b[37m\u001b[0m \u001b[1m12s\u001b[0m 48ms/step - accuracy: 0.7627 - loss: 1.5415 - val_accuracy: 0.8318 - val_loss: 1.3474\n",
      "Epoch 2/6\n",
      "\u001b[1m219/219\u001b[0m \u001b[32m━━━━━━━━━━━━━━━━━━━━\u001b[0m\u001b[37m\u001b[0m \u001b[1m18s\u001b[0m 39ms/step - accuracy: 0.8242 - loss: 1.2955 - val_accuracy: 0.8318 - val_loss: 1.1392\n",
      "Epoch 3/6\n",
      "\u001b[1m219/219\u001b[0m \u001b[32m━━━━━━━━━━━━━━━━━━━━\u001b[0m\u001b[37m\u001b[0m \u001b[1m9s\u001b[0m 41ms/step - accuracy: 0.8249 - loss: 1.1028 - val_accuracy: 0.8318 - val_loss: 0.9838\n",
      "Epoch 4/6\n",
      "\u001b[1m219/219\u001b[0m \u001b[32m━━━━━━━━━━━━━━━━━━━━\u001b[0m\u001b[37m\u001b[0m \u001b[1m10s\u001b[0m 41ms/step - accuracy: 0.8261 - loss: 0.9602 - val_accuracy: 0.8318 - val_loss: 0.8731\n",
      "Epoch 5/6\n",
      "\u001b[1m219/219\u001b[0m \u001b[32m━━━━━━━━━━━━━━━━━━━━\u001b[0m\u001b[37m\u001b[0m \u001b[1m9s\u001b[0m 43ms/step - accuracy: 0.8238 - loss: 0.8637 - val_accuracy: 0.8318 - val_loss: 0.7968\n",
      "Epoch 6/6\n",
      "\u001b[1m219/219\u001b[0m \u001b[32m━━━━━━━━━━━━━━━━━━━━\u001b[0m\u001b[37m\u001b[0m \u001b[1m9s\u001b[0m 42ms/step - accuracy: 0.8214 - loss: 0.8001 - val_accuracy: 0.8318 - val_loss: 0.7448\n"
     ]
    }
   ],
   "source": [
    "# Step 5: Fine-Tuning with Supervised Learning\n",
    "# Use the learned encoder and add a classification head\n",
    "encoded_inputs = layers.Input(shape=(n_neurons,))\n",
    "classification_output = layers.Dense(num_classes, activation='softmax')(encoded_inputs)\n",
    "classification_model = models.Model(encoded_inputs, classification_output)\n",
    "\n",
    "# Freeze the encoder weights and create a full model\n",
    "encoder.trainable = False\n",
    "full_input = layers.Input(shape=(seq_length, input_dim))\n",
    "encoded_output = encoder(full_input)\n",
    "classification_output = classification_model(encoded_output)\n",
    "full_model = models.Model(full_input, classification_output)\n",
    "\n",
    "# Compile and train the full model with labels\n",
    "if use_sgd_opt:\n",
    "\topt = SGD(learning_rate=learning_rate, clipnorm=clipnorm)\n",
    "elif use_rms_opt:\n",
    "\topt = RMSprop(learning_rate=learning_rate, clipnorm=clipnorm)\n",
    "else:\n",
    "\topt = Adam(learning_rate=learning_rate)\n",
    "\n",
    "if use_focal:\n",
    "\tfull_model.compile(loss=focal_loss(), optimizer=opt, metrics=['accuracy'])\n",
    "\t# model.compile(loss=BinaryFocalCrossentropy(alpha=alpha_focal_loss), optimizer=opt, metrics=['accuracy'])\n",
    "else:\n",
    "\tfull_model.compile(loss='categorical_crossentropy', optimizer=opt, metrics=['accuracy'])\n",
    "# full_model.compile(optimizer='adam', loss='sparse_categorical_crossentropy', metrics=['accuracy'])\n",
    "history = full_model.fit(\n",
    "\tx_train_0_reshaped,\n",
    "\ty_train_0,\n",
    "\tbatch_size=batch_size*8,\n",
    "\tepochs=6,\n",
    "\t# validation_data=(x_test_0, y_test_0),\n",
    "\tvalidation_split=0.2,\n",
    "\t# callbacks = [learning_rate_reduction],\n",
    "\t)"
   ]
  },
  {
   "cell_type": "code",
   "execution_count": 301,
   "id": "c2a82706",
   "metadata": {},
   "outputs": [
    {
     "data": {
      "text/plain": [
       "<matplotlib.legend.Legend at 0x7f6dc0227e50>"
      ]
     },
     "execution_count": 301,
     "metadata": {},
     "output_type": "execute_result"
    },
    {
     "data": {
      "image/png": "[encoded data removed]",
      "text/plain": [
       "<Figure size 1600x600 with 2 Axes>"
      ]
     },
     "metadata": {},
     "output_type": "display_data"
    }
   ],
   "source": [
    "fig, axes = plt.subplots(1, 2, figsize = (16,6))\n",
    "axes[0].plot(history.history['accuracy'])\n",
    "axes[0].plot(history.history['val_accuracy'],'--')\n",
    "axes[0].set_title('model accuracy')\n",
    "axes[0].set_ylabel('accuracy')\n",
    "axes[0].set_xlabel('epoch')\n",
    "axes[0].legend(['train', 'val'], loc='lower right')\n",
    "\n",
    "axes[1].plot(history.history['loss'])\n",
    "axes[1].plot(history.history['val_loss'],\"--\")\n",
    "axes[1].set_title('model loss')\n",
    "axes[1].set_ylabel('accuracy')\n",
    "axes[1].set_xlabel('epoch')\n",
    "axes[1].legend(['val_loss', 'loss'], loc='lower right')"
   ]
  },
  {
   "cell_type": "markdown",
   "id": "2550efac",
   "metadata": {},
   "source": [
    "## Evaluation"
   ]
  },
  {
   "cell_type": "code",
   "execution_count": 302,
   "id": "f9683a96",
   "metadata": {},
   "outputs": [],
   "source": [
    "import py_lib as lib\n",
    "reload(lib)\n",
    "import py_lib as lib"
   ]
  },
  {
   "cell_type": "code",
   "execution_count": 303,
   "id": "90517e94",
   "metadata": {},
   "outputs": [],
   "source": [
    "x_eval, _, y_eval, _, torch_input = lib.pre_process_ecg(\n",
    "        df_heart_test,\n",
    "        label_col_pos=-1,\n",
    "        test_size=base.test_size,\n",
    "        random_state=base.random_state_test_train_split,\n",
    "        split_data=False,\n",
    "\t\t\t\twith_lstm_transfo=False,\n",
    "\t\t\t\tfor_keras=True,\n",
    "\t\t\t\tn_classes=n_classes,\n",
    "\t\t\t\toutput_torch_for_eval=True,\n",
    ")"
   ]
  },
  {
   "cell_type": "code",
   "execution_count": 304,
   "id": "0a662b45",
   "metadata": {},
   "outputs": [
    {
     "name": "stdout",
     "output_type": "stream",
     "text": [
      "\u001b[1m685/685\u001b[0m \u001b[32m━━━━━━━━━━━━━━━━━━━━\u001b[0m\u001b[37m\u001b[0m \u001b[1m7s\u001b[0m 10ms/step\n"
     ]
    }
   ],
   "source": [
    "y_pred_proba = full_model.predict(x_eval)\n",
    "y_pred_proba_tensor = torch.from_numpy(y_pred_proba)\n",
    "y_pred_class = np.argmax(y_pred_proba, axis=1)\n",
    "y_pred_class_df = pd.Series(y_pred_class)\n",
    "y_pred_class_tensor = torch.from_numpy(y_pred_class)\n",
    "y_true = np.argmax(y_eval, axis=1)\n",
    "y_true_tensor = torch.from_numpy(y_true)"
   ]
  },
  {
   "cell_type": "code",
   "execution_count": 305,
   "id": "2a2c2598",
   "metadata": {},
   "outputs": [
    {
     "data": {
      "text/plain": [
       "0    21892\n",
       "Name: count, dtype: int64"
      ]
     },
     "execution_count": 305,
     "metadata": {},
     "output_type": "execute_result"
    }
   ],
   "source": [
    "y_pred_class_df.value_counts()"
   ]
  },
  {
   "cell_type": "code",
   "execution_count": 306,
   "id": "ec0b2977",
   "metadata": {},
   "outputs": [],
   "source": [
    "from sklearn.metrics import f1_score\n",
    "from sklearn.metrics import accuracy_score, balanced_accuracy_score\n",
    "acc = accuracy_score(y_true, y_pred_class_tensor, normalize = True)  \n",
    "# bal_acc=balanced_accuracy_score(y_true_tensor,y_pred_class_tensor)\n",
    "bal_acc=balanced_accuracy_score(y_true,y_pred_class_tensor)\n",
    "# f1_score = BinaryF1Score()\n",
    "f1 = f1_score(y_pred_class, y_true, average='macro')\n",
    "summary_metrics = pd.DataFrame(data=[acc, bal_acc, f1], index=['Accuracy', 'Balanced Accuracy', 'F1 Score'], columns=['metrics']).T"
   ]
  },
  {
   "cell_type": "code",
   "execution_count": 307,
   "id": "cad3de93",
   "metadata": {},
   "outputs": [
    {
     "data": {
      "text/html": [
       "<style type=\"text/css\">\n",
       "</style>\n",
       "<table id=\"T_0d9c8\">\n",
       "  <thead>\n",
       "    <tr>\n",
       "      <th class=\"blank level0\" >&nbsp;</th>\n",
       "      <th id=\"T_0d9c8_level0_col0\" class=\"col_heading level0 col0\" >Accuracy</th>\n",
       "      <th id=\"T_0d9c8_level0_col1\" class=\"col_heading level0 col1\" >Balanced Accuracy</th>\n",
       "      <th id=\"T_0d9c8_level0_col2\" class=\"col_heading level0 col2\" >F1 Score</th>\n",
       "    </tr>\n",
       "  </thead>\n",
       "  <tbody>\n",
       "    <tr>\n",
       "      <th id=\"T_0d9c8_level0_row0\" class=\"row_heading level0 row0\" >metrics</th>\n",
       "      <td id=\"T_0d9c8_row0_col0\" class=\"data row0 col0\" >82.8%</td>\n",
       "      <td id=\"T_0d9c8_row0_col1\" class=\"data row0 col1\" >20.0%</td>\n",
       "      <td id=\"T_0d9c8_row0_col2\" class=\"data row0 col2\" >18.1%</td>\n",
       "    </tr>\n",
       "  </tbody>\n",
       "</table>\n"
      ],
      "text/plain": [
       "<pandas.io.formats.style.Styler at 0x7f6e1df53760>"
      ]
     },
     "execution_count": 307,
     "metadata": {},
     "output_type": "execute_result"
    }
   ],
   "source": [
    "summary_metrics.style.format(format_dict)"
   ]
  },
  {
   "cell_type": "code",
   "execution_count": 308,
   "id": "2d2a195b",
   "metadata": {},
   "outputs": [
    {
     "data": {
      "text/plain": [
       "[\"0: 'N'\", \"1: 'S'\", \"2: 'V'\", \"3: 'F'\", \"4: 'Q'\"]"
      ]
     },
     "execution_count": 308,
     "metadata": {},
     "output_type": "execute_result"
    }
   ],
   "source": [
    "classes_correspondances = {'N': 0, 'S': 1, 'V': 2, 'F': 3, 'Q': 4}\n",
    "classes_correspondances_inverted = {0:'N', 1:'S', 2:'V', 3:'F', 4:'Q'}\n",
    "list_for_graph_labels = []\n",
    "for i in range(5):\n",
    "\tlist_for_graph_labels.append(str(i) + f\": '{classes_correspondances_inverted[i]}'\")\n",
    "list_for_graph_labels"
   ]
  },
  {
   "cell_type": "code",
   "execution_count": 309,
   "id": "34502337",
   "metadata": {},
   "outputs": [
    {
     "data": {
      "text/plain": [
       "Text(0.5, 1.0, 'Confusion Matrix, dataset = test')"
      ]
     },
     "execution_count": 309,
     "metadata": {},
     "output_type": "execute_result"
    },
    {
     "data": {
      "image/png": "[encoded data removed]",
      "text/plain": [
       "<Figure size 600x500 with 2 Axes>"
      ]
     },
     "metadata": {},
     "output_type": "display_data"
    }
   ],
   "source": [
    "logreg_conf_matrix = confusion_matrix(y_true_tensor, y_pred_class_tensor)\n",
    "plt.figure(figsize = (6,5)) \n",
    "sns.set(font_scale=1.1) \n",
    "ax = sns.heatmap(\n",
    "    logreg_conf_matrix,\n",
    "    cmap='Blues',\n",
    "    annot=True,\n",
    "    fmt='d',\n",
    "    square=True,\n",
    "    xticklabels=list_for_graph_labels,\n",
    "    yticklabels=list_for_graph_labels)\n",
    "ax.set(xlabel='Predicted', ylabel='Actual')\n",
    "ax.invert_yaxis()\n",
    "# ax.invert_xaxis()\n",
    "ax.set_title('Confusion Matrix, dataset = {}'.format(base.data_set))"
   ]
  },
  {
   "cell_type": "code",
   "execution_count": 298,
   "id": "dcf1e691",
   "metadata": {},
   "outputs": [],
   "source": [
    "# # equivalent to: model.save(\"model.h5\")\n",
    "# from tensorflow.keras.models import save_model\n",
    "# # save_model(model, \"model_second_save.h5\")\n",
    "# # save model and architecture to single file\n",
    "# model_log.save(\"model_log.h5\")\n",
    "# model_log.save('model_log.keras')\n",
    "# print(\"Saved model to disk\")"
   ]
  },
  {
   "cell_type": "code",
   "execution_count": null,
   "id": "fbd4054f",
   "metadata": {},
   "outputs": [],
   "source": []
  }
 ],
 "metadata": {
  "kernelspec": {
   "display_name": "Python 3 (ipykernel)",
   "language": "python",
   "name": "python3"
  },
  "language_info": {
   "codemirror_mode": {
    "name": "ipython",
    "version": 3
   },
   "file_extension": ".py",
   "mimetype": "text/x-python",
   "name": "python",
   "nbconvert_exporter": "python",
   "pygments_lexer": "ipython3",
   "version": "3.10.12"
  }
 },
 "nbformat": 4,
 "nbformat_minor": 5
}

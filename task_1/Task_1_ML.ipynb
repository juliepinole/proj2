{
 "cells": [
  {
   "cell_type": "markdown",
   "id": "6c20ca57-2a9b-4511-8b89-593f94a630ee",
   "metadata": {},
   "source": [
    "Part 1 - Q2 - Classic ML Methods\n",
    "===\n",
    "\n",
    "I am going to implement, with and without features engineering:\n",
    "\n",
    "*  Logistic Regression\n",
    "*  Random Forest"
   ]
  },
  {
   "cell_type": "markdown",
   "id": "4249dc2f",
   "metadata": {},
   "source": []
  },
  {
   "cell_type": "code",
   "execution_count": 3,
   "id": "73c334c9",
   "metadata": {},
   "outputs": [],
   "source": [
    "import pandas as pd\n",
    "import numpy as np\n",
    "import matplotlib.pyplot as plt\n",
    "import seaborn as sns\n",
    "import neurokit2 as nk\n",
    "import tsfresh as tsf\n",
    "from tsfresh import extract_features\n",
    "import warnings"
   ]
  },
  {
   "cell_type": "code",
   "execution_count": 32,
   "id": "2dec4db4-a964-4878-93c3-480a3191919f",
   "metadata": {},
   "outputs": [],
   "source": [
    "%matplotlib inline\n",
    "import torch\n",
    "import torch.nn.functional as F"
   ]
  },
  {
   "cell_type": "code",
   "execution_count": 5,
   "id": "86be1e0e-6a7d-42e8-9c37-a5a9f3da9bf9",
   "metadata": {},
   "outputs": [],
   "source": [
    "from sklearn.preprocessing import MinMaxScaler\n",
    "from sklearn.model_selection import train_test_split\n",
    "from sklearn.metrics import confusion_matrix\n",
    "from sklearn.metrics import roc_curve, auc"
   ]
  },
  {
   "cell_type": "code",
   "execution_count": 6,
   "id": "da4974d8-5377-4c12-8ce7-4f9f720951d0",
   "metadata": {},
   "outputs": [
    {
     "data": {
      "application/javascript": "(function(root) {\n  function now() {\n    return new Date();\n  }\n\n  var force = true;\n  var py_version = '3.4.1'.replace('rc', '-rc.').replace('.dev', '-dev.');\n  var reloading = false;\n  var Bokeh = root.Bokeh;\n\n  if (typeof (root._bokeh_timeout) === \"undefined\" || force) {\n    root._bokeh_timeout = Date.now() + 5000;\n    root._bokeh_failed_load = false;\n  }\n\n  function run_callbacks() {\n    try {\n      root._bokeh_onload_callbacks.forEach(function(callback) {\n        if (callback != null)\n          callback();\n      });\n    } finally {\n      delete root._bokeh_onload_callbacks;\n    }\n    console.debug(\"Bokeh: all callbacks have finished\");\n  }\n\n  function load_libs(css_urls, js_urls, js_modules, js_exports, callback) {\n    if (css_urls == null) css_urls = [];\n    if (js_urls == null) js_urls = [];\n    if (js_modules == null) js_modules = [];\n    if (js_exports == null) js_exports = {};\n\n    root._bokeh_onload_callbacks.push(callback);\n\n    if (root._bokeh_is_loading > 0) {\n      console.debug(\"Bokeh: BokehJS is being loaded, scheduling callback at\", now());\n      return null;\n    }\n    if (js_urls.length === 0 && js_modules.length === 0 && Object.keys(js_exports).length === 0) {\n      run_callbacks();\n      return null;\n    }\n    if (!reloading) {\n      console.debug(\"Bokeh: BokehJS not loaded, scheduling load and callback at\", now());\n    }\n\n    function on_load() {\n      root._bokeh_is_loading--;\n      if (root._bokeh_is_loading === 0) {\n        console.debug(\"Bokeh: all BokehJS libraries/stylesheets loaded\");\n        run_callbacks()\n      }\n    }\n    window._bokeh_on_load = on_load\n\n    function on_error() {\n      console.error(\"failed to load \" + url);\n    }\n\n    var skip = [];\n    if (window.requirejs) {\n      window.requirejs.config({'packages': {}, 'paths': {}, 'shim': {}});\n      root._bokeh_is_loading = css_urls.length + 0;\n    } else {\n      root._bokeh_is_loading = css_urls.length + js_urls.length + js_modules.length + Object.keys(js_exports).length;\n    }\n\n    var existing_stylesheets = []\n    var links = document.getElementsByTagName('link')\n    for (var i = 0; i < links.length; i++) {\n      var link = links[i]\n      if (link.href != null) {\n\texisting_stylesheets.push(link.href)\n      }\n    }\n    for (var i = 0; i < css_urls.length; i++) {\n      var url = css_urls[i];\n      if (existing_stylesheets.indexOf(url) !== -1) {\n\ton_load()\n\tcontinue;\n      }\n      const element = document.createElement(\"link\");\n      element.onload = on_load;\n      element.onerror = on_error;\n      element.rel = \"stylesheet\";\n      element.type = \"text/css\";\n      element.href = url;\n      console.debug(\"Bokeh: injecting link tag for BokehJS stylesheet: \", url);\n      document.body.appendChild(element);\n    }    var existing_scripts = []\n    var scripts = document.getElementsByTagName('script')\n    for (var i = 0; i < scripts.length; i++) {\n      var script = scripts[i]\n      if (script.src != null) {\n\texisting_scripts.push(script.src)\n      }\n    }\n    for (var i = 0; i < js_urls.length; i++) {\n      var url = js_urls[i];\n      if (skip.indexOf(url) !== -1 || existing_scripts.indexOf(url) !== -1) {\n\tif (!window.requirejs) {\n\t  on_load();\n\t}\n\tcontinue;\n      }\n      var element = document.createElement('script');\n      element.onload = on_load;\n      element.onerror = on_error;\n      element.async = false;\n      element.src = url;\n      console.debug(\"Bokeh: injecting script tag for BokehJS library: \", url);\n      document.head.appendChild(element);\n    }\n    for (var i = 0; i < js_modules.length; i++) {\n      var url = js_modules[i];\n      if (skip.indexOf(url) !== -1 || existing_scripts.indexOf(url) !== -1) {\n\tif (!window.requirejs) {\n\t  on_load();\n\t}\n\tcontinue;\n      }\n      var element = document.createElement('script');\n      element.onload = on_load;\n      element.onerror = on_error;\n      element.async = false;\n      element.src = url;\n      element.type = \"module\";\n      console.debug(\"Bokeh: injecting script tag for BokehJS library: \", url);\n      document.head.appendChild(element);\n    }\n    for (const name in js_exports) {\n      var url = js_exports[name];\n      if (skip.indexOf(url) >= 0 || root[name] != null) {\n\tif (!window.requirejs) {\n\t  on_load();\n\t}\n\tcontinue;\n      }\n      var element = document.createElement('script');\n      element.onerror = on_error;\n      element.async = false;\n      element.type = \"module\";\n      console.debug(\"Bokeh: injecting script tag for BokehJS library: \", url);\n      element.textContent = `\n      import ${name} from \"${url}\"\n      window.${name} = ${name}\n      window._bokeh_on_load()\n      `\n      document.head.appendChild(element);\n    }\n    if (!js_urls.length && !js_modules.length) {\n      on_load()\n    }\n  };\n\n  function inject_raw_css(css) {\n    const element = document.createElement(\"style\");\n    element.appendChild(document.createTextNode(css));\n    document.body.appendChild(element);\n  }\n\n  var js_urls = [\"https://cdn.bokeh.org/bokeh/release/bokeh-3.4.1.min.js\", \"https://cdn.bokeh.org/bokeh/release/bokeh-gl-3.4.1.min.js\", \"https://cdn.bokeh.org/bokeh/release/bokeh-widgets-3.4.1.min.js\", \"https://cdn.bokeh.org/bokeh/release/bokeh-tables-3.4.1.min.js\", \"https://cdn.holoviz.org/panel/1.4.1/dist/panel.min.js\"];\n  var js_modules = [];\n  var js_exports = {};\n  var css_urls = [];\n  var inline_js = [    function(Bokeh) {\n      Bokeh.set_log_level(\"info\");\n    },\nfunction(Bokeh) {} // ensure no trailing comma for IE\n  ];\n\n  function run_inline_js() {\n    if ((root.Bokeh !== undefined) || (force === true)) {\n      for (var i = 0; i < inline_js.length; i++) {\n\ttry {\n          inline_js[i].call(root, root.Bokeh);\n\t} catch(e) {\n\t  if (!reloading) {\n\t    throw e;\n\t  }\n\t}\n      }\n      // Cache old bokeh versions\n      if (Bokeh != undefined && !reloading) {\n\tvar NewBokeh = root.Bokeh;\n\tif (Bokeh.versions === undefined) {\n\t  Bokeh.versions = new Map();\n\t}\n\tif (NewBokeh.version !== Bokeh.version) {\n\t  Bokeh.versions.set(NewBokeh.version, NewBokeh)\n\t}\n\troot.Bokeh = Bokeh;\n      }} else if (Date.now() < root._bokeh_timeout) {\n      setTimeout(run_inline_js, 100);\n    } else if (!root._bokeh_failed_load) {\n      console.log(\"Bokeh: BokehJS failed to load within specified timeout.\");\n      root._bokeh_failed_load = true;\n    }\n    root._bokeh_is_initializing = false\n  }\n\n  function load_or_wait() {\n    // Implement a backoff loop that tries to ensure we do not load multiple\n    // versions of Bokeh and its dependencies at the same time.\n    // In recent versions we use the root._bokeh_is_initializing flag\n    // to determine whether there is an ongoing attempt to initialize\n    // bokeh, however for backward compatibility we also try to ensure\n    // that we do not start loading a newer (Panel>=1.0 and Bokeh>3) version\n    // before older versions are fully initialized.\n    if (root._bokeh_is_initializing && Date.now() > root._bokeh_timeout) {\n      root._bokeh_is_initializing = false;\n      root._bokeh_onload_callbacks = undefined;\n      console.log(\"Bokeh: BokehJS was loaded multiple times but one version failed to initialize.\");\n      load_or_wait();\n    } else if (root._bokeh_is_initializing || (typeof root._bokeh_is_initializing === \"undefined\" && root._bokeh_onload_callbacks !== undefined)) {\n      setTimeout(load_or_wait, 100);\n    } else {\n      root._bokeh_is_initializing = true\n      root._bokeh_onload_callbacks = []\n      var bokeh_loaded = Bokeh != null && (Bokeh.version === py_version || (Bokeh.versions !== undefined && Bokeh.versions.has(py_version)));\n      if (!reloading && !bokeh_loaded) {\n\troot.Bokeh = undefined;\n      }\n      load_libs(css_urls, js_urls, js_modules, js_exports, function() {\n\tconsole.debug(\"Bokeh: BokehJS plotting callback run at\", now());\n\trun_inline_js();\n      });\n    }\n  }\n  // Give older versions of the autoload script a head-start to ensure\n  // they initialize before we start loading newer version.\n  setTimeout(load_or_wait, 100)\n}(window));",
      "application/vnd.holoviews_load.v0+json": ""
     },
     "metadata": {},
     "output_type": "display_data"
    },
    {
     "data": {
      "application/javascript": "\nif ((window.PyViz === undefined) || (window.PyViz instanceof HTMLElement)) {\n  window.PyViz = {comms: {}, comm_status:{}, kernels:{}, receivers: {}, plot_index: []}\n}\n\n\n    function JupyterCommManager() {\n    }\n\n    JupyterCommManager.prototype.register_target = function(plot_id, comm_id, msg_handler) {\n      if (window.comm_manager || ((window.Jupyter !== undefined) && (Jupyter.notebook.kernel != null))) {\n        var comm_manager = window.comm_manager || Jupyter.notebook.kernel.comm_manager;\n        comm_manager.register_target(comm_id, function(comm) {\n          comm.on_msg(msg_handler);\n        });\n      } else if ((plot_id in window.PyViz.kernels) && (window.PyViz.kernels[plot_id])) {\n        window.PyViz.kernels[plot_id].registerCommTarget(comm_id, function(comm) {\n          comm.onMsg = msg_handler;\n        });\n      } else if (typeof google != 'undefined' && google.colab.kernel != null) {\n        google.colab.kernel.comms.registerTarget(comm_id, (comm) => {\n          var messages = comm.messages[Symbol.asyncIterator]();\n          function processIteratorResult(result) {\n            var message = result.value;\n            console.log(message)\n            var content = {data: message.data, comm_id};\n            var buffers = []\n            for (var buffer of message.buffers || []) {\n              buffers.push(new DataView(buffer))\n            }\n            var metadata = message.metadata || {};\n            var msg = {content, buffers, metadata}\n            msg_handler(msg);\n            return messages.next().then(processIteratorResult);\n          }\n          return messages.next().then(processIteratorResult);\n        })\n      }\n    }\n\n    JupyterCommManager.prototype.get_client_comm = function(plot_id, comm_id, msg_handler) {\n      if (comm_id in window.PyViz.comms) {\n        return window.PyViz.comms[comm_id];\n      } else if (window.comm_manager || ((window.Jupyter !== undefined) && (Jupyter.notebook.kernel != null))) {\n        var comm_manager = window.comm_manager || Jupyter.notebook.kernel.comm_manager;\n        var comm = comm_manager.new_comm(comm_id, {}, {}, {}, comm_id);\n        if (msg_handler) {\n          comm.on_msg(msg_handler);\n        }\n      } else if ((plot_id in window.PyViz.kernels) && (window.PyViz.kernels[plot_id])) {\n        var comm = window.PyViz.kernels[plot_id].connectToComm(comm_id);\n        comm.open();\n        if (msg_handler) {\n          comm.onMsg = msg_handler;\n        }\n      } else if (typeof google != 'undefined' && google.colab.kernel != null) {\n        var comm_promise = google.colab.kernel.comms.open(comm_id)\n        comm_promise.then((comm) => {\n          window.PyViz.comms[comm_id] = comm;\n          if (msg_handler) {\n            var messages = comm.messages[Symbol.asyncIterator]();\n            function processIteratorResult(result) {\n              var message = result.value;\n              var content = {data: message.data};\n              var metadata = message.metadata || {comm_id};\n              var msg = {content, metadata}\n              msg_handler(msg);\n              return messages.next().then(processIteratorResult);\n            }\n            return messages.next().then(processIteratorResult);\n          }\n        }) \n        var sendClosure = (data, metadata, buffers, disposeOnDone) => {\n          return comm_promise.then((comm) => {\n            comm.send(data, metadata, buffers, disposeOnDone);\n          });\n        };\n        var comm = {\n          send: sendClosure\n        };\n      }\n      window.PyViz.comms[comm_id] = comm;\n      return comm;\n    }\n    window.PyViz.comm_manager = new JupyterCommManager();\n    \n\n\nvar JS_MIME_TYPE = 'application/javascript';\nvar HTML_MIME_TYPE = 'text/html';\nvar EXEC_MIME_TYPE = 'application/vnd.holoviews_exec.v0+json';\nvar CLASS_NAME = 'output';\n\n/**\n * Render data to the DOM node\n */\nfunction render(props, node) {\n  var div = document.createElement(\"div\");\n  var script = document.createElement(\"script\");\n  node.appendChild(div);\n  node.appendChild(script);\n}\n\n/**\n * Handle when a new output is added\n */\nfunction handle_add_output(event, handle) {\n  var output_area = handle.output_area;\n  var output = handle.output;\n  if ((output.data == undefined) || (!output.data.hasOwnProperty(EXEC_MIME_TYPE))) {\n    return\n  }\n  var id = output.metadata[EXEC_MIME_TYPE][\"id\"];\n  var toinsert = output_area.element.find(\".\" + CLASS_NAME.split(' ')[0]);\n  if (id !== undefined) {\n    var nchildren = toinsert.length;\n    var html_node = toinsert[nchildren-1].children[0];\n    html_node.innerHTML = output.data[HTML_MIME_TYPE];\n    var scripts = [];\n    var nodelist = html_node.querySelectorAll(\"script\");\n    for (var i in nodelist) {\n      if (nodelist.hasOwnProperty(i)) {\n        scripts.push(nodelist[i])\n      }\n    }\n\n    scripts.forEach( function (oldScript) {\n      var newScript = document.createElement(\"script\");\n      var attrs = [];\n      var nodemap = oldScript.attributes;\n      for (var j in nodemap) {\n        if (nodemap.hasOwnProperty(j)) {\n          attrs.push(nodemap[j])\n        }\n      }\n      attrs.forEach(function(attr) { newScript.setAttribute(attr.name, attr.value) });\n      newScript.appendChild(document.createTextNode(oldScript.innerHTML));\n      oldScript.parentNode.replaceChild(newScript, oldScript);\n    });\n    if (JS_MIME_TYPE in output.data) {\n      toinsert[nchildren-1].children[1].textContent = output.data[JS_MIME_TYPE];\n    }\n    output_area._hv_plot_id = id;\n    if ((window.Bokeh !== undefined) && (id in Bokeh.index)) {\n      window.PyViz.plot_index[id] = Bokeh.index[id];\n    } else {\n      window.PyViz.plot_index[id] = null;\n    }\n  } else if (output.metadata[EXEC_MIME_TYPE][\"server_id\"] !== undefined) {\n    var bk_div = document.createElement(\"div\");\n    bk_div.innerHTML = output.data[HTML_MIME_TYPE];\n    var script_attrs = bk_div.children[0].attributes;\n    for (var i = 0; i < script_attrs.length; i++) {\n      toinsert[toinsert.length - 1].childNodes[1].setAttribute(script_attrs[i].name, script_attrs[i].value);\n    }\n    // store reference to server id on output_area\n    output_area._bokeh_server_id = output.metadata[EXEC_MIME_TYPE][\"server_id\"];\n  }\n}\n\n/**\n * Handle when an output is cleared or removed\n */\nfunction handle_clear_output(event, handle) {\n  var id = handle.cell.output_area._hv_plot_id;\n  var server_id = handle.cell.output_area._bokeh_server_id;\n  if (((id === undefined) || !(id in PyViz.plot_index)) && (server_id !== undefined)) { return; }\n  var comm = window.PyViz.comm_manager.get_client_comm(\"hv-extension-comm\", \"hv-extension-comm\", function () {});\n  if (server_id !== null) {\n    comm.send({event_type: 'server_delete', 'id': server_id});\n    return;\n  } else if (comm !== null) {\n    comm.send({event_type: 'delete', 'id': id});\n  }\n  delete PyViz.plot_index[id];\n  if ((window.Bokeh !== undefined) & (id in window.Bokeh.index)) {\n    var doc = window.Bokeh.index[id].model.document\n    doc.clear();\n    const i = window.Bokeh.documents.indexOf(doc);\n    if (i > -1) {\n      window.Bokeh.documents.splice(i, 1);\n    }\n  }\n}\n\n/**\n * Handle kernel restart event\n */\nfunction handle_kernel_cleanup(event, handle) {\n  delete PyViz.comms[\"hv-extension-comm\"];\n  window.PyViz.plot_index = {}\n}\n\n/**\n * Handle update_display_data messages\n */\nfunction handle_update_output(event, handle) {\n  handle_clear_output(event, {cell: {output_area: handle.output_area}})\n  handle_add_output(event, handle)\n}\n\nfunction register_renderer(events, OutputArea) {\n  function append_mime(data, metadata, element) {\n    // create a DOM node to render to\n    var toinsert = this.create_output_subarea(\n    metadata,\n    CLASS_NAME,\n    EXEC_MIME_TYPE\n    );\n    this.keyboard_manager.register_events(toinsert);\n    // Render to node\n    var props = {data: data, metadata: metadata[EXEC_MIME_TYPE]};\n    render(props, toinsert[0]);\n    element.append(toinsert);\n    return toinsert\n  }\n\n  events.on('output_added.OutputArea', handle_add_output);\n  events.on('output_updated.OutputArea', handle_update_output);\n  events.on('clear_output.CodeCell', handle_clear_output);\n  events.on('delete.Cell', handle_clear_output);\n  events.on('kernel_ready.Kernel', handle_kernel_cleanup);\n\n  OutputArea.prototype.register_mime_type(EXEC_MIME_TYPE, append_mime, {\n    safe: true,\n    index: 0\n  });\n}\n\nif (window.Jupyter !== undefined) {\n  try {\n    var events = require('base/js/events');\n    var OutputArea = require('notebook/js/outputarea').OutputArea;\n    if (OutputArea.prototype.mime_types().indexOf(EXEC_MIME_TYPE) == -1) {\n      register_renderer(events, OutputArea);\n    }\n  } catch(err) {\n  }\n}\n",
      "application/vnd.holoviews_load.v0+json": ""
     },
     "metadata": {},
     "output_type": "display_data"
    },
    {
     "data": {
      "text/html": [
       "<style>*[data-root-id],\n",
       "*[data-root-id] > * {\n",
       "  box-sizing: border-box;\n",
       "  font-family: var(--jp-ui-font-family);\n",
       "  font-size: var(--jp-ui-font-size1);\n",
       "  color: var(--vscode-editor-foreground, var(--jp-ui-font-color1));\n",
       "}\n",
       "\n",
       "/* Override VSCode background color */\n",
       ".cell-output-ipywidget-background:has(\n",
       "    > .cell-output-ipywidget-background > .lm-Widget > *[data-root-id]\n",
       "  ),\n",
       ".cell-output-ipywidget-background:has(> .lm-Widget > *[data-root-id]) {\n",
       "  background-color: transparent !important;\n",
       "}\n",
       "</style>"
      ]
     },
     "metadata": {},
     "output_type": "display_data"
    },
    {
     "data": {
      "application/vnd.holoviews_exec.v0+json": "",
      "text/html": [
       "<div id='139a0d8d-5e6d-4289-884d-fd2e8a87e752'>\n",
       "  <div id=\"a8e32b8a-8651-4a30-8793-660fe087d292\" data-root-id=\"139a0d8d-5e6d-4289-884d-fd2e8a87e752\" style=\"display: contents;\"></div>\n",
       "</div>\n",
       "<script type=\"application/javascript\">(function(root) {\n",
       "  var docs_json = {\"4e231506-db61-4896-a2e3-9fa2b4857a41\":{\"version\":\"3.4.1\",\"title\":\"Bokeh Application\",\"roots\":[{\"type\":\"object\",\"name\":\"panel.models.browser.BrowserInfo\",\"id\":\"139a0d8d-5e6d-4289-884d-fd2e8a87e752\"},{\"type\":\"object\",\"name\":\"panel.models.comm_manager.CommManager\",\"id\":\"4bf024ac-9a68-46bf-86df-c440e4995edc\",\"attributes\":{\"plot_id\":\"139a0d8d-5e6d-4289-884d-fd2e8a87e752\",\"comm_id\":\"e5768243c45c4a2fa973d21d2aad81c0\",\"client_comm_id\":\"bf55728c2c894cd4bb89bbb54a2d953d\"}}],\"defs\":[{\"type\":\"model\",\"name\":\"ReactiveHTML1\"},{\"type\":\"model\",\"name\":\"FlexBox1\",\"properties\":[{\"name\":\"align_content\",\"kind\":\"Any\",\"default\":\"flex-start\"},{\"name\":\"align_items\",\"kind\":\"Any\",\"default\":\"flex-start\"},{\"name\":\"flex_direction\",\"kind\":\"Any\",\"default\":\"row\"},{\"name\":\"flex_wrap\",\"kind\":\"Any\",\"default\":\"wrap\"},{\"name\":\"gap\",\"kind\":\"Any\",\"default\":\"\"},{\"name\":\"justify_content\",\"kind\":\"Any\",\"default\":\"flex-start\"}]},{\"type\":\"model\",\"name\":\"FloatPanel1\",\"properties\":[{\"name\":\"config\",\"kind\":\"Any\",\"default\":{\"type\":\"map\"}},{\"name\":\"contained\",\"kind\":\"Any\",\"default\":true},{\"name\":\"position\",\"kind\":\"Any\",\"default\":\"right-top\"},{\"name\":\"offsetx\",\"kind\":\"Any\",\"default\":null},{\"name\":\"offsety\",\"kind\":\"Any\",\"default\":null},{\"name\":\"theme\",\"kind\":\"Any\",\"default\":\"primary\"},{\"name\":\"status\",\"kind\":\"Any\",\"default\":\"normalized\"}]},{\"type\":\"model\",\"name\":\"GridStack1\",\"properties\":[{\"name\":\"mode\",\"kind\":\"Any\",\"default\":\"warn\"},{\"name\":\"ncols\",\"kind\":\"Any\",\"default\":null},{\"name\":\"nrows\",\"kind\":\"Any\",\"default\":null},{\"name\":\"allow_resize\",\"kind\":\"Any\",\"default\":true},{\"name\":\"allow_drag\",\"kind\":\"Any\",\"default\":true},{\"name\":\"state\",\"kind\":\"Any\",\"default\":[]}]},{\"type\":\"model\",\"name\":\"drag1\",\"properties\":[{\"name\":\"slider_width\",\"kind\":\"Any\",\"default\":5},{\"name\":\"slider_color\",\"kind\":\"Any\",\"default\":\"black\"},{\"name\":\"value\",\"kind\":\"Any\",\"default\":50}]},{\"type\":\"model\",\"name\":\"click1\",\"properties\":[{\"name\":\"terminal_output\",\"kind\":\"Any\",\"default\":\"\"},{\"name\":\"debug_name\",\"kind\":\"Any\",\"default\":\"\"},{\"name\":\"clears\",\"kind\":\"Any\",\"default\":0}]},{\"type\":\"model\",\"name\":\"FastWrapper1\",\"properties\":[{\"name\":\"object\",\"kind\":\"Any\",\"default\":null},{\"name\":\"style\",\"kind\":\"Any\",\"default\":null}]},{\"type\":\"model\",\"name\":\"NotificationAreaBase1\",\"properties\":[{\"name\":\"js_events\",\"kind\":\"Any\",\"default\":{\"type\":\"map\"}},{\"name\":\"position\",\"kind\":\"Any\",\"default\":\"bottom-right\"},{\"name\":\"_clear\",\"kind\":\"Any\",\"default\":0}]},{\"type\":\"model\",\"name\":\"NotificationArea1\",\"properties\":[{\"name\":\"js_events\",\"kind\":\"Any\",\"default\":{\"type\":\"map\"}},{\"name\":\"notifications\",\"kind\":\"Any\",\"default\":[]},{\"name\":\"position\",\"kind\":\"Any\",\"default\":\"bottom-right\"},{\"name\":\"_clear\",\"kind\":\"Any\",\"default\":0},{\"name\":\"types\",\"kind\":\"Any\",\"default\":[{\"type\":\"map\",\"entries\":[[\"type\",\"warning\"],[\"background\",\"#ffc107\"],[\"icon\",{\"type\":\"map\",\"entries\":[[\"className\",\"fas fa-exclamation-triangle\"],[\"tagName\",\"i\"],[\"color\",\"white\"]]}]]},{\"type\":\"map\",\"entries\":[[\"type\",\"info\"],[\"background\",\"#007bff\"],[\"icon\",{\"type\":\"map\",\"entries\":[[\"className\",\"fas fa-info-circle\"],[\"tagName\",\"i\"],[\"color\",\"white\"]]}]]}]}]},{\"type\":\"model\",\"name\":\"Notification\",\"properties\":[{\"name\":\"background\",\"kind\":\"Any\",\"default\":null},{\"name\":\"duration\",\"kind\":\"Any\",\"default\":3000},{\"name\":\"icon\",\"kind\":\"Any\",\"default\":null},{\"name\":\"message\",\"kind\":\"Any\",\"default\":\"\"},{\"name\":\"notification_type\",\"kind\":\"Any\",\"default\":null},{\"name\":\"_destroyed\",\"kind\":\"Any\",\"default\":false}]},{\"type\":\"model\",\"name\":\"TemplateActions1\",\"properties\":[{\"name\":\"open_modal\",\"kind\":\"Any\",\"default\":0},{\"name\":\"close_modal\",\"kind\":\"Any\",\"default\":0}]},{\"type\":\"model\",\"name\":\"BootstrapTemplateActions1\",\"properties\":[{\"name\":\"open_modal\",\"kind\":\"Any\",\"default\":0},{\"name\":\"close_modal\",\"kind\":\"Any\",\"default\":0}]},{\"type\":\"model\",\"name\":\"TemplateEditor1\",\"properties\":[{\"name\":\"layout\",\"kind\":\"Any\",\"default\":[]}]},{\"type\":\"model\",\"name\":\"MaterialTemplateActions1\",\"properties\":[{\"name\":\"open_modal\",\"kind\":\"Any\",\"default\":0},{\"name\":\"close_modal\",\"kind\":\"Any\",\"default\":0}]},{\"type\":\"model\",\"name\":\"copy_to_clipboard1\",\"properties\":[{\"name\":\"fill\",\"kind\":\"Any\",\"default\":\"none\"},{\"name\":\"value\",\"kind\":\"Any\",\"default\":null}]}]}};\n",
       "  var render_items = [{\"docid\":\"4e231506-db61-4896-a2e3-9fa2b4857a41\",\"roots\":{\"139a0d8d-5e6d-4289-884d-fd2e8a87e752\":\"a8e32b8a-8651-4a30-8793-660fe087d292\"},\"root_ids\":[\"139a0d8d-5e6d-4289-884d-fd2e8a87e752\"]}];\n",
       "  var docs = Object.values(docs_json)\n",
       "  if (!docs) {\n",
       "    return\n",
       "  }\n",
       "  const py_version = docs[0].version.replace('rc', '-rc.').replace('.dev', '-dev.')\n",
       "  function embed_document(root) {\n",
       "    var Bokeh = get_bokeh(root)\n",
       "    Bokeh.embed.embed_items_notebook(docs_json, render_items);\n",
       "    for (const render_item of render_items) {\n",
       "      for (const root_id of render_item.root_ids) {\n",
       "\tconst id_el = document.getElementById(root_id)\n",
       "\tif (id_el.children.length && (id_el.children[0].className === 'bk-root')) {\n",
       "\t  const root_el = id_el.children[0]\n",
       "\t  root_el.id = root_el.id + '-rendered'\n",
       "\t}\n",
       "      }\n",
       "    }\n",
       "  }\n",
       "  function get_bokeh(root) {\n",
       "    if (root.Bokeh === undefined) {\n",
       "      return null\n",
       "    } else if (root.Bokeh.version !== py_version) {\n",
       "      if (root.Bokeh.versions === undefined || !root.Bokeh.versions.has(py_version)) {\n",
       "\treturn null\n",
       "      }\n",
       "      return root.Bokeh.versions.get(py_version);\n",
       "    } else if (root.Bokeh.version === py_version) {\n",
       "      return root.Bokeh\n",
       "    }\n",
       "    return null\n",
       "  }\n",
       "  function is_loaded(root) {\n",
       "    var Bokeh = get_bokeh(root)\n",
       "    return (Bokeh != null && Bokeh.Panel !== undefined)\n",
       "  }\n",
       "  if (is_loaded(root)) {\n",
       "    embed_document(root);\n",
       "  } else {\n",
       "    var attempts = 0;\n",
       "    var timer = setInterval(function(root) {\n",
       "      if (is_loaded(root)) {\n",
       "        clearInterval(timer);\n",
       "        embed_document(root);\n",
       "      } else if (document.readyState == \"complete\") {\n",
       "        attempts++;\n",
       "        if (attempts > 200) {\n",
       "          clearInterval(timer);\n",
       "\t  var Bokeh = get_bokeh(root)\n",
       "\t  if (Bokeh == null || Bokeh.Panel == null) {\n",
       "            console.warn(\"Panel: ERROR: Unable to run Panel code because Bokeh or Panel library is missing\");\n",
       "\t  } else {\n",
       "\t    console.warn(\"Panel: WARNING: Attempting to render but not all required libraries could be resolved.\")\n",
       "\t    embed_document(root)\n",
       "\t  }\n",
       "        }\n",
       "      }\n",
       "    }, 25, root)\n",
       "  }\n",
       "})(window);</script>"
      ]
     },
     "metadata": {
      "application/vnd.holoviews_exec.v0+json": {
       "id": "139a0d8d-5e6d-4289-884d-fd2e8a87e752"
      }
     },
     "output_type": "display_data"
    }
   ],
   "source": [
    "import param\n",
    "import panel as pn\n",
    "pn.extension()\n",
    "import datetime as dt\n",
    "import importlib\n",
    "from importlib import reload\n",
    "from tqdm import tqdm"
   ]
  },
  {
   "cell_type": "code",
   "execution_count": 7,
   "id": "b953ada0-a09f-4d69-8a01-5776b4539a73",
   "metadata": {},
   "outputs": [],
   "source": [
    "import graph as gr\n",
    "import params as par\n",
    "import py_lib as lib\n",
    "reload(gr)\n",
    "reload(par)\n",
    "reload(lib)\n",
    "import graph as gr\n",
    "import params as par\n",
    "import py_lib as lib"
   ]
  },
  {
   "cell_type": "code",
   "execution_count": 8,
   "id": "a5e24b41",
   "metadata": {},
   "outputs": [],
   "source": [
    "import custom_ecg_delineate as custom\n",
    "reload(custom)\n",
    "import custom_ecg_delineate as custom"
   ]
  },
  {
   "cell_type": "code",
   "execution_count": 9,
   "id": "61b8d2c3-0e75-4c18-9302-f84c57178aed",
   "metadata": {},
   "outputs": [
    {
     "data": {
      "text/plain": [
       "{'Age': '{:.0f}',\n",
       " 'RestingBP': '{:.0f}',\n",
       " 'Cholesterol': '{:.0f}',\n",
       " 'MaxHR': '{:.0f}',\n",
       " 'FastingBS': '{:.1f}',\n",
       " 'HeartDisease': '{:.1f}',\n",
       " 'Oldpeak': '{:.2f}',\n",
       " '0': '{:.0%}',\n",
       " '1': '{:.0%}',\n",
       " '1.0': '{:.0%}',\n",
       " '0.0': '{:.0%}',\n",
       " 'Accuracy': '{:.1%}',\n",
       " 'Balanced Accuracy': '{:.1%}',\n",
       " 'F1 Score': '{:.1%}'}"
      ]
     },
     "execution_count": 9,
     "metadata": {},
     "output_type": "execute_result"
    }
   ],
   "source": [
    "format_dict = par.create_format_dict()\n",
    "format_dict"
   ]
  },
  {
   "cell_type": "code",
   "execution_count": 27,
   "id": "564b77f3",
   "metadata": {},
   "outputs": [],
   "source": [
    "class NotebookParams(param.Parameterized):\n",
    "    lambda_multiple          = param.Number(1, bounds=(1,10), doc=\"lambda Lasso Multiple of 10^x\")\n",
    "    lambda_power             = param.Integer(default=2, bounds=(1,7),doc=\"lambda Lasso exponent of 10^x\")\n",
    "    lr_multiple              = param.Number(5, bounds=(1,10), doc=\"Learning Rate Multiple of 10^x\")\n",
    "    lr_power                 = param.Integer(default=3, bounds=(1,9),doc=\"Learning Rate exponent of 10^x\")\n",
    "    epochs                   = param.Integer(default=2000 ,bounds=(1,2000))\n",
    "    data_set                 = param.ObjectSelector(default=\"test\",objects=['train', 'validation', 'train + validation', 'test'])\n",
    "    stand_features           = param.Boolean(False, doc=\"Whether we want to standardize numerical features\")\n",
    "    use_lasso                = param.Boolean(True)\n",
    "    use_focal_loss           = param.Boolean(True)\n",
    "    iter_array               = param.Integer(default=5, bounds=(1,20),doc=\"How often to save loss and training data, in epochs\")\n",
    "    iter_printing            = param.Integer(default=5, bounds=(1,100),doc=\"How many epochs between printing\")\n",
    "    add_one_hot_encoded      = param.Boolean(False, doc=\"Whether to add one hot encoded columns from categorical variables\")\n",
    "    test_size                = param.Number(0.2, bounds=(0.1,0.9), doc=\"Test size for train_test_split\")\n",
    "    random_state_test_train_split = param.Integer(42)\n",
    "base = NotebookParams()"
   ]
  },
  {
   "cell_type": "markdown",
   "id": "607e05bd-0726-41dd-bf81-4d428149a5ac",
   "metadata": {},
   "source": [
    "# Import Data"
   ]
  },
  {
   "cell_type": "code",
   "execution_count": 11,
   "id": "9418bc11-4422-477c-bdc6-9d0ce573c0e7",
   "metadata": {},
   "outputs": [],
   "source": [
    "# df_heart = pd.read_csv('../data_proj2/ptbdb_train.csv')\n",
    "df_heart_test = pd.read_csv('../data_proj2/ptbdb_test.csv', header=None)\n",
    "df_heart_train = pd.read_csv('../data_proj2/ptbdb_train.csv', header=None)"
   ]
  },
  {
   "cell_type": "code",
   "execution_count": 21,
   "id": "62beaa62-7c99-4b98-bcdf-8345da39415b",
   "metadata": {},
   "outputs": [
    {
     "data": {
      "text/html": [
       "<div>\n",
       "<style scoped>\n",
       "    .dataframe tbody tr th:only-of-type {\n",
       "        vertical-align: middle;\n",
       "    }\n",
       "\n",
       "    .dataframe tbody tr th {\n",
       "        vertical-align: top;\n",
       "    }\n",
       "\n",
       "    .dataframe thead th {\n",
       "        text-align: right;\n",
       "    }\n",
       "</style>\n",
       "<table border=\"1\" class=\"dataframe\">\n",
       "  <thead>\n",
       "    <tr style=\"text-align: right;\">\n",
       "      <th></th>\n",
       "      <th>0</th>\n",
       "      <th>1</th>\n",
       "      <th>2</th>\n",
       "      <th>3</th>\n",
       "      <th>4</th>\n",
       "      <th>5</th>\n",
       "      <th>6</th>\n",
       "      <th>7</th>\n",
       "      <th>8</th>\n",
       "      <th>9</th>\n",
       "      <th>...</th>\n",
       "      <th>178</th>\n",
       "      <th>179</th>\n",
       "      <th>180</th>\n",
       "      <th>181</th>\n",
       "      <th>182</th>\n",
       "      <th>183</th>\n",
       "      <th>184</th>\n",
       "      <th>185</th>\n",
       "      <th>186</th>\n",
       "      <th>187</th>\n",
       "    </tr>\n",
       "  </thead>\n",
       "  <tbody>\n",
       "    <tr>\n",
       "      <th>0</th>\n",
       "      <td>1.000000</td>\n",
       "      <td>0.730599</td>\n",
       "      <td>0.472859</td>\n",
       "      <td>0.139526</td>\n",
       "      <td>0.000000</td>\n",
       "      <td>0.020507</td>\n",
       "      <td>0.112183</td>\n",
       "      <td>0.162847</td>\n",
       "      <td>0.180941</td>\n",
       "      <td>0.192199</td>\n",
       "      <td>...</td>\n",
       "      <td>0.0</td>\n",
       "      <td>0.0</td>\n",
       "      <td>0.0</td>\n",
       "      <td>0.0</td>\n",
       "      <td>0.0</td>\n",
       "      <td>0.0</td>\n",
       "      <td>0.0</td>\n",
       "      <td>0.0</td>\n",
       "      <td>0.0</td>\n",
       "      <td>1.0</td>\n",
       "    </tr>\n",
       "    <tr>\n",
       "      <th>1</th>\n",
       "      <td>1.000000</td>\n",
       "      <td>0.152446</td>\n",
       "      <td>0.011377</td>\n",
       "      <td>0.308305</td>\n",
       "      <td>0.153584</td>\n",
       "      <td>0.096701</td>\n",
       "      <td>0.083049</td>\n",
       "      <td>0.086462</td>\n",
       "      <td>0.105802</td>\n",
       "      <td>0.071672</td>\n",
       "      <td>...</td>\n",
       "      <td>0.0</td>\n",
       "      <td>0.0</td>\n",
       "      <td>0.0</td>\n",
       "      <td>0.0</td>\n",
       "      <td>0.0</td>\n",
       "      <td>0.0</td>\n",
       "      <td>0.0</td>\n",
       "      <td>0.0</td>\n",
       "      <td>0.0</td>\n",
       "      <td>1.0</td>\n",
       "    </tr>\n",
       "    <tr>\n",
       "      <th>2</th>\n",
       "      <td>0.975917</td>\n",
       "      <td>0.693234</td>\n",
       "      <td>0.241399</td>\n",
       "      <td>0.107225</td>\n",
       "      <td>0.098050</td>\n",
       "      <td>0.072248</td>\n",
       "      <td>0.062500</td>\n",
       "      <td>0.054472</td>\n",
       "      <td>0.054472</td>\n",
       "      <td>0.045872</td>\n",
       "      <td>...</td>\n",
       "      <td>0.0</td>\n",
       "      <td>0.0</td>\n",
       "      <td>0.0</td>\n",
       "      <td>0.0</td>\n",
       "      <td>0.0</td>\n",
       "      <td>0.0</td>\n",
       "      <td>0.0</td>\n",
       "      <td>0.0</td>\n",
       "      <td>0.0</td>\n",
       "      <td>0.0</td>\n",
       "    </tr>\n",
       "  </tbody>\n",
       "</table>\n",
       "<p>3 rows × 188 columns</p>\n",
       "</div>"
      ],
      "text/plain": [
       "        0         1         2         3         4         5         6    \\\n",
       "0  1.000000  0.730599  0.472859  0.139526  0.000000  0.020507  0.112183   \n",
       "1  1.000000  0.152446  0.011377  0.308305  0.153584  0.096701  0.083049   \n",
       "2  0.975917  0.693234  0.241399  0.107225  0.098050  0.072248  0.062500   \n",
       "\n",
       "        7         8         9    ...  178  179  180  181  182  183  184  185  \\\n",
       "0  0.162847  0.180941  0.192199  ...  0.0  0.0  0.0  0.0  0.0  0.0  0.0  0.0   \n",
       "1  0.086462  0.105802  0.071672  ...  0.0  0.0  0.0  0.0  0.0  0.0  0.0  0.0   \n",
       "2  0.054472  0.054472  0.045872  ...  0.0  0.0  0.0  0.0  0.0  0.0  0.0  0.0   \n",
       "\n",
       "   186  187  \n",
       "0  0.0  1.0  \n",
       "1  0.0  1.0  \n",
       "2  0.0  0.0  \n",
       "\n",
       "[3 rows x 188 columns]"
      ]
     },
     "execution_count": 21,
     "metadata": {},
     "output_type": "execute_result"
    }
   ],
   "source": [
    "df_heart_train.head(3)"
   ]
  },
  {
   "cell_type": "code",
   "execution_count": 13,
   "id": "def29b16",
   "metadata": {},
   "outputs": [
    {
     "data": {
      "text/plain": [
       "Index([  0,   1,   2,   3,   4,   5,   6,   7,   8,   9,\n",
       "       ...\n",
       "       178, 179, 180, 181, 182, 183, 184, 185, 186, 187],\n",
       "      dtype='int64', length=188)"
      ]
     },
     "execution_count": 13,
     "metadata": {},
     "output_type": "execute_result"
    }
   ],
   "source": [
    "df_heart_train.columns"
   ]
  },
  {
   "cell_type": "code",
   "execution_count": 14,
   "id": "1a32b4d7",
   "metadata": {},
   "outputs": [
    {
     "name": "stdout",
     "output_type": "stream",
     "text": [
      "<class 'pandas.core.frame.DataFrame'>\n",
      "RangeIndex: 11641 entries, 0 to 11640\n",
      "Columns: 188 entries, 0 to 187\n",
      "dtypes: float64(188)\n",
      "memory usage: 16.7 MB\n"
     ]
    }
   ],
   "source": [
    "df_heart_train.info()"
   ]
  },
  {
   "cell_type": "code",
   "execution_count": 15,
   "id": "4d6a0013",
   "metadata": {},
   "outputs": [
    {
     "name": "stdout",
     "output_type": "stream",
     "text": [
      "The test split has 2911 rows, or 20.00% of all examples (which represent 14552 rows).\n"
     ]
    }
   ],
   "source": [
    "n_train_examples = df_heart_train.shape[0]\n",
    "n_test_examples = df_heart_test.shape[0]\n",
    "n_total_examples = n_train_examples + n_test_examples\n",
    "print(f'The test split has {n_test_examples} rows, or {n_test_examples/n_total_examples:.2%} of all examples (which represent {n_total_examples} rows).')"
   ]
  },
  {
   "cell_type": "markdown",
   "id": "bfbf952c",
   "metadata": {},
   "source": [
    "# Raw time series"
   ]
  },
  {
   "cell_type": "markdown",
   "id": "b2a926e8",
   "metadata": {},
   "source": [
    "## Minimal Features preprocessing\n",
    "\n",
    "(No feature engineering)"
   ]
  },
  {
   "cell_type": "code",
   "execution_count": 60,
   "id": "a526d719",
   "metadata": {},
   "outputs": [],
   "source": [
    "# Type of columns\n",
    "label_col = list(df_heart_train.columns)[-1]\n",
    "num_features = list(df_heart_train.columns)[:-1]\n",
    "categorical_features=[]\n",
    "category_to_drop={}\n",
    "\n"
   ]
  },
  {
   "cell_type": "code",
   "execution_count": 25,
   "id": "9d304e0d",
   "metadata": {},
   "outputs": [],
   "source": [
    "# Create a list of indexes in each class\n",
    "idx_by_class = {\n",
    "\t\t'0.0': [],\n",
    "\t\t'1.0': [],\n",
    "}\n",
    "for idx, row in df_heart_train.iterrows():\n",
    "\t\tif row[label_col] == 0.0:\n",
    "\t\t\tidx_by_class['0.0'].append(idx)\n",
    "\t\telif row[label_col] == 1.0:\n",
    "\t\t\tidx_by_class['1.0'].append(idx)\n",
    "\t\telse:\n",
    "\t\t\traise ValueError(f'Unexpected value {row[label_col]} in row {idx}.')"
   ]
  },
  {
   "cell_type": "code",
   "execution_count": 28,
   "id": "4200f0ec",
   "metadata": {},
   "outputs": [
    {
     "data": {
      "application/vnd.jupyter.widget-view+json": {
       "model_id": "389d204a54114b129bdae0abf39181bd",
       "version_major": 2,
       "version_minor": 0
      },
      "text/plain": [
       "BokehModel(combine_events=True, render_bundle={'docs_json': {'02b89f00-9964-4bcf-8bb9-d717d1df2a99': {'version…"
      ]
     },
     "execution_count": 28,
     "metadata": {},
     "output_type": "execute_result"
    }
   ],
   "source": [
    "pn.Column(pn.Row(base.param.add_one_hot_encoded, base.param.stand_features, base.param.test_size))"
   ]
  },
  {
   "cell_type": "code",
   "execution_count": 35,
   "id": "7f3e41f7",
   "metadata": {},
   "outputs": [],
   "source": [
    "import py_lib as lib\n",
    "reload(lib)\n",
    "import py_lib as lib"
   ]
  },
  {
   "cell_type": "code",
   "execution_count": 36,
   "id": "684d7421",
   "metadata": {},
   "outputs": [
    {
     "name": "stdout",
     "output_type": "stream",
     "text": [
      "[0, 1, 2, 3, 4, 5, 6, 7, 8, 9, 10, 11, 12, 13, 14, 15, 16, 17, 18, 19, 20, 21, 22, 23, 24, 25, 26, 27, 28, 29, 30, 31, 32, 33, 34, 35, 36, 37, 38, 39, 40, 41, 42, 43, 44, 45, 46, 47, 48, 49, 50, 51, 52, 53, 54, 55, 56, 57, 58, 59, 60, 61, 62, 63, 64, 65, 66, 67, 68, 69, 70, 71, 72, 73, 74, 75, 76, 77, 78, 79, 80, 81, 82, 83, 84, 85, 86, 87, 88, 89, 90, 91, 92, 93, 94, 95, 96, 97, 98, 99, 100, 101, 102, 103, 104, 105, 106, 107, 108, 109, 110, 111, 112, 113, 114, 115, 116, 117, 118, 119, 120, 121, 122, 123, 124, 125, 126, 127, 128, 129, 130, 131, 132, 133, 134, 135, 136, 137, 138, 139, 140, 141, 142, 143, 144, 145, 146, 147, 148, 149, 150, 151, 152, 153, 154, 155, 156, 157, 158, 159, 160, 161, 162, 163, 164, 165, 166, 167, 168, 169, 170, 171, 172, 173, 174, 175, 176, 177, 178, 179, 180, 181, 182, 183, 184, 185, 186]\n"
     ]
    }
   ],
   "source": [
    "train_test_data, final_categorical_features, all_features, _ = lib.pre_process_features(\n",
    "        df_heart_train,\n",
    "        num_features=num_features,\n",
    "        categorical_features=categorical_features,\n",
    "        category_to_drop=category_to_drop,\n",
    "        label_col=label_col,\n",
    "        add_one_hot_encoded=base.add_one_hot_encoded,\n",
    "        add_embeddings=False,\n",
    "        split_data=True,\n",
    "        stand_features=base.stand_features,\n",
    "        test_size=base.test_size,\n",
    "        random_state=base.random_state_test_train_split,\n",
    "        replace_pb_values={},\n",
    ")\n",
    "X_train, X_test = train_test_data.tensors['X_train'], train_test_data.tensors['X_test']\n",
    "y_train, y_test = train_test_data.tensors['y_train'], train_test_data.tensors['y_test']\n",
    "X_train_df = train_test_data.dataframes['X_train']"
   ]
  },
  {
   "cell_type": "code",
   "execution_count": 81,
   "id": "acb1650f",
   "metadata": {},
   "outputs": [
    {
     "data": {
      "text/plain": [
       "dict_keys(['X_train', 'X_test', 'y_train', 'y_test'])"
      ]
     },
     "execution_count": 81,
     "metadata": {},
     "output_type": "execute_result"
    }
   ],
   "source": [
    "train_test_data.dataframes.keys()"
   ]
  },
  {
   "cell_type": "code",
   "execution_count": 40,
   "id": "eb34e6ee",
   "metadata": {},
   "outputs": [
    {
     "data": {
      "text/html": [
       "<div>\n",
       "<style scoped>\n",
       "    .dataframe tbody tr th:only-of-type {\n",
       "        vertical-align: middle;\n",
       "    }\n",
       "\n",
       "    .dataframe tbody tr th {\n",
       "        vertical-align: top;\n",
       "    }\n",
       "\n",
       "    .dataframe thead th {\n",
       "        text-align: right;\n",
       "    }\n",
       "</style>\n",
       "<table border=\"1\" class=\"dataframe\">\n",
       "  <thead>\n",
       "    <tr style=\"text-align: right;\">\n",
       "      <th></th>\n",
       "      <th>0</th>\n",
       "      <th>1</th>\n",
       "      <th>2</th>\n",
       "      <th>3</th>\n",
       "      <th>4</th>\n",
       "      <th>5</th>\n",
       "      <th>6</th>\n",
       "      <th>7</th>\n",
       "      <th>8</th>\n",
       "      <th>9</th>\n",
       "      <th>...</th>\n",
       "      <th>177</th>\n",
       "      <th>178</th>\n",
       "      <th>179</th>\n",
       "      <th>180</th>\n",
       "      <th>181</th>\n",
       "      <th>182</th>\n",
       "      <th>183</th>\n",
       "      <th>184</th>\n",
       "      <th>185</th>\n",
       "      <th>186</th>\n",
       "    </tr>\n",
       "  </thead>\n",
       "  <tbody>\n",
       "    <tr>\n",
       "      <th>381</th>\n",
       "      <td>0.929947</td>\n",
       "      <td>0.977233</td>\n",
       "      <td>0.947110</td>\n",
       "      <td>0.809457</td>\n",
       "      <td>0.359370</td>\n",
       "      <td>0.103678</td>\n",
       "      <td>0.000000</td>\n",
       "      <td>0.053940</td>\n",
       "      <td>0.186340</td>\n",
       "      <td>0.309282</td>\n",
       "      <td>...</td>\n",
       "      <td>0.0</td>\n",
       "      <td>0.0</td>\n",
       "      <td>0.0</td>\n",
       "      <td>0.0</td>\n",
       "      <td>0.0</td>\n",
       "      <td>0.0</td>\n",
       "      <td>0.0</td>\n",
       "      <td>0.0</td>\n",
       "      <td>0.0</td>\n",
       "      <td>0.0</td>\n",
       "    </tr>\n",
       "    <tr>\n",
       "      <th>4453</th>\n",
       "      <td>0.940968</td>\n",
       "      <td>0.612751</td>\n",
       "      <td>0.164109</td>\n",
       "      <td>0.127509</td>\n",
       "      <td>0.069658</td>\n",
       "      <td>0.096812</td>\n",
       "      <td>0.112751</td>\n",
       "      <td>0.100354</td>\n",
       "      <td>0.085596</td>\n",
       "      <td>0.079693</td>\n",
       "      <td>...</td>\n",
       "      <td>0.0</td>\n",
       "      <td>0.0</td>\n",
       "      <td>0.0</td>\n",
       "      <td>0.0</td>\n",
       "      <td>0.0</td>\n",
       "      <td>0.0</td>\n",
       "      <td>0.0</td>\n",
       "      <td>0.0</td>\n",
       "      <td>0.0</td>\n",
       "      <td>0.0</td>\n",
       "    </tr>\n",
       "    <tr>\n",
       "      <th>1155</th>\n",
       "      <td>0.963608</td>\n",
       "      <td>0.525844</td>\n",
       "      <td>0.085443</td>\n",
       "      <td>0.000000</td>\n",
       "      <td>0.040084</td>\n",
       "      <td>0.039557</td>\n",
       "      <td>0.027426</td>\n",
       "      <td>0.036392</td>\n",
       "      <td>0.047996</td>\n",
       "      <td>0.068038</td>\n",
       "      <td>...</td>\n",
       "      <td>0.0</td>\n",
       "      <td>0.0</td>\n",
       "      <td>0.0</td>\n",
       "      <td>0.0</td>\n",
       "      <td>0.0</td>\n",
       "      <td>0.0</td>\n",
       "      <td>0.0</td>\n",
       "      <td>0.0</td>\n",
       "      <td>0.0</td>\n",
       "      <td>0.0</td>\n",
       "    </tr>\n",
       "  </tbody>\n",
       "</table>\n",
       "<p>3 rows × 187 columns</p>\n",
       "</div>"
      ],
      "text/plain": [
       "           0         1         2         3         4         5         6    \\\n",
       "381   0.929947  0.977233  0.947110  0.809457  0.359370  0.103678  0.000000   \n",
       "4453  0.940968  0.612751  0.164109  0.127509  0.069658  0.096812  0.112751   \n",
       "1155  0.963608  0.525844  0.085443  0.000000  0.040084  0.039557  0.027426   \n",
       "\n",
       "           7         8         9    ...  177  178  179  180  181  182  183  \\\n",
       "381   0.053940  0.186340  0.309282  ...  0.0  0.0  0.0  0.0  0.0  0.0  0.0   \n",
       "4453  0.100354  0.085596  0.079693  ...  0.0  0.0  0.0  0.0  0.0  0.0  0.0   \n",
       "1155  0.036392  0.047996  0.068038  ...  0.0  0.0  0.0  0.0  0.0  0.0  0.0   \n",
       "\n",
       "      184  185  186  \n",
       "381   0.0  0.0  0.0  \n",
       "4453  0.0  0.0  0.0  \n",
       "1155  0.0  0.0  0.0  \n",
       "\n",
       "[3 rows x 187 columns]"
      ]
     },
     "execution_count": 40,
     "metadata": {},
     "output_type": "execute_result"
    }
   ],
   "source": [
    "X_train_df['all'].head(3)"
   ]
  },
  {
   "cell_type": "markdown",
   "id": "72643927",
   "metadata": {},
   "source": [
    "### Working with the class imbalance"
   ]
  },
  {
   "cell_type": "code",
   "execution_count": 41,
   "id": "0d34e921",
   "metadata": {},
   "outputs": [],
   "source": [
    "# From ... https://saturncloud.io/blog/how-to-use-class-weights-with-focal-loss-in-pytorch-for-imbalanced-multiclass-classification/#focal-loss\n",
    "class_counts = np.bincount(y_train)\n",
    "num_classes = len(class_counts)\n",
    "total_samples = len(y_train)\n",
    "\n",
    "class_weights = []\n",
    "for count in class_counts:\n",
    "    weight = 1 / (count / total_samples)\n",
    "    class_weights.append(weight)\n",
    "\n",
    "class_weights_tensor = torch.FloatTensor(class_weights)"
   ]
  },
  {
   "cell_type": "code",
   "execution_count": 42,
   "id": "344481c1",
   "metadata": {},
   "outputs": [
    {
     "data": {
      "text/plain": [
       "[3.602321083172147, 1.3842723353649473]"
      ]
     },
     "execution_count": 42,
     "metadata": {},
     "output_type": "execute_result"
    }
   ],
   "source": [
    "class_weights"
   ]
  },
  {
   "cell_type": "markdown",
   "id": "4eba1801",
   "metadata": {},
   "source": [
    "## Model A: Logistic Regression"
   ]
  },
  {
   "cell_type": "markdown",
   "id": "bbf1d1c5",
   "metadata": {},
   "source": [
    "### Model Building"
   ]
  },
  {
   "cell_type": "code",
   "execution_count": 43,
   "id": "3adbf676",
   "metadata": {},
   "outputs": [],
   "source": [
    "class FocalLoss(torch.nn.Module):\n",
    "    def __init__(self, alpha=None, gamma=2):\n",
    "        super(FocalLoss, self).__init__()\n",
    "        self.alpha = alpha\n",
    "        self.gamma = gamma\n",
    "\n",
    "    def forward(self, inputs, targets):\n",
    "        be_loss = F.binary_cross_entropy(inputs, targets, reduction='none')\n",
    "        pt = torch.exp(-be_loss)\n",
    "        loss = (self.alpha[targets.long()] * (1 - pt) ** self.gamma * be_loss).mean()\n",
    "        return loss"
   ]
  },
  {
   "cell_type": "code",
   "execution_count": 44,
   "id": "37cbbfb2",
   "metadata": {},
   "outputs": [],
   "source": [
    "class LogisticRegression(torch.nn.Module):\n",
    "     \n",
    "     def __init__(self, input_dim, output_dim):\n",
    "         super(LogisticRegression, self).__init__()\n",
    "         self.linear = torch.nn.Linear(input_dim, output_dim)\n",
    "         \n",
    "\n",
    "     def forward(self, x):\n",
    "         outputs = torch.sigmoid(self.linear(x))\n",
    "         return outputs\n",
    "     \n",
    "\n",
    "     def compute_loss(self, y_pred, y_true):\n",
    "         return F.binary_cross_entropy(y_pred, y_true)\n",
    "\n",
    "\n",
    "     def compute_l1_loss(self, w):\n",
    "         return torch.abs(w).sum()\n",
    "\n",
    "\n",
    "def add_l1_loss( model, loss, lambda_lasso: float = 0.01):\n",
    "    # TODO(pinolej): Check whether can be added to the class\n",
    "    l1_parameters = []\n",
    "    for parameter in model.parameters():\n",
    "        l1_parameters.append(parameter.view(-1))\n",
    "    l1 = lambda_lasso * model.compute_l1_loss(torch.cat(l1_parameters))\n",
    "    # Add L1 loss component\n",
    "    loss += l1\n",
    "    return loss\n",
    "\n",
    "    "
   ]
  },
  {
   "cell_type": "markdown",
   "id": "77688e44",
   "metadata": {},
   "source": [
    "### Training"
   ]
  },
  {
   "cell_type": "code",
   "execution_count": 45,
   "id": "7877149d",
   "metadata": {},
   "outputs": [
    {
     "data": {
      "application/vnd.jupyter.widget-view+json": {
       "model_id": "911380c7bfff45c692aa09f47efc761c",
       "version_major": 2,
       "version_minor": 0
      },
      "text/plain": [
       "BokehModel(combine_events=True, render_bundle={'docs_json': {'26823a92-e8fa-490b-a254-1ea1150c13c4': {'version…"
      ]
     },
     "execution_count": 45,
     "metadata": {},
     "output_type": "execute_result"
    }
   ],
   "source": [
    "pn.Column(\n",
    "    pn.Row(base.param.use_lasso, base.param.use_focal_loss),\n",
    "    pn.Row(base.param.lr_power, base.param.lr_multiple),\n",
    "    pn.Row(base.param.lambda_power, base.param.lambda_multiple)\n",
    "    )"
   ]
  },
  {
   "cell_type": "code",
   "execution_count": 46,
   "id": "8d82c1ff",
   "metadata": {},
   "outputs": [
    {
     "name": "stdout",
     "output_type": "stream",
     "text": [
      "learning rate is 5 multiplied by 10 power -3, which yields 0.00500000\n",
      "lambda_lasso is 1 multiplied by 10 power -2, which yields 0.010000\n"
     ]
    }
   ],
   "source": [
    "lr = base.lr_multiple * 10**(-base.lr_power)\n",
    "print('learning rate is {} multiplied by 10 power {}, which yields {:.8f}'.format(base.lr_multiple, -base.lr_power, lr))\n",
    "lambda_lasso = base.lambda_multiple * 10**(-base.lambda_power)\n",
    "print('lambda_lasso is {} multiplied by 10 power {}, which yields {:.6f}'.format(base.lambda_multiple, -base.lambda_power, lambda_lasso))"
   ]
  },
  {
   "cell_type": "code",
   "execution_count": 61,
   "id": "ebb4f3a3",
   "metadata": {},
   "outputs": [
    {
     "data": {
      "application/vnd.jupyter.widget-view+json": {
       "model_id": "04244dbe5bb843d9b93dc6ac7f764a3c",
       "version_major": 2,
       "version_minor": 0
      },
      "text/plain": [
       "BokehModel(combine_events=True, render_bundle={'docs_json': {'70219e61-d03d-4e20-a453-3f73dad4fb34': {'version…"
      ]
     },
     "execution_count": 61,
     "metadata": {},
     "output_type": "execute_result"
    }
   ],
   "source": [
    "pn.Column(\n",
    "    pn.Row(base.param.epochs, base.param.iter_array, base.param.iter_printing),\n",
    "    )"
   ]
  },
  {
   "cell_type": "code",
   "execution_count": 62,
   "id": "93b848c3",
   "metadata": {},
   "outputs": [
    {
     "name": "stdout",
     "output_type": "stream",
     "text": [
      "iter_printing_effective is 400\n"
     ]
    }
   ],
   "source": [
    "input_dim = len(num_features + final_categorical_features)\n",
    "output_dim = 1 # Single binary output\n",
    "model = LogisticRegression(input_dim,output_dim)\n",
    "if base.use_focal_loss:\n",
    "    criterion = FocalLoss(alpha=class_weights_tensor.long(), gamma=2)\n",
    "else:\n",
    "    criterion = torch.nn.BCELoss()\n",
    "optimizer = torch.optim.SGD(model.parameters(), lr=lr)\n",
    "iter_printing_effective = int(base.epochs/base.iter_printing)\n",
    "print('iter_printing_effective is {}'.format(iter_printing_effective))\n",
    "# torch.manual_seed(0) # keep things reproducible"
   ]
  },
  {
   "cell_type": "code",
   "execution_count": 63,
   "id": "80b17f95",
   "metadata": {},
   "outputs": [
    {
     "name": "stderr",
     "output_type": "stream",
     "text": [
      "Training Epochs:  21%|██        | 411/2000 [00:06<00:26, 60.44it/s] "
     ]
    },
    {
     "name": "stdout",
     "output_type": "stream",
     "text": [
      "Iteration: 400. \n",
      "Test - Loss: 0.3063903748989105. Accuracy: 66.63804207814513\n",
      "Train -  Loss: 0.307067334651947. Accuracy: 66.96735395189003\n",
      "\n"
     ]
    },
    {
     "name": "stderr",
     "output_type": "stream",
     "text": [
      "Training Epochs:  41%|████      | 814/2000 [00:11<00:11, 106.80it/s]"
     ]
    },
    {
     "name": "stdout",
     "output_type": "stream",
     "text": [
      "Iteration: 800. \n",
      "Test - Loss: 0.29947954416275024. Accuracy: 68.82782310004293\n",
      "Train -  Loss: 0.3005751669406891. Accuracy: 68.43857388316151\n",
      "\n"
     ]
    },
    {
     "name": "stderr",
     "output_type": "stream",
     "text": [
      "Training Epochs:  61%|██████    | 1213/2000 [00:16<00:12, 64.61it/s]"
     ]
    },
    {
     "name": "stdout",
     "output_type": "stream",
     "text": [
      "Iteration: 1200. \n",
      "Test - Loss: 0.2987200617790222. Accuracy: 69.81537140403607\n",
      "Train -  Loss: 0.2999924421310425. Accuracy: 69.34063573883161\n",
      "\n"
     ]
    },
    {
     "name": "stderr",
     "output_type": "stream",
     "text": [
      "Training Epochs:  81%|████████  | 1614/2000 [00:22<00:04, 89.57it/s] "
     ]
    },
    {
     "name": "stdout",
     "output_type": "stream",
     "text": [
      "Iteration: 1600. \n",
      "Test - Loss: 0.299869567155838. Accuracy: 70.50236152855302\n",
      "Train -  Loss: 0.3012336194515228. Accuracy: 69.82388316151203\n",
      "\n"
     ]
    },
    {
     "name": "stderr",
     "output_type": "stream",
     "text": [
      "Training Epochs: 100%|██████████| 2000/2000 [00:31<00:00, 63.27it/s] "
     ]
    },
    {
     "name": "stdout",
     "output_type": "stream",
     "text": [
      "Iteration: 2000. \n",
      "Test - Loss: 0.3014077842235565. Accuracy: 71.18935165306999\n",
      "Train -  Loss: 0.3028232157230377. Accuracy: 70.66151202749141\n",
      "\n"
     ]
    },
    {
     "name": "stderr",
     "output_type": "stream",
     "text": [
      "\n"
     ]
    }
   ],
   "source": [
    "losses = []\n",
    "losses_test = []\n",
    "Iterations = []\n",
    "iter = 0\n",
    "model.train()\n",
    "for epoch in tqdm(range(int(base.epochs)),desc='Training Epochs'):\n",
    "    x = X_train\n",
    "    labels = y_train\n",
    "    optimizer.zero_grad() # Setting our stored gradients equal to zero\n",
    "    outputs = model(X_train['all'])  # Perform forward pass\n",
    "    loss = criterion(torch.squeeze(outputs), labels) # Compute loss\n",
    "    loss.backward() # Computes the gradient of the given tensor w.r.t. the weights/bias\n",
    "\n",
    "    # Compute L1 loss component\n",
    "    if base.use_lasso:\n",
    "        loss = add_l1_loss(model, loss, lambda_lasso=lambda_lasso)\n",
    "\n",
    "    optimizer.step() # Updates weights and biases with the optimizer (SGD)\n",
    "    \n",
    "    iter+=1\n",
    "    if iter%base.iter_array==0:\n",
    "        with torch.no_grad():\n",
    "            # Calculating the loss and accuracy for the test dataset\n",
    "            correct_test = 0\n",
    "            total_test = 0\n",
    "            outputs_test = torch.squeeze(model(X_test['all']))\n",
    "            loss_test = criterion(outputs_test, y_test)\n",
    "            loss_test = add_l1_loss(model, loss_test, lambda_lasso=lambda_lasso)\n",
    "            \n",
    "            predicted_test = outputs_test.round().detach().numpy()\n",
    "            total_test += y_test.size(0)\n",
    "            correct_test += np.sum(predicted_test == y_test.detach().numpy())\n",
    "            accuracy_test = 100 * correct_test/total_test\n",
    "            losses_test.append(loss_test.item())\n",
    "            \n",
    "            \n",
    "            # Calculating the loss and accuracy for the train dataset\n",
    "            total = 0\n",
    "            correct = 0\n",
    "            total += y_train.size(0)\n",
    "            correct += np.sum(torch.squeeze(outputs).round().detach().numpy() == y_train.detach().numpy())\n",
    "            accuracy = 100 * correct/total\n",
    "            losses.append(loss.item())\n",
    "            Iterations.append(iter)\n",
    "\n",
    "            if iter%iter_printing_effective==0:\n",
    "                print(f\"Iteration: {iter}. \\nTest - Loss: {loss_test.item()}. Accuracy: {accuracy_test}\")\n",
    "                print(f\"Train -  Loss: {loss.item()}. Accuracy: {accuracy}\\n\")"
   ]
  },
  {
   "cell_type": "code",
   "execution_count": 64,
   "id": "4cd33620",
   "metadata": {},
   "outputs": [
    {
     "data": {
      "text/plain": [
       "Text(0, 0.5, 'Focal Loss')"
      ]
     },
     "execution_count": 64,
     "metadata": {},
     "output_type": "execute_result"
    },
    {
     "data": {
      "image/png": "[encoded data removed]",
      "text/plain": [
       "<Figure size 700x400 with 1 Axes>"
      ]
     },
     "metadata": {},
     "output_type": "display_data"
    }
   ],
   "source": [
    "fig, ax = plt.subplots(nrows=1, ncols=1, figsize = (7,4))\n",
    "ax.plot(Iterations,losses, label='train')\n",
    "ax.plot(Iterations,losses_test, label='test')\n",
    "ax.legend()\n",
    "ax.set_xlabel('Epoch')\n",
    "loss_type = 'Focal Loss' if base.use_focal_loss else 'BCE Loss'\n",
    "ax.set_ylabel(loss_type)\n",
    "# fig.show()"
   ]
  },
  {
   "cell_type": "markdown",
   "id": "6d5d7acc",
   "metadata": {},
   "source": [
    "### Evaluation"
   ]
  },
  {
   "cell_type": "markdown",
   "id": "71b03f26",
   "metadata": {},
   "source": [
    "#### Predictions performances"
   ]
  },
  {
   "cell_type": "code",
   "execution_count": 110,
   "id": "87d3d486",
   "metadata": {},
   "outputs": [
    {
     "data": {
      "application/vnd.jupyter.widget-view+json": {
       "model_id": "566c4715f92f4659800079089a51de12",
       "version_major": 2,
       "version_minor": 0
      },
      "text/plain": [
       "BokehModel(combine_events=True, render_bundle={'docs_json': {'43080e47-4e08-4f88-91f9-3a28053558aa': {'version…"
      ]
     },
     "execution_count": 110,
     "metadata": {},
     "output_type": "execute_result"
    }
   ],
   "source": [
    "pn.Row(base.param.data_set)"
   ]
  },
  {
   "cell_type": "code",
   "execution_count": 111,
   "id": "a6e9e662",
   "metadata": {},
   "outputs": [
    {
     "name": "stdout",
     "output_type": "stream",
     "text": [
      "We are displaying evaluation over the TEST dataset\n"
     ]
    }
   ],
   "source": [
    "dataset_choice = {\n",
    "    'train': {\n",
    "        'data': {\n",
    "            'x': train_test_data.tensors['X_train']['all'],\n",
    "            'y': train_test_data.tensors['y_train'],\n",
    "        },\n",
    "        'already_processed': True,\n",
    "    },\n",
    "    'validation': {\n",
    "        'data': {\n",
    "            'x': train_test_data.tensors['X_test']['all'],\n",
    "            'y': train_test_data.tensors['y_test'],\n",
    "        },\n",
    "        'already_processed': True,\n",
    "    },\n",
    "    'train + validation': {\n",
    "        'data': df_heart_train,\n",
    "        'already_processed': False,\n",
    "    },\n",
    "    'test': {\n",
    "        'data': df_heart_test,\n",
    "        'already_processed': False,\n",
    "    },\n",
    "    # 'all': {\n",
    "    #     'data': df_heart,\n",
    "    #     'already_processed': False,\n",
    "    # },\n",
    "}\n",
    "print('We are displaying evaluation over the {} dataset'.format(base.data_set.upper()))\n",
    "data_specs = dataset_choice[base.data_set]"
   ]
  },
  {
   "cell_type": "code",
   "execution_count": 112,
   "id": "42c789a0",
   "metadata": {},
   "outputs": [
    {
     "name": "stdout",
     "output_type": "stream",
     "text": [
      "Processing data\n",
      "[0, 1, 2, 3, 4, 5, 6, 7, 8, 9, 10, 11, 12, 13, 14, 15, 16, 17, 18, 19, 20, 21, 22, 23, 24, 25, 26, 27, 28, 29, 30, 31, 32, 33, 34, 35, 36, 37, 38, 39, 40, 41, 42, 43, 44, 45, 46, 47, 48, 49, 50, 51, 52, 53, 54, 55, 56, 57, 58, 59, 60, 61, 62, 63, 64, 65, 66, 67, 68, 69, 70, 71, 72, 73, 74, 75, 76, 77, 78, 79, 80, 81, 82, 83, 84, 85, 86, 87, 88, 89, 90, 91, 92, 93, 94, 95, 96, 97, 98, 99, 100, 101, 102, 103, 104, 105, 106, 107, 108, 109, 110, 111, 112, 113, 114, 115, 116, 117, 118, 119, 120, 121, 122, 123, 124, 125, 126, 127, 128, 129, 130, 131, 132, 133, 134, 135, 136, 137, 138, 139, 140, 141, 142, 143, 144, 145, 146, 147, 148, 149, 150, 151, 152, 153, 154, 155, 156, 157, 158, 159, 160, 161, 162, 163, 164, 165, 166, 167, 168, 169, 170, 171, 172, 173, 174, 175, 176, 177, 178, 179, 180, 181, 182, 183, 184, 185, 186]\n"
     ]
    }
   ],
   "source": [
    "if data_specs['already_processed']:\n",
    "    print('Data were already processed for training.')\n",
    "    x_features = data_specs['data']['x']\n",
    "    y_true = data_specs['data']['y']\n",
    "else:\n",
    "        print('Processing data')\n",
    "        processed_data, _, _, _ = lib.pre_process_features(\n",
    "                data_specs['data'],\n",
    "                num_features=num_features,\n",
    "                categorical_features=categorical_features,\n",
    "                category_to_drop=category_to_drop,\n",
    "                label_col=label_col,\n",
    "                add_one_hot_encoded=base.add_one_hot_encoded,\n",
    "                add_embeddings=False,\n",
    "                stand_features=base.stand_features,\n",
    "                test_size=base.test_size,\n",
    "                random_state=base.random_state_test_train_split,\n",
    "                split_data=False,\n",
    "\t\t\t\t\t\t\t\treplace_pb_values={},\n",
    "        )\n",
    "        x_features = processed_data.tensors['X_train']['all']\n",
    "        y_true = processed_data.tensors['y_train']"
   ]
  },
  {
   "cell_type": "code",
   "execution_count": 113,
   "id": "d3fece68",
   "metadata": {},
   "outputs": [],
   "source": [
    "model.eval()\n",
    "y_pred_tensor = torch.squeeze(model(x_features))\n",
    "y_pred_round_tensor = y_pred_tensor.round()\n",
    "y_pred = y_pred_tensor.detach().numpy()\n",
    "y_pred_round = y_pred_round_tensor.detach().numpy()"
   ]
  },
  {
   "cell_type": "code",
   "execution_count": 114,
   "id": "889618d4",
   "metadata": {},
   "outputs": [],
   "source": [
    "from torchmetrics.classification import BinaryF1Score\n",
    "from sklearn.metrics import accuracy_score, balanced_accuracy_score\n",
    "acc = accuracy_score(y_true, y_pred_round, normalize = True)  \n",
    "bal_acc=balanced_accuracy_score(y_true,y_pred_round)\n",
    "f1_score = BinaryF1Score()\n",
    "f1 = f1_score(y_pred_round_tensor, y_true).numpy()\n",
    "summary_metrics = pd.DataFrame(data=[acc, bal_acc, f1], index=['Accuracy', 'Balanced Accuracy', 'F1 Score'], columns=['metrics']).T"
   ]
  },
  {
   "cell_type": "code",
   "execution_count": 115,
   "id": "aae7011e",
   "metadata": {},
   "outputs": [
    {
     "data": {
      "text/html": [
       "<style type=\"text/css\">\n",
       "</style>\n",
       "<table id=\"T_d865d\">\n",
       "  <thead>\n",
       "    <tr>\n",
       "      <th class=\"blank level0\" >&nbsp;</th>\n",
       "      <th id=\"T_d865d_level0_col0\" class=\"col_heading level0 col0\" >Accuracy</th>\n",
       "      <th id=\"T_d865d_level0_col1\" class=\"col_heading level0 col1\" >Balanced Accuracy</th>\n",
       "      <th id=\"T_d865d_level0_col2\" class=\"col_heading level0 col2\" >F1 Score</th>\n",
       "    </tr>\n",
       "  </thead>\n",
       "  <tbody>\n",
       "    <tr>\n",
       "      <th id=\"T_d865d_level0_row0\" class=\"row_heading level0 row0\" >metrics</th>\n",
       "      <td id=\"T_d865d_row0_col0\" class=\"data row0 col0\" >70.3%</td>\n",
       "      <td id=\"T_d865d_row0_col1\" class=\"data row0 col1\" >74.3%</td>\n",
       "      <td id=\"T_d865d_row0_col2\" class=\"data row0 col2\" >76.0%</td>\n",
       "    </tr>\n",
       "  </tbody>\n",
       "</table>\n"
      ],
      "text/plain": [
       "<pandas.io.formats.style.Styler at 0x7fee18438130>"
      ]
     },
     "execution_count": 115,
     "metadata": {},
     "output_type": "execute_result"
    }
   ],
   "source": [
    "summary_metrics.style.format(format_dict)"
   ]
  },
  {
   "cell_type": "code",
   "execution_count": 116,
   "id": "e6143f20",
   "metadata": {},
   "outputs": [
    {
     "data": {
      "text/plain": [
       "Text(0.5, 1.0, 'Confusion Matrix, dataset = test')"
      ]
     },
     "execution_count": 116,
     "metadata": {},
     "output_type": "execute_result"
    },
    {
     "data": {
      "image/png": "[encoded data removed]",
      "text/plain": [
       "<Figure size 600x500 with 2 Axes>"
      ]
     },
     "metadata": {},
     "output_type": "display_data"
    }
   ],
   "source": [
    "logreg_conf_matrix = confusion_matrix(y_true, y_pred_round)\n",
    "plt.figure(figsize = (6,5)) \n",
    "sns.set(font_scale=1.1) \n",
    "ax = sns.heatmap(\n",
    "    logreg_conf_matrix,\n",
    "    cmap='Blues',\n",
    "    annot=True,\n",
    "    fmt='d',\n",
    "    square=True,\n",
    "    xticklabels=['NO Heart Disease (0)', 'Heart Disease (1)'],\n",
    "    yticklabels=['NO Heart Disease (0)', 'Heart Disease (1)'])\n",
    "ax.set(xlabel='Predicted', ylabel='Actual')\n",
    "ax.invert_yaxis()\n",
    "ax.invert_xaxis()\n",
    "ax.set_title('Confusion Matrix, dataset = {}'.format(base.data_set))"
   ]
  },
  {
   "cell_type": "code",
   "execution_count": 117,
   "id": "7bfb3d3b",
   "metadata": {},
   "outputs": [],
   "source": [
    "fpr, tpr, thresholds = roc_curve(y_true, y_pred)\n",
    "auc_performance = auc(fpr, tpr)"
   ]
  },
  {
   "cell_type": "code",
   "execution_count": 120,
   "id": "f6f65a7f",
   "metadata": {},
   "outputs": [
    {
     "data": {
      "text/plain": [
       "torch.Size([2911])"
      ]
     },
     "execution_count": 120,
     "metadata": {},
     "output_type": "execute_result"
    }
   ],
   "source": [
    "y_true.shape"
   ]
  },
  {
   "cell_type": "code",
   "execution_count": 121,
   "id": "acfe3d5d",
   "metadata": {},
   "outputs": [
    {
     "data": {
      "text/plain": [
       "(2911,)"
      ]
     },
     "execution_count": 121,
     "metadata": {},
     "output_type": "execute_result"
    }
   ],
   "source": [
    "y_pred.shape"
   ]
  },
  {
   "cell_type": "code",
   "execution_count": 122,
   "id": "a8a4d628",
   "metadata": {},
   "outputs": [
    {
     "data": {
      "text/plain": [
       "tensor([0.5180, 0.4637, 0.4493,  ..., 0.3466, 0.3982, 0.4988],\n",
       "       grad_fn=<SqueezeBackward0>)"
      ]
     },
     "execution_count": 122,
     "metadata": {},
     "output_type": "execute_result"
    }
   ],
   "source": [
    "y_pred_tensor"
   ]
  },
  {
   "cell_type": "code",
   "execution_count": 77,
   "id": "66711be6",
   "metadata": {},
   "outputs": [],
   "source": [
    "import graph as gr\n",
    "reload(gr)\n",
    "import graph as gr"
   ]
  },
  {
   "cell_type": "code",
   "execution_count": 78,
   "id": "fd6e1716",
   "metadata": {},
   "outputs": [
    {
     "name": "stderr",
     "output_type": "stream",
     "text": [
      "/home/pinolej/eth/healthcare/proj3/task_1/graph.py:300: UserWarning: set_ticklabels() should only be used with a fixed number of ticks, i.e. after set_ticks() or using a FixedLocator.\n",
      "  ax.set_yticklabels(['{:,.0%}'.format(x) for x in vals], fontsize=9)\n",
      "/home/pinolej/eth/healthcare/proj3/task_1/graph.py:302: UserWarning: set_ticklabels() should only be used with a fixed number of ticks, i.e. after set_ticks() or using a FixedLocator.\n",
      "  ax.set_xticklabels(['{:,.0%}'.format(x) for x in vals], fontsize=9)\n"
     ]
    },
    {
     "data": {
      "image/png": "[encoded data removed]",
      "text/plain": [
       "<Figure size 600x600 with 1 Axes>"
      ]
     },
     "metadata": {},
     "output_type": "display_data"
    }
   ],
   "source": [
    "gr.custom_roc_curve(\n",
    "        fpr,\n",
    "        tpr,\n",
    "        thresholds,\n",
    "        thresholds_to_plot=[0.5],\n",
    "        figsize=(6,6),\n",
    "        fontsize={\n",
    "            'ax_title': 12,\n",
    "        },\n",
    "        dataset_type=base.data_set,\n",
    "        auc_performance=auc_performance,\n",
    "        y_text_margin=0.05,\n",
    "        x_text_margin=0.1,\n",
    "        plot_threshold=True,\n",
    ")"
   ]
  },
  {
   "cell_type": "markdown",
   "id": "7d353dc2",
   "metadata": {},
   "source": [
    "## Model B: Random Forest"
   ]
  },
  {
   "cell_type": "markdown",
   "id": "27996652",
   "metadata": {},
   "source": [
    "### Model Building & Training"
   ]
  },
  {
   "cell_type": "code",
   "execution_count": 82,
   "id": "125bc8f0",
   "metadata": {},
   "outputs": [],
   "source": [
    "X_train_df, X_test_df = train_test_data.dataframes['X_train'], train_test_data.dataframes['X_test']\n",
    "y_train_df, y_test_df = train_test_data.dataframes['y_train'], train_test_data.dataframes['y_test']"
   ]
  },
  {
   "cell_type": "code",
   "execution_count": 88,
   "id": "0025d903",
   "metadata": {},
   "outputs": [
    {
     "data": {
      "text/html": [
       "<style>#sk-container-id-1 {\n",
       "  /* Definition of color scheme common for light and dark mode */\n",
       "  --sklearn-color-text: black;\n",
       "  --sklearn-color-line: gray;\n",
       "  /* Definition of color scheme for unfitted estimators */\n",
       "  --sklearn-color-unfitted-level-0: #fff5e6;\n",
       "  --sklearn-color-unfitted-level-1: #f6e4d2;\n",
       "  --sklearn-color-unfitted-level-2: #ffe0b3;\n",
       "  --sklearn-color-unfitted-level-3: chocolate;\n",
       "  /* Definition of color scheme for fitted estimators */\n",
       "  --sklearn-color-fitted-level-0: #f0f8ff;\n",
       "  --sklearn-color-fitted-level-1: #d4ebff;\n",
       "  --sklearn-color-fitted-level-2: #b3dbfd;\n",
       "  --sklearn-color-fitted-level-3: cornflowerblue;\n",
       "\n",
       "  /* Specific color for light theme */\n",
       "  --sklearn-color-text-on-default-background: var(--sg-text-color, var(--theme-code-foreground, var(--jp-content-font-color1, black)));\n",
       "  --sklearn-color-background: var(--sg-background-color, var(--theme-background, var(--jp-layout-color0, white)));\n",
       "  --sklearn-color-border-box: var(--sg-text-color, var(--theme-code-foreground, var(--jp-content-font-color1, black)));\n",
       "  --sklearn-color-icon: #696969;\n",
       "\n",
       "  @media (prefers-color-scheme: dark) {\n",
       "    /* Redefinition of color scheme for dark theme */\n",
       "    --sklearn-color-text-on-default-background: var(--sg-text-color, var(--theme-code-foreground, var(--jp-content-font-color1, white)));\n",
       "    --sklearn-color-background: var(--sg-background-color, var(--theme-background, var(--jp-layout-color0, #111)));\n",
       "    --sklearn-color-border-box: var(--sg-text-color, var(--theme-code-foreground, var(--jp-content-font-color1, white)));\n",
       "    --sklearn-color-icon: #878787;\n",
       "  }\n",
       "}\n",
       "\n",
       "#sk-container-id-1 {\n",
       "  color: var(--sklearn-color-text);\n",
       "}\n",
       "\n",
       "#sk-container-id-1 pre {\n",
       "  padding: 0;\n",
       "}\n",
       "\n",
       "#sk-container-id-1 input.sk-hidden--visually {\n",
       "  border: 0;\n",
       "  clip: rect(1px 1px 1px 1px);\n",
       "  clip: rect(1px, 1px, 1px, 1px);\n",
       "  height: 1px;\n",
       "  margin: -1px;\n",
       "  overflow: hidden;\n",
       "  padding: 0;\n",
       "  position: absolute;\n",
       "  width: 1px;\n",
       "}\n",
       "\n",
       "#sk-container-id-1 div.sk-dashed-wrapped {\n",
       "  border: 1px dashed var(--sklearn-color-line);\n",
       "  margin: 0 0.4em 0.5em 0.4em;\n",
       "  box-sizing: border-box;\n",
       "  padding-bottom: 0.4em;\n",
       "  background-color: var(--sklearn-color-background);\n",
       "}\n",
       "\n",
       "#sk-container-id-1 div.sk-container {\n",
       "  /* jupyter's `normalize.less` sets `[hidden] { display: none; }`\n",
       "     but bootstrap.min.css set `[hidden] { display: none !important; }`\n",
       "     so we also need the `!important` here to be able to override the\n",
       "     default hidden behavior on the sphinx rendered scikit-learn.org.\n",
       "     See: https://github.com/scikit-learn/scikit-learn/issues/21755 */\n",
       "  display: inline-block !important;\n",
       "  position: relative;\n",
       "}\n",
       "\n",
       "#sk-container-id-1 div.sk-text-repr-fallback {\n",
       "  display: none;\n",
       "}\n",
       "\n",
       "div.sk-parallel-item,\n",
       "div.sk-serial,\n",
       "div.sk-item {\n",
       "  /* draw centered vertical line to link estimators */\n",
       "  background-image: linear-gradient(var(--sklearn-color-text-on-default-background), var(--sklearn-color-text-on-default-background));\n",
       "  background-size: 2px 100%;\n",
       "  background-repeat: no-repeat;\n",
       "  background-position: center center;\n",
       "}\n",
       "\n",
       "/* Parallel-specific style estimator block */\n",
       "\n",
       "#sk-container-id-1 div.sk-parallel-item::after {\n",
       "  content: \"\";\n",
       "  width: 100%;\n",
       "  border-bottom: 2px solid var(--sklearn-color-text-on-default-background);\n",
       "  flex-grow: 1;\n",
       "}\n",
       "\n",
       "#sk-container-id-1 div.sk-parallel {\n",
       "  display: flex;\n",
       "  align-items: stretch;\n",
       "  justify-content: center;\n",
       "  background-color: var(--sklearn-color-background);\n",
       "  position: relative;\n",
       "}\n",
       "\n",
       "#sk-container-id-1 div.sk-parallel-item {\n",
       "  display: flex;\n",
       "  flex-direction: column;\n",
       "}\n",
       "\n",
       "#sk-container-id-1 div.sk-parallel-item:first-child::after {\n",
       "  align-self: flex-end;\n",
       "  width: 50%;\n",
       "}\n",
       "\n",
       "#sk-container-id-1 div.sk-parallel-item:last-child::after {\n",
       "  align-self: flex-start;\n",
       "  width: 50%;\n",
       "}\n",
       "\n",
       "#sk-container-id-1 div.sk-parallel-item:only-child::after {\n",
       "  width: 0;\n",
       "}\n",
       "\n",
       "/* Serial-specific style estimator block */\n",
       "\n",
       "#sk-container-id-1 div.sk-serial {\n",
       "  display: flex;\n",
       "  flex-direction: column;\n",
       "  align-items: center;\n",
       "  background-color: var(--sklearn-color-background);\n",
       "  padding-right: 1em;\n",
       "  padding-left: 1em;\n",
       "}\n",
       "\n",
       "\n",
       "/* Toggleable style: style used for estimator/Pipeline/ColumnTransformer box that is\n",
       "clickable and can be expanded/collapsed.\n",
       "- Pipeline and ColumnTransformer use this feature and define the default style\n",
       "- Estimators will overwrite some part of the style using the `sk-estimator` class\n",
       "*/\n",
       "\n",
       "/* Pipeline and ColumnTransformer style (default) */\n",
       "\n",
       "#sk-container-id-1 div.sk-toggleable {\n",
       "  /* Default theme specific background. It is overwritten whether we have a\n",
       "  specific estimator or a Pipeline/ColumnTransformer */\n",
       "  background-color: var(--sklearn-color-background);\n",
       "}\n",
       "\n",
       "/* Toggleable label */\n",
       "#sk-container-id-1 label.sk-toggleable__label {\n",
       "  cursor: pointer;\n",
       "  display: block;\n",
       "  width: 100%;\n",
       "  margin-bottom: 0;\n",
       "  padding: 0.5em;\n",
       "  box-sizing: border-box;\n",
       "  text-align: center;\n",
       "}\n",
       "\n",
       "#sk-container-id-1 label.sk-toggleable__label-arrow:before {\n",
       "  /* Arrow on the left of the label */\n",
       "  content: \"▸\";\n",
       "  float: left;\n",
       "  margin-right: 0.25em;\n",
       "  color: var(--sklearn-color-icon);\n",
       "}\n",
       "\n",
       "#sk-container-id-1 label.sk-toggleable__label-arrow:hover:before {\n",
       "  color: var(--sklearn-color-text);\n",
       "}\n",
       "\n",
       "/* Toggleable content - dropdown */\n",
       "\n",
       "#sk-container-id-1 div.sk-toggleable__content {\n",
       "  max-height: 0;\n",
       "  max-width: 0;\n",
       "  overflow: hidden;\n",
       "  text-align: left;\n",
       "  /* unfitted */\n",
       "  background-color: var(--sklearn-color-unfitted-level-0);\n",
       "}\n",
       "\n",
       "#sk-container-id-1 div.sk-toggleable__content.fitted {\n",
       "  /* fitted */\n",
       "  background-color: var(--sklearn-color-fitted-level-0);\n",
       "}\n",
       "\n",
       "#sk-container-id-1 div.sk-toggleable__content pre {\n",
       "  margin: 0.2em;\n",
       "  border-radius: 0.25em;\n",
       "  color: var(--sklearn-color-text);\n",
       "  /* unfitted */\n",
       "  background-color: var(--sklearn-color-unfitted-level-0);\n",
       "}\n",
       "\n",
       "#sk-container-id-1 div.sk-toggleable__content.fitted pre {\n",
       "  /* unfitted */\n",
       "  background-color: var(--sklearn-color-fitted-level-0);\n",
       "}\n",
       "\n",
       "#sk-container-id-1 input.sk-toggleable__control:checked~div.sk-toggleable__content {\n",
       "  /* Expand drop-down */\n",
       "  max-height: 200px;\n",
       "  max-width: 100%;\n",
       "  overflow: auto;\n",
       "}\n",
       "\n",
       "#sk-container-id-1 input.sk-toggleable__control:checked~label.sk-toggleable__label-arrow:before {\n",
       "  content: \"▾\";\n",
       "}\n",
       "\n",
       "/* Pipeline/ColumnTransformer-specific style */\n",
       "\n",
       "#sk-container-id-1 div.sk-label input.sk-toggleable__control:checked~label.sk-toggleable__label {\n",
       "  color: var(--sklearn-color-text);\n",
       "  background-color: var(--sklearn-color-unfitted-level-2);\n",
       "}\n",
       "\n",
       "#sk-container-id-1 div.sk-label.fitted input.sk-toggleable__control:checked~label.sk-toggleable__label {\n",
       "  background-color: var(--sklearn-color-fitted-level-2);\n",
       "}\n",
       "\n",
       "/* Estimator-specific style */\n",
       "\n",
       "/* Colorize estimator box */\n",
       "#sk-container-id-1 div.sk-estimator input.sk-toggleable__control:checked~label.sk-toggleable__label {\n",
       "  /* unfitted */\n",
       "  background-color: var(--sklearn-color-unfitted-level-2);\n",
       "}\n",
       "\n",
       "#sk-container-id-1 div.sk-estimator.fitted input.sk-toggleable__control:checked~label.sk-toggleable__label {\n",
       "  /* fitted */\n",
       "  background-color: var(--sklearn-color-fitted-level-2);\n",
       "}\n",
       "\n",
       "#sk-container-id-1 div.sk-label label.sk-toggleable__label,\n",
       "#sk-container-id-1 div.sk-label label {\n",
       "  /* The background is the default theme color */\n",
       "  color: var(--sklearn-color-text-on-default-background);\n",
       "}\n",
       "\n",
       "/* On hover, darken the color of the background */\n",
       "#sk-container-id-1 div.sk-label:hover label.sk-toggleable__label {\n",
       "  color: var(--sklearn-color-text);\n",
       "  background-color: var(--sklearn-color-unfitted-level-2);\n",
       "}\n",
       "\n",
       "/* Label box, darken color on hover, fitted */\n",
       "#sk-container-id-1 div.sk-label.fitted:hover label.sk-toggleable__label.fitted {\n",
       "  color: var(--sklearn-color-text);\n",
       "  background-color: var(--sklearn-color-fitted-level-2);\n",
       "}\n",
       "\n",
       "/* Estimator label */\n",
       "\n",
       "#sk-container-id-1 div.sk-label label {\n",
       "  font-family: monospace;\n",
       "  font-weight: bold;\n",
       "  display: inline-block;\n",
       "  line-height: 1.2em;\n",
       "}\n",
       "\n",
       "#sk-container-id-1 div.sk-label-container {\n",
       "  text-align: center;\n",
       "}\n",
       "\n",
       "/* Estimator-specific */\n",
       "#sk-container-id-1 div.sk-estimator {\n",
       "  font-family: monospace;\n",
       "  border: 1px dotted var(--sklearn-color-border-box);\n",
       "  border-radius: 0.25em;\n",
       "  box-sizing: border-box;\n",
       "  margin-bottom: 0.5em;\n",
       "  /* unfitted */\n",
       "  background-color: var(--sklearn-color-unfitted-level-0);\n",
       "}\n",
       "\n",
       "#sk-container-id-1 div.sk-estimator.fitted {\n",
       "  /* fitted */\n",
       "  background-color: var(--sklearn-color-fitted-level-0);\n",
       "}\n",
       "\n",
       "/* on hover */\n",
       "#sk-container-id-1 div.sk-estimator:hover {\n",
       "  /* unfitted */\n",
       "  background-color: var(--sklearn-color-unfitted-level-2);\n",
       "}\n",
       "\n",
       "#sk-container-id-1 div.sk-estimator.fitted:hover {\n",
       "  /* fitted */\n",
       "  background-color: var(--sklearn-color-fitted-level-2);\n",
       "}\n",
       "\n",
       "/* Specification for estimator info (e.g. \"i\" and \"?\") */\n",
       "\n",
       "/* Common style for \"i\" and \"?\" */\n",
       "\n",
       ".sk-estimator-doc-link,\n",
       "a:link.sk-estimator-doc-link,\n",
       "a:visited.sk-estimator-doc-link {\n",
       "  float: right;\n",
       "  font-size: smaller;\n",
       "  line-height: 1em;\n",
       "  font-family: monospace;\n",
       "  background-color: var(--sklearn-color-background);\n",
       "  border-radius: 1em;\n",
       "  height: 1em;\n",
       "  width: 1em;\n",
       "  text-decoration: none !important;\n",
       "  margin-left: 1ex;\n",
       "  /* unfitted */\n",
       "  border: var(--sklearn-color-unfitted-level-1) 1pt solid;\n",
       "  color: var(--sklearn-color-unfitted-level-1);\n",
       "}\n",
       "\n",
       ".sk-estimator-doc-link.fitted,\n",
       "a:link.sk-estimator-doc-link.fitted,\n",
       "a:visited.sk-estimator-doc-link.fitted {\n",
       "  /* fitted */\n",
       "  border: var(--sklearn-color-fitted-level-1) 1pt solid;\n",
       "  color: var(--sklearn-color-fitted-level-1);\n",
       "}\n",
       "\n",
       "/* On hover */\n",
       "div.sk-estimator:hover .sk-estimator-doc-link:hover,\n",
       ".sk-estimator-doc-link:hover,\n",
       "div.sk-label-container:hover .sk-estimator-doc-link:hover,\n",
       ".sk-estimator-doc-link:hover {\n",
       "  /* unfitted */\n",
       "  background-color: var(--sklearn-color-unfitted-level-3);\n",
       "  color: var(--sklearn-color-background);\n",
       "  text-decoration: none;\n",
       "}\n",
       "\n",
       "div.sk-estimator.fitted:hover .sk-estimator-doc-link.fitted:hover,\n",
       ".sk-estimator-doc-link.fitted:hover,\n",
       "div.sk-label-container:hover .sk-estimator-doc-link.fitted:hover,\n",
       ".sk-estimator-doc-link.fitted:hover {\n",
       "  /* fitted */\n",
       "  background-color: var(--sklearn-color-fitted-level-3);\n",
       "  color: var(--sklearn-color-background);\n",
       "  text-decoration: none;\n",
       "}\n",
       "\n",
       "/* Span, style for the box shown on hovering the info icon */\n",
       ".sk-estimator-doc-link span {\n",
       "  display: none;\n",
       "  z-index: 9999;\n",
       "  position: relative;\n",
       "  font-weight: normal;\n",
       "  right: .2ex;\n",
       "  padding: .5ex;\n",
       "  margin: .5ex;\n",
       "  width: min-content;\n",
       "  min-width: 20ex;\n",
       "  max-width: 50ex;\n",
       "  color: var(--sklearn-color-text);\n",
       "  box-shadow: 2pt 2pt 4pt #999;\n",
       "  /* unfitted */\n",
       "  background: var(--sklearn-color-unfitted-level-0);\n",
       "  border: .5pt solid var(--sklearn-color-unfitted-level-3);\n",
       "}\n",
       "\n",
       ".sk-estimator-doc-link.fitted span {\n",
       "  /* fitted */\n",
       "  background: var(--sklearn-color-fitted-level-0);\n",
       "  border: var(--sklearn-color-fitted-level-3);\n",
       "}\n",
       "\n",
       ".sk-estimator-doc-link:hover span {\n",
       "  display: block;\n",
       "}\n",
       "\n",
       "/* \"?\"-specific style due to the `<a>` HTML tag */\n",
       "\n",
       "#sk-container-id-1 a.estimator_doc_link {\n",
       "  float: right;\n",
       "  font-size: 1rem;\n",
       "  line-height: 1em;\n",
       "  font-family: monospace;\n",
       "  background-color: var(--sklearn-color-background);\n",
       "  border-radius: 1rem;\n",
       "  height: 1rem;\n",
       "  width: 1rem;\n",
       "  text-decoration: none;\n",
       "  /* unfitted */\n",
       "  color: var(--sklearn-color-unfitted-level-1);\n",
       "  border: var(--sklearn-color-unfitted-level-1) 1pt solid;\n",
       "}\n",
       "\n",
       "#sk-container-id-1 a.estimator_doc_link.fitted {\n",
       "  /* fitted */\n",
       "  border: var(--sklearn-color-fitted-level-1) 1pt solid;\n",
       "  color: var(--sklearn-color-fitted-level-1);\n",
       "}\n",
       "\n",
       "/* On hover */\n",
       "#sk-container-id-1 a.estimator_doc_link:hover {\n",
       "  /* unfitted */\n",
       "  background-color: var(--sklearn-color-unfitted-level-3);\n",
       "  color: var(--sklearn-color-background);\n",
       "  text-decoration: none;\n",
       "}\n",
       "\n",
       "#sk-container-id-1 a.estimator_doc_link.fitted:hover {\n",
       "  /* fitted */\n",
       "  background-color: var(--sklearn-color-fitted-level-3);\n",
       "}\n",
       "</style><div id=\"sk-container-id-1\" class=\"sk-top-container\"><div class=\"sk-text-repr-fallback\"><pre>RandomForestClassifier(max_depth=10, random_state=42)</pre><b>In a Jupyter environment, please rerun this cell to show the HTML representation or trust the notebook. <br />On GitHub, the HTML representation is unable to render, please try loading this page with nbviewer.org.</b></div><div class=\"sk-container\" hidden><div class=\"sk-item\"><div class=\"sk-estimator fitted sk-toggleable\"><input class=\"sk-toggleable__control sk-hidden--visually\" id=\"sk-estimator-id-1\" type=\"checkbox\" checked><label for=\"sk-estimator-id-1\" class=\"sk-toggleable__label fitted sk-toggleable__label-arrow fitted\">&nbsp;&nbsp;RandomForestClassifier<a class=\"sk-estimator-doc-link fitted\" rel=\"noreferrer\" target=\"_blank\" href=\"https://scikit-learn.org/1.4/modules/generated/sklearn.ensemble.RandomForestClassifier.html\">?<span>Documentation for RandomForestClassifier</span></a><span class=\"sk-estimator-doc-link fitted\">i<span>Fitted</span></span></label><div class=\"sk-toggleable__content fitted\"><pre>RandomForestClassifier(max_depth=10, random_state=42)</pre></div> </div></div></div></div>"
      ],
      "text/plain": [
       "RandomForestClassifier(max_depth=10, random_state=42)"
      ]
     },
     "execution_count": 88,
     "metadata": {},
     "output_type": "execute_result"
    }
   ],
   "source": [
    "# Import the model we are using\n",
    "from sklearn.ensemble import RandomForestClassifier\n",
    "# Instantiate model with 100 decision trees\n",
    "rf = RandomForestClassifier(\n",
    "\tn_estimators = 100,\n",
    "\trandom_state = 42,\n",
    "\tmax_depth = 10,\n",
    "\tmin_samples_split=2,\n",
    "\tmin_samples_leaf=1,\n",
    "\tmax_leaf_nodes=None,\n",
    "\t)\n",
    "# Train the model on training data\n",
    "rf.fit(X_train_df['all'], y_train_df)"
   ]
  },
  {
   "cell_type": "code",
   "execution_count": null,
   "id": "e7c2d207",
   "metadata": {},
   "outputs": [
    {
     "data": {
      "text/plain": [
       "Text(0, 0.5, 'Focal Loss')"
      ]
     },
     "metadata": {},
     "output_type": "display_data"
    },
    {
     "data": {
      "image/png": "[encoded data removed]",
      "text/plain": [
       "<Figure size 700x400 with 1 Axes>"
      ]
     },
     "metadata": {},
     "output_type": "display_data"
    }
   ],
   "source": [
    "fig, ax = plt.subplots(nrows=1, ncols=1, figsize = (7,4))\n",
    "ax.plot(Iterations,losses, label='train')\n",
    "ax.plot(Iterations,losses_test, label='test')\n",
    "ax.legend()\n",
    "ax.set_xlabel('Epoch')\n",
    "loss_type = 'Focal Loss' if base.use_focal_loss else 'BCE Loss'\n",
    "ax.set_ylabel(loss_type)\n",
    "# fig.show()"
   ]
  },
  {
   "cell_type": "markdown",
   "id": "a99ad85e",
   "metadata": {},
   "source": [
    "### Evaluation"
   ]
  },
  {
   "cell_type": "markdown",
   "id": "ef249c8a",
   "metadata": {},
   "source": [
    "#### Features Importance"
   ]
  },
  {
   "cell_type": "code",
   "execution_count": null,
   "id": "c4c2ba32",
   "metadata": {},
   "outputs": [
    {
     "name": "stdout",
     "output_type": "stream",
     "text": [
      "linear.weight\n",
      "linear.bias\n",
      "tensor([[-8.0386e-02, -1.0491e-02,  1.2531e-01,  1.6605e-01,  2.2227e-01,\n",
      "          8.7836e-02,  1.1329e-02,  1.8553e-02,  4.4660e-02,  5.7403e-03,\n",
      "          4.7493e-02,  8.9444e-02,  5.8834e-02,  7.2757e-02, -6.1303e-05,\n",
      "          9.8648e-02, -1.5356e-02,  3.2152e-02,  6.7850e-02,  8.1366e-03,\n",
      "         -4.5026e-03,  2.8286e-02,  4.9527e-02, -5.0566e-02,  1.7823e-02,\n",
      "         -2.6957e-02, -1.2402e-01, -1.4091e-01, -1.3290e-01, -6.3779e-02,\n",
      "         -8.1037e-02, -2.0476e-01, -9.2633e-02, -1.8558e-01, -1.6481e-01,\n",
      "         -9.5486e-02, -3.9673e-02, -3.6964e-02,  2.7505e-02,  2.4046e-03,\n",
      "          1.0117e-02,  3.5068e-02,  6.1825e-02,  1.0761e-01,  1.1064e-02,\n",
      "          1.2563e-01,  7.8604e-02,  1.0022e-02,  5.2478e-02,  2.3953e-02,\n",
      "          3.5785e-02,  1.0928e-01,  3.3713e-02,  7.2422e-02,  1.1133e-01,\n",
      "          3.8798e-02,  9.3746e-02,  4.6161e-02,  1.0019e-01,  1.1231e-01,\n",
      "          1.0632e-02,  6.4883e-02,  5.7174e-02,  8.1257e-02,  1.2032e-02,\n",
      "          6.5211e-03, -1.6072e-02,  7.3467e-02,  6.4427e-02,  4.8967e-02,\n",
      "          1.2884e-01,  1.2227e-01, -1.5919e-02,  4.0404e-02, -4.9210e-02,\n",
      "          1.6757e-02, -5.6187e-02,  4.0842e-03,  4.2544e-03,  6.8547e-02,\n",
      "         -3.4229e-03,  2.0293e-02,  9.3698e-03,  6.5141e-02,  8.7315e-02,\n",
      "          8.2928e-02,  8.3916e-03, -2.0201e-02,  8.4482e-02,  1.0506e-01,\n",
      "         -1.1969e-02, -3.4054e-02,  8.5000e-02,  3.6469e-02,  4.4038e-03,\n",
      "         -2.7657e-02,  9.0900e-03, -5.5451e-02,  4.1545e-02, -2.7427e-03,\n",
      "          3.9637e-02,  7.8825e-03, -1.0061e-02, -4.1523e-03,  2.7951e-02,\n",
      "         -7.2227e-03, -2.5379e-02, -2.9627e-02, -1.8237e-02, -2.5011e-02,\n",
      "         -6.4632e-02, -7.2690e-02, -7.0411e-02, -6.5737e-02, -1.1444e-01,\n",
      "          1.3048e-02, -2.5340e-02, -9.4797e-02,  8.3500e-03, -1.9703e-02,\n",
      "         -6.4089e-02, -8.9798e-02, -3.1729e-02, -7.0463e-02, -4.0074e-02,\n",
      "         -2.5072e-02, -6.3597e-02, -8.9364e-03,  1.7914e-02,  1.7763e-02,\n",
      "         -4.4761e-02, -7.0573e-02,  2.2178e-02, -8.5479e-02, -8.4938e-02,\n",
      "         -4.9928e-02, -3.5331e-02, -3.5790e-02, -8.1677e-02,  1.7386e-02,\n",
      "         -7.6642e-02,  2.6948e-02, -2.0067e-02, -3.5440e-02,  2.7006e-02,\n",
      "         -6.9607e-02, -4.2112e-02, -3.7892e-02, -8.5732e-02, -5.8852e-02,\n",
      "         -7.2607e-02,  2.3594e-02,  5.6163e-02, -5.2816e-03, -6.2045e-02,\n",
      "          4.2292e-02,  4.6579e-02, -4.3939e-02, -3.3660e-02,  4.3014e-02,\n",
      "          6.1885e-02, -5.1812e-03, -5.3847e-02,  4.8194e-02, -2.9647e-02,\n",
      "         -6.0278e-02, -2.2597e-02,  5.8199e-02, -3.7828e-02,  6.6621e-02,\n",
      "          1.2302e-04, -1.9174e-03,  1.8426e-02,  1.8027e-02, -4.4428e-03,\n",
      "          1.8843e-02,  5.4340e-02,  5.3215e-02, -6.7967e-02,  1.1118e-02,\n",
      "         -5.2743e-02, -2.1270e-02, -6.0066e-02,  5.4166e-02,  7.1634e-02,\n",
      "          1.2623e-02,  1.2932e-02]])\n"
     ]
    },
    {
     "data": {
      "text/plain": [
       "<Axes: ylabel='Feature'>"
      ]
     },
     "metadata": {},
     "output_type": "display_data"
    },
    {
     "data": {
      "image/png": "[encoded data removed]",
      "text/plain": [
       "<Figure size 1000x600 with 1 Axes>"
      ]
     },
     "metadata": {},
     "output_type": "display_data"
    }
   ],
   "source": [
    "for name, model_param in model.named_parameters():\n",
    "    print(name)\n",
    "    if name == 'linear.weight':\n",
    "        weights = model_param.data\n",
    "print(weights)\n",
    "coefficients = weights.detach().numpy()\n",
    "feature_importance = pd.DataFrame({'Feature': X_train_df['all'].columns, 'Importance': np.abs(coefficients.flatten())})\n",
    "feature_importance = feature_importance.sort_values('Importance', ascending=True)\n",
    "feature_importance.plot(x='Feature', y='Importance', kind='barh', figsize=(10, 6))"
   ]
  },
  {
   "cell_type": "code",
   "execution_count": null,
   "id": "eba5896a",
   "metadata": {},
   "outputs": [
    {
     "name": "stdout",
     "output_type": "stream",
     "text": [
      "linear.weight\n",
      "linear.bias\n",
      "tensor([[-8.0386e-02, -1.0491e-02,  1.2531e-01,  1.6605e-01,  2.2227e-01,\n",
      "          8.7836e-02,  1.1329e-02,  1.8553e-02,  4.4660e-02,  5.7403e-03,\n",
      "          4.7493e-02,  8.9444e-02,  5.8834e-02,  7.2757e-02, -6.1303e-05,\n",
      "          9.8648e-02, -1.5356e-02,  3.2152e-02,  6.7850e-02,  8.1366e-03,\n",
      "         -4.5026e-03,  2.8286e-02,  4.9527e-02, -5.0566e-02,  1.7823e-02,\n",
      "         -2.6957e-02, -1.2402e-01, -1.4091e-01, -1.3290e-01, -6.3779e-02,\n",
      "         -8.1037e-02, -2.0476e-01, -9.2633e-02, -1.8558e-01, -1.6481e-01,\n",
      "         -9.5486e-02, -3.9673e-02, -3.6964e-02,  2.7505e-02,  2.4046e-03,\n",
      "          1.0117e-02,  3.5068e-02,  6.1825e-02,  1.0761e-01,  1.1064e-02,\n",
      "          1.2563e-01,  7.8604e-02,  1.0022e-02,  5.2478e-02,  2.3953e-02,\n",
      "          3.5785e-02,  1.0928e-01,  3.3713e-02,  7.2422e-02,  1.1133e-01,\n",
      "          3.8798e-02,  9.3746e-02,  4.6161e-02,  1.0019e-01,  1.1231e-01,\n",
      "          1.0632e-02,  6.4883e-02,  5.7174e-02,  8.1257e-02,  1.2032e-02,\n",
      "          6.5211e-03, -1.6072e-02,  7.3467e-02,  6.4427e-02,  4.8967e-02,\n",
      "          1.2884e-01,  1.2227e-01, -1.5919e-02,  4.0404e-02, -4.9210e-02,\n",
      "          1.6757e-02, -5.6187e-02,  4.0842e-03,  4.2544e-03,  6.8547e-02,\n",
      "         -3.4229e-03,  2.0293e-02,  9.3698e-03,  6.5141e-02,  8.7315e-02,\n",
      "          8.2928e-02,  8.3916e-03, -2.0201e-02,  8.4482e-02,  1.0506e-01,\n",
      "         -1.1969e-02, -3.4054e-02,  8.5000e-02,  3.6469e-02,  4.4038e-03,\n",
      "         -2.7657e-02,  9.0900e-03, -5.5451e-02,  4.1545e-02, -2.7427e-03,\n",
      "          3.9637e-02,  7.8825e-03, -1.0061e-02, -4.1523e-03,  2.7951e-02,\n",
      "         -7.2227e-03, -2.5379e-02, -2.9627e-02, -1.8237e-02, -2.5011e-02,\n",
      "         -6.4632e-02, -7.2690e-02, -7.0411e-02, -6.5737e-02, -1.1444e-01,\n",
      "          1.3048e-02, -2.5340e-02, -9.4797e-02,  8.3500e-03, -1.9703e-02,\n",
      "         -6.4089e-02, -8.9798e-02, -3.1729e-02, -7.0463e-02, -4.0074e-02,\n",
      "         -2.5072e-02, -6.3597e-02, -8.9364e-03,  1.7914e-02,  1.7763e-02,\n",
      "         -4.4761e-02, -7.0573e-02,  2.2178e-02, -8.5479e-02, -8.4938e-02,\n",
      "         -4.9928e-02, -3.5331e-02, -3.5790e-02, -8.1677e-02,  1.7386e-02,\n",
      "         -7.6642e-02,  2.6948e-02, -2.0067e-02, -3.5440e-02,  2.7006e-02,\n",
      "         -6.9607e-02, -4.2112e-02, -3.7892e-02, -8.5732e-02, -5.8852e-02,\n",
      "         -7.2607e-02,  2.3594e-02,  5.6163e-02, -5.2816e-03, -6.2045e-02,\n",
      "          4.2292e-02,  4.6579e-02, -4.3939e-02, -3.3660e-02,  4.3014e-02,\n",
      "          6.1885e-02, -5.1812e-03, -5.3847e-02,  4.8194e-02, -2.9647e-02,\n",
      "         -6.0278e-02, -2.2597e-02,  5.8199e-02, -3.7828e-02,  6.6621e-02,\n",
      "          1.2302e-04, -1.9174e-03,  1.8426e-02,  1.8027e-02, -4.4428e-03,\n",
      "          1.8843e-02,  5.4340e-02,  5.3215e-02, -6.7967e-02,  1.1118e-02,\n",
      "         -5.2743e-02, -2.1270e-02, -6.0066e-02,  5.4166e-02,  7.1634e-02,\n",
      "          1.2623e-02,  1.2932e-02]])\n"
     ]
    },
    {
     "data": {
      "text/plain": [
       "<Axes: ylabel='Feature'>"
      ]
     },
     "metadata": {},
     "output_type": "display_data"
    },
    {
     "data": {
      "image/png": "[encoded data removed]",
      "text/plain": [
       "<Figure size 1000x600 with 1 Axes>"
      ]
     },
     "metadata": {},
     "output_type": "display_data"
    }
   ],
   "source": [
    "for name, model_param in model.named_parameters():\n",
    "    print(name)\n",
    "    if name == 'linear.weight':\n",
    "        weights = model_param.data\n",
    "print(weights)\n",
    "coefficients = weights.detach().numpy()\n",
    "feature_importance = pd.DataFrame({'Feature': X_train_df['all'].columns, 'Importance': coefficients.flatten()})\n",
    "feature_importance = feature_importance.sort_values('Importance', ascending=True)\n",
    "feature_importance.plot(x='Feature', y='Importance', kind='barh', figsize=(10, 6))"
   ]
  },
  {
   "cell_type": "markdown",
   "id": "13674ea8",
   "metadata": {},
   "source": [
    "#### Predictions performances"
   ]
  },
  {
   "cell_type": "code",
   "execution_count": 123,
   "id": "6fced0af",
   "metadata": {},
   "outputs": [
    {
     "data": {
      "application/vnd.jupyter.widget-view+json": {
       "model_id": "96f207501f524795a3145c1c155cabe3",
       "version_major": 2,
       "version_minor": 0
      },
      "text/plain": [
       "BokehModel(combine_events=True, render_bundle={'docs_json': {'d84d5b2b-ea3b-4f1f-b19d-215db4ae64fa': {'version…"
      ]
     },
     "execution_count": 123,
     "metadata": {},
     "output_type": "execute_result"
    }
   ],
   "source": [
    "pn.Row(base.param.data_set)"
   ]
  },
  {
   "cell_type": "code",
   "execution_count": 124,
   "id": "f93fd81d",
   "metadata": {},
   "outputs": [
    {
     "name": "stdout",
     "output_type": "stream",
     "text": [
      "We are displaying evaluation over the TEST dataset\n"
     ]
    }
   ],
   "source": [
    "dataset_choice = {\n",
    "    'train': {\n",
    "        'data': {\n",
    "            'x': train_test_data.tensors['X_train']['all'],\n",
    "            'y': train_test_data.tensors['y_train'],\n",
    "        },\n",
    "        'already_processed': True,\n",
    "    },\n",
    "    'validation': {\n",
    "        'data': {\n",
    "            'x': train_test_data.tensors['X_test']['all'],\n",
    "            'y': train_test_data.tensors['y_test'],\n",
    "        },\n",
    "        'already_processed': True,\n",
    "    },\n",
    "    'train + validation': {\n",
    "        'data': df_heart_train,\n",
    "        'already_processed': False,\n",
    "    },\n",
    "    'test': {\n",
    "        'data': df_heart_test,\n",
    "        'already_processed': False,\n",
    "    },\n",
    "    # 'all': {\n",
    "    #     'data': df_heart,\n",
    "    #     'already_processed': False,\n",
    "    # },\n",
    "}\n",
    "print('We are displaying evaluation over the {} dataset'.format(base.data_set.upper()))\n",
    "data_specs = dataset_choice[base.data_set]"
   ]
  },
  {
   "cell_type": "code",
   "execution_count": 128,
   "id": "fe327aba",
   "metadata": {},
   "outputs": [
    {
     "name": "stdout",
     "output_type": "stream",
     "text": [
      "Processing data\n",
      "[0, 1, 2, 3, 4, 5, 6, 7, 8, 9, 10, 11, 12, 13, 14, 15, 16, 17, 18, 19, 20, 21, 22, 23, 24, 25, 26, 27, 28, 29, 30, 31, 32, 33, 34, 35, 36, 37, 38, 39, 40, 41, 42, 43, 44, 45, 46, 47, 48, 49, 50, 51, 52, 53, 54, 55, 56, 57, 58, 59, 60, 61, 62, 63, 64, 65, 66, 67, 68, 69, 70, 71, 72, 73, 74, 75, 76, 77, 78, 79, 80, 81, 82, 83, 84, 85, 86, 87, 88, 89, 90, 91, 92, 93, 94, 95, 96, 97, 98, 99, 100, 101, 102, 103, 104, 105, 106, 107, 108, 109, 110, 111, 112, 113, 114, 115, 116, 117, 118, 119, 120, 121, 122, 123, 124, 125, 126, 127, 128, 129, 130, 131, 132, 133, 134, 135, 136, 137, 138, 139, 140, 141, 142, 143, 144, 145, 146, 147, 148, 149, 150, 151, 152, 153, 154, 155, 156, 157, 158, 159, 160, 161, 162, 163, 164, 165, 166, 167, 168, 169, 170, 171, 172, 173, 174, 175, 176, 177, 178, 179, 180, 181, 182, 183, 184, 185, 186]\n"
     ]
    }
   ],
   "source": [
    "if data_specs['already_processed']:\n",
    "    print('Data were already processed for training.')\n",
    "    x_features = data_specs['data']['x']\n",
    "    y_true = data_specs['data']['y']\n",
    "else:\n",
    "        print('Processing data')\n",
    "        processed_data, _, _, _ = lib.pre_process_features(\n",
    "                data_specs['data'],\n",
    "                num_features=num_features,\n",
    "                categorical_features=categorical_features,\n",
    "                category_to_drop=category_to_drop,\n",
    "                label_col=label_col,\n",
    "                add_one_hot_encoded=base.add_one_hot_encoded,\n",
    "                add_embeddings=False,\n",
    "                stand_features=base.stand_features,\n",
    "                test_size=base.test_size,\n",
    "                random_state=base.random_state_test_train_split,\n",
    "                split_data=False,\n",
    "\t\t\t\t\t\t\t\treplace_pb_values={},\n",
    "        )\n",
    "        x_features = processed_data.dataframes['X_train']['all']\n",
    "        y_true = torch.tensor(processed_data.dataframes['y_train'].values)"
   ]
  },
  {
   "cell_type": "code",
   "execution_count": 129,
   "id": "273db06f",
   "metadata": {},
   "outputs": [],
   "source": [
    "# model.eval()\n",
    "# y_pred_tensor = torch.squeeze(model(x_features))\n",
    "# y_pred_round_tensor = y_pred_tensor.round()\n",
    "# y_pred = y_pred_tensor.detach().numpy()\n",
    "# y_pred_round = y_pred_round_tensor.detach().numpy()"
   ]
  },
  {
   "cell_type": "code",
   "execution_count": 147,
   "id": "5fc4c7cd",
   "metadata": {},
   "outputs": [],
   "source": [
    "y_pred = rf.predict_proba(x_features)[:,1]\n",
    "y_pred_tensor = torch.from_numpy(y_pred)\n",
    "y_pred_round = rf.predict(x_features)\n",
    "y_pred_round_tensor = torch.from_numpy(y_pred_round)"
   ]
  },
  {
   "cell_type": "code",
   "execution_count": 148,
   "id": "80ee6c9f",
   "metadata": {},
   "outputs": [],
   "source": [
    "from torchmetrics.classification import BinaryF1Score\n",
    "from sklearn.metrics import accuracy_score, balanced_accuracy_score\n",
    "acc = accuracy_score(y_true, y_pred_round, normalize = True)  \n",
    "bal_acc=balanced_accuracy_score(y_true,y_pred_round)\n",
    "f1_score = BinaryF1Score()\n",
    "f1 = f1_score(y_pred_round_tensor, y_true).numpy()\n",
    "summary_metrics = pd.DataFrame(data=[acc, bal_acc, f1], index=['Accuracy', 'Balanced Accuracy', 'F1 Score'], columns=['metrics']).T"
   ]
  },
  {
   "cell_type": "code",
   "execution_count": 149,
   "id": "f4a2692c",
   "metadata": {},
   "outputs": [
    {
     "data": {
      "text/html": [
       "<style type=\"text/css\">\n",
       "</style>\n",
       "<table id=\"T_76614\">\n",
       "  <thead>\n",
       "    <tr>\n",
       "      <th class=\"blank level0\" >&nbsp;</th>\n",
       "      <th id=\"T_76614_level0_col0\" class=\"col_heading level0 col0\" >Accuracy</th>\n",
       "      <th id=\"T_76614_level0_col1\" class=\"col_heading level0 col1\" >Balanced Accuracy</th>\n",
       "      <th id=\"T_76614_level0_col2\" class=\"col_heading level0 col2\" >F1 Score</th>\n",
       "    </tr>\n",
       "  </thead>\n",
       "  <tbody>\n",
       "    <tr>\n",
       "      <th id=\"T_76614_level0_row0\" class=\"row_heading level0 row0\" >metrics</th>\n",
       "      <td id=\"T_76614_row0_col0\" class=\"data row0 col0\" >94.1%</td>\n",
       "      <td id=\"T_76614_row0_col1\" class=\"data row0 col1\" >92.7%</td>\n",
       "      <td id=\"T_76614_row0_col2\" class=\"data row0 col2\" >95.9%</td>\n",
       "    </tr>\n",
       "  </tbody>\n",
       "</table>\n"
      ],
      "text/plain": [
       "<pandas.io.formats.style.Styler at 0x7fee182550f0>"
      ]
     },
     "execution_count": 149,
     "metadata": {},
     "output_type": "execute_result"
    }
   ],
   "source": [
    "summary_metrics.style.format(format_dict)"
   ]
  },
  {
   "cell_type": "code",
   "execution_count": 150,
   "id": "e9029dac",
   "metadata": {},
   "outputs": [
    {
     "data": {
      "text/plain": [
       "Text(0.5, 1.0, 'Confusion Matrix, dataset = test')"
      ]
     },
     "execution_count": 150,
     "metadata": {},
     "output_type": "execute_result"
    },
    {
     "data": {
      "image/png": "[encoded data removed]",
      "text/plain": [
       "<Figure size 600x500 with 2 Axes>"
      ]
     },
     "metadata": {},
     "output_type": "display_data"
    }
   ],
   "source": [
    "logreg_conf_matrix = confusion_matrix(y_true, y_pred_round)\n",
    "plt.figure(figsize = (6,5)) \n",
    "sns.set(font_scale=1.1) \n",
    "ax = sns.heatmap(\n",
    "    logreg_conf_matrix,\n",
    "    cmap='Blues',\n",
    "    annot=True,\n",
    "    fmt='d',\n",
    "    square=True,\n",
    "    xticklabels=['NO Heart Disease (0)', 'Heart Disease (1)'],\n",
    "    yticklabels=['NO Heart Disease (0)', 'Heart Disease (1)'])\n",
    "ax.set(xlabel='Predicted', ylabel='Actual')\n",
    "ax.invert_yaxis()\n",
    "ax.invert_xaxis()\n",
    "ax.set_title('Confusion Matrix, dataset = {}'.format(base.data_set))"
   ]
  },
  {
   "cell_type": "code",
   "execution_count": 151,
   "id": "7f2a593f",
   "metadata": {},
   "outputs": [],
   "source": [
    "fpr, tpr, thresholds = roc_curve(y_true, y_pred)\n",
    "auc_performance = auc(fpr, tpr)"
   ]
  },
  {
   "cell_type": "code",
   "execution_count": 153,
   "id": "7e1763be",
   "metadata": {},
   "outputs": [],
   "source": [
    "import graph as gr\n",
    "reload(gr)\n",
    "import graph as gr"
   ]
  },
  {
   "cell_type": "code",
   "execution_count": 154,
   "id": "fc27dcdd",
   "metadata": {},
   "outputs": [
    {
     "name": "stderr",
     "output_type": "stream",
     "text": [
      "/home/pinolej/eth/healthcare/proj3/task_1/graph.py:300: UserWarning: set_ticklabels() should only be used with a fixed number of ticks, i.e. after set_ticks() or using a FixedLocator.\n",
      "  ax.set_yticklabels(['{:,.0%}'.format(x) for x in vals], fontsize=9)\n",
      "/home/pinolej/eth/healthcare/proj3/task_1/graph.py:302: UserWarning: set_ticklabels() should only be used with a fixed number of ticks, i.e. after set_ticks() or using a FixedLocator.\n",
      "  ax.set_xticklabels(['{:,.0%}'.format(x) for x in vals], fontsize=9)\n"
     ]
    },
    {
     "data": {
      "image/png": "[encoded data removed]",
      "text/plain": [
       "<Figure size 600x600 with 1 Axes>"
      ]
     },
     "metadata": {},
     "output_type": "display_data"
    }
   ],
   "source": [
    "gr.custom_roc_curve(\n",
    "        fpr,\n",
    "        tpr,\n",
    "        thresholds,\n",
    "        thresholds_to_plot=[0.5],\n",
    "        figsize=(6,6),\n",
    "        fontsize={\n",
    "            'ax_title': 12,\n",
    "        },\n",
    "        dataset_type=base.data_set,\n",
    "        auc_performance=auc_performance,\n",
    "        y_text_margin=0.05,\n",
    "        x_text_margin=0.1,\n",
    "        plot_threshold=True,\n",
    ")"
   ]
  },
  {
   "cell_type": "markdown",
   "id": "e9a62a44",
   "metadata": {},
   "source": [
    "### Training"
   ]
  },
  {
   "cell_type": "code",
   "execution_count": null,
   "id": "dc82a019",
   "metadata": {},
   "outputs": [
    {
     "data": {
      "application/vnd.jupyter.widget-view+json": {
       "model_id": "911380c7bfff45c692aa09f47efc761c",
       "version_major": 2,
       "version_minor": 0
      },
      "text/plain": [
       "BokehModel(combine_events=True, render_bundle={'docs_json': {'26823a92-e8fa-490b-a254-1ea1150c13c4': {'version…"
      ]
     },
     "metadata": {},
     "output_type": "display_data"
    }
   ],
   "source": [
    "pn.Column(\n",
    "    pn.Row(base.param.use_lasso, base.param.use_focal_loss),\n",
    "    pn.Row(base.param.lr_power, base.param.lr_multiple),\n",
    "    pn.Row(base.param.lambda_power, base.param.lambda_multiple)\n",
    "    )"
   ]
  },
  {
   "cell_type": "code",
   "execution_count": null,
   "id": "249eaeb1",
   "metadata": {},
   "outputs": [
    {
     "name": "stdout",
     "output_type": "stream",
     "text": [
      "learning rate is 5 multiplied by 10 power -3, which yields 0.00500000\n",
      "lambda_lasso is 1 multiplied by 10 power -2, which yields 0.010000\n"
     ]
    }
   ],
   "source": [
    "lr = base.lr_multiple * 10**(-base.lr_power)\n",
    "print('learning rate is {} multiplied by 10 power {}, which yields {:.8f}'.format(base.lr_multiple, -base.lr_power, lr))\n",
    "lambda_lasso = base.lambda_multiple * 10**(-base.lambda_power)\n",
    "print('lambda_lasso is {} multiplied by 10 power {}, which yields {:.6f}'.format(base.lambda_multiple, -base.lambda_power, lambda_lasso))"
   ]
  },
  {
   "cell_type": "code",
   "execution_count": null,
   "id": "975ff6c2",
   "metadata": {},
   "outputs": [
    {
     "data": {
      "application/vnd.jupyter.widget-view+json": {
       "model_id": "04244dbe5bb843d9b93dc6ac7f764a3c",
       "version_major": 2,
       "version_minor": 0
      },
      "text/plain": [
       "BokehModel(combine_events=True, render_bundle={'docs_json': {'70219e61-d03d-4e20-a453-3f73dad4fb34': {'version…"
      ]
     },
     "metadata": {},
     "output_type": "display_data"
    }
   ],
   "source": [
    "pn.Column(\n",
    "    pn.Row(base.param.epochs, base.param.iter_array, base.param.iter_printing),\n",
    "    )"
   ]
  },
  {
   "cell_type": "code",
   "execution_count": null,
   "id": "5ad833c9",
   "metadata": {},
   "outputs": [
    {
     "name": "stdout",
     "output_type": "stream",
     "text": [
      "iter_printing_effective is 400\n"
     ]
    }
   ],
   "source": [
    "input_dim = len(num_features + final_categorical_features)\n",
    "output_dim = 1 # Single binary output\n",
    "model = LogisticRegression(input_dim,output_dim)\n",
    "if base.use_focal_loss:\n",
    "    criterion = FocalLoss(alpha=class_weights_tensor.long(), gamma=2)\n",
    "else:\n",
    "    criterion = torch.nn.BCELoss()\n",
    "optimizer = torch.optim.SGD(model.parameters(), lr=lr)\n",
    "iter_printing_effective = int(base.epochs/base.iter_printing)\n",
    "print('iter_printing_effective is {}'.format(iter_printing_effective))\n",
    "# torch.manual_seed(0) # keep things reproducible"
   ]
  },
  {
   "cell_type": "code",
   "execution_count": null,
   "id": "9fc4f39c",
   "metadata": {},
   "outputs": [
    {
     "name": "stderr",
     "output_type": "stream",
     "text": [
      "Training Epochs:  21%|██        | 411/2000 [00:06<00:26, 60.44it/s] "
     ]
    },
    {
     "name": "stdout",
     "output_type": "stream",
     "text": [
      "Iteration: 400. \n",
      "Test - Loss: 0.3063903748989105. Accuracy: 66.63804207814513\n",
      "Train -  Loss: 0.307067334651947. Accuracy: 66.96735395189003\n",
      "\n"
     ]
    },
    {
     "name": "stderr",
     "output_type": "stream",
     "text": [
      "Training Epochs:  41%|████      | 814/2000 [00:11<00:11, 106.80it/s]"
     ]
    },
    {
     "name": "stdout",
     "output_type": "stream",
     "text": [
      "Iteration: 800. \n",
      "Test - Loss: 0.29947954416275024. Accuracy: 68.82782310004293\n",
      "Train -  Loss: 0.3005751669406891. Accuracy: 68.43857388316151\n",
      "\n"
     ]
    },
    {
     "name": "stderr",
     "output_type": "stream",
     "text": [
      "Training Epochs:  61%|██████    | 1213/2000 [00:16<00:12, 64.61it/s]"
     ]
    },
    {
     "name": "stdout",
     "output_type": "stream",
     "text": [
      "Iteration: 1200. \n",
      "Test - Loss: 0.2987200617790222. Accuracy: 69.81537140403607\n",
      "Train -  Loss: 0.2999924421310425. Accuracy: 69.34063573883161\n",
      "\n"
     ]
    },
    {
     "name": "stderr",
     "output_type": "stream",
     "text": [
      "Training Epochs:  81%|████████  | 1614/2000 [00:22<00:04, 89.57it/s] "
     ]
    },
    {
     "name": "stdout",
     "output_type": "stream",
     "text": [
      "Iteration: 1600. \n",
      "Test - Loss: 0.299869567155838. Accuracy: 70.50236152855302\n",
      "Train -  Loss: 0.3012336194515228. Accuracy: 69.82388316151203\n",
      "\n"
     ]
    },
    {
     "name": "stderr",
     "output_type": "stream",
     "text": [
      "Training Epochs: 100%|██████████| 2000/2000 [00:31<00:00, 63.27it/s] "
     ]
    },
    {
     "name": "stdout",
     "output_type": "stream",
     "text": [
      "Iteration: 2000. \n",
      "Test - Loss: 0.3014077842235565. Accuracy: 71.18935165306999\n",
      "Train -  Loss: 0.3028232157230377. Accuracy: 70.66151202749141\n",
      "\n"
     ]
    },
    {
     "name": "stderr",
     "output_type": "stream",
     "text": [
      "\n"
     ]
    }
   ],
   "source": [
    "losses = []\n",
    "losses_test = []\n",
    "Iterations = []\n",
    "iter = 0\n",
    "model.train()\n",
    "for epoch in tqdm(range(int(base.epochs)),desc='Training Epochs'):\n",
    "    x = X_train\n",
    "    labels = y_train\n",
    "    optimizer.zero_grad() # Setting our stored gradients equal to zero\n",
    "    outputs = model(X_train['all'])  # Perform forward pass\n",
    "    loss = criterion(torch.squeeze(outputs), labels) # Compute loss\n",
    "    loss.backward() # Computes the gradient of the given tensor w.r.t. the weights/bias\n",
    "\n",
    "    # Compute L1 loss component\n",
    "    if base.use_lasso:\n",
    "        loss = add_l1_loss(model, loss, lambda_lasso=lambda_lasso)\n",
    "\n",
    "    optimizer.step() # Updates weights and biases with the optimizer (SGD)\n",
    "    \n",
    "    iter+=1\n",
    "    if iter%base.iter_array==0:\n",
    "        with torch.no_grad():\n",
    "            # Calculating the loss and accuracy for the test dataset\n",
    "            correct_test = 0\n",
    "            total_test = 0\n",
    "            outputs_test = torch.squeeze(model(X_test['all']))\n",
    "            loss_test = criterion(outputs_test, y_test)\n",
    "            loss_test = add_l1_loss(model, loss_test, lambda_lasso=lambda_lasso)\n",
    "            \n",
    "            predicted_test = outputs_test.round().detach().numpy()\n",
    "            total_test += y_test.size(0)\n",
    "            correct_test += np.sum(predicted_test == y_test.detach().numpy())\n",
    "            accuracy_test = 100 * correct_test/total_test\n",
    "            losses_test.append(loss_test.item())\n",
    "            \n",
    "            \n",
    "            # Calculating the loss and accuracy for the train dataset\n",
    "            total = 0\n",
    "            correct = 0\n",
    "            total += y_train.size(0)\n",
    "            correct += np.sum(torch.squeeze(outputs).round().detach().numpy() == y_train.detach().numpy())\n",
    "            accuracy = 100 * correct/total\n",
    "            losses.append(loss.item())\n",
    "            Iterations.append(iter)\n",
    "\n",
    "            if iter%iter_printing_effective==0:\n",
    "                print(f\"Iteration: {iter}. \\nTest - Loss: {loss_test.item()}. Accuracy: {accuracy_test}\")\n",
    "                print(f\"Train -  Loss: {loss.item()}. Accuracy: {accuracy}\\n\")"
   ]
  },
  {
   "cell_type": "code",
   "execution_count": null,
   "id": "fa9d098b",
   "metadata": {},
   "outputs": [
    {
     "data": {
      "text/plain": [
       "Text(0, 0.5, 'Focal Loss')"
      ]
     },
     "metadata": {},
     "output_type": "display_data"
    },
    {
     "data": {
      "image/png": "[encoded data removed]",
      "text/plain": [
       "<Figure size 700x400 with 1 Axes>"
      ]
     },
     "metadata": {},
     "output_type": "display_data"
    }
   ],
   "source": [
    "fig, ax = plt.subplots(nrows=1, ncols=1, figsize = (7,4))\n",
    "ax.plot(Iterations,losses, label='train')\n",
    "ax.plot(Iterations,losses_test, label='test')\n",
    "ax.legend()\n",
    "ax.set_xlabel('Epoch')\n",
    "loss_type = 'Focal Loss' if base.use_focal_loss else 'BCE Loss'\n",
    "ax.set_ylabel(loss_type)\n",
    "# fig.show()"
   ]
  },
  {
   "cell_type": "markdown",
   "id": "dcf31296",
   "metadata": {},
   "source": [
    "### Evaluation"
   ]
  },
  {
   "cell_type": "markdown",
   "id": "710978cf",
   "metadata": {},
   "source": [
    "#### Predictions performances"
   ]
  },
  {
   "cell_type": "code",
   "execution_count": null,
   "id": "f3def824",
   "metadata": {},
   "outputs": [
    {
     "data": {
      "application/vnd.jupyter.widget-view+json": {
       "model_id": "2781cebbaa2b4f84aea597706ac0cf5d",
       "version_major": 2,
       "version_minor": 0
      },
      "text/plain": [
       "BokehModel(combine_events=True, render_bundle={'docs_json': {'c23be6cc-b9fc-4bbd-bebd-87a98713dba2': {'version…"
      ]
     },
     "metadata": {},
     "output_type": "display_data"
    }
   ],
   "source": [
    "pn.Row(base.param.data_set)"
   ]
  },
  {
   "cell_type": "code",
   "execution_count": null,
   "id": "cbd27add",
   "metadata": {},
   "outputs": [
    {
     "name": "stdout",
     "output_type": "stream",
     "text": [
      "We are displaying evaluation over the TEST dataset\n"
     ]
    }
   ],
   "source": [
    "dataset_choice = {\n",
    "    'train': {\n",
    "        'data': {\n",
    "            'x': train_test_data.tensors['X_train']['all'],\n",
    "            'y': train_test_data.tensors['y_train'],\n",
    "        },\n",
    "        'already_processed': True,\n",
    "    },\n",
    "    'validation': {\n",
    "        'data': {\n",
    "            'x': train_test_data.tensors['X_test']['all'],\n",
    "            'y': train_test_data.tensors['y_test'],\n",
    "        },\n",
    "        'already_processed': True,\n",
    "    },\n",
    "    'train + validation': {\n",
    "        'data': df_heart_train,\n",
    "        'already_processed': False,\n",
    "    },\n",
    "    'test': {\n",
    "        'data': df_heart_test,\n",
    "        'already_processed': False,\n",
    "    },\n",
    "    # 'all': {\n",
    "    #     'data': df_heart,\n",
    "    #     'already_processed': False,\n",
    "    # },\n",
    "}\n",
    "print('We are displaying evaluation over the {} dataset'.format(base.data_set.upper()))\n",
    "data_specs = dataset_choice[base.data_set]"
   ]
  },
  {
   "cell_type": "code",
   "execution_count": null,
   "id": "ad832715",
   "metadata": {},
   "outputs": [
    {
     "name": "stdout",
     "output_type": "stream",
     "text": [
      "Processing data\n",
      "[0, 1, 2, 3, 4, 5, 6, 7, 8, 9, 10, 11, 12, 13, 14, 15, 16, 17, 18, 19, 20, 21, 22, 23, 24, 25, 26, 27, 28, 29, 30, 31, 32, 33, 34, 35, 36, 37, 38, 39, 40, 41, 42, 43, 44, 45, 46, 47, 48, 49, 50, 51, 52, 53, 54, 55, 56, 57, 58, 59, 60, 61, 62, 63, 64, 65, 66, 67, 68, 69, 70, 71, 72, 73, 74, 75, 76, 77, 78, 79, 80, 81, 82, 83, 84, 85, 86, 87, 88, 89, 90, 91, 92, 93, 94, 95, 96, 97, 98, 99, 100, 101, 102, 103, 104, 105, 106, 107, 108, 109, 110, 111, 112, 113, 114, 115, 116, 117, 118, 119, 120, 121, 122, 123, 124, 125, 126, 127, 128, 129, 130, 131, 132, 133, 134, 135, 136, 137, 138, 139, 140, 141, 142, 143, 144, 145, 146, 147, 148, 149, 150, 151, 152, 153, 154, 155, 156, 157, 158, 159, 160, 161, 162, 163, 164, 165, 166, 167, 168, 169, 170, 171, 172, 173, 174, 175, 176, 177, 178, 179, 180, 181, 182, 183, 184, 185, 186]\n"
     ]
    }
   ],
   "source": [
    "if data_specs['already_processed']:\n",
    "    print('Data were already processed for training.')\n",
    "    x_features = data_specs['data']['x']\n",
    "    y_true = data_specs['data']['y']\n",
    "else:\n",
    "        print('Processing data')\n",
    "        processed_data, _, _, _ = lib.pre_process_features(\n",
    "                data_specs['data'],\n",
    "                num_features=num_features,\n",
    "                categorical_features=categorical_features,\n",
    "                category_to_drop=category_to_drop,\n",
    "                label_col=label_col,\n",
    "                add_one_hot_encoded=base.add_one_hot_encoded,\n",
    "                add_embeddings=False,\n",
    "                stand_features=base.stand_features,\n",
    "                test_size=base.test_size,\n",
    "                random_state=base.random_state_test_train_split,\n",
    "                split_data=False,\n",
    "\t\t\t\t\t\t\t\treplace_pb_values={},\n",
    "        )\n",
    "        x_features = processed_data.tensors['X_train']['all']\n",
    "        y_true = processed_data.tensors['y_train']"
   ]
  },
  {
   "cell_type": "code",
   "execution_count": null,
   "id": "72b4d9e9",
   "metadata": {},
   "outputs": [],
   "source": [
    "model.eval()\n",
    "y_pred_tensor = torch.squeeze(model(x_features))\n",
    "y_pred_round_tensor = y_pred_tensor.round()\n",
    "y_pred = y_pred_tensor.detach().numpy()\n",
    "y_pred_round = y_pred_round_tensor.detach().numpy()"
   ]
  },
  {
   "cell_type": "code",
   "execution_count": null,
   "id": "e5311d95",
   "metadata": {},
   "outputs": [],
   "source": [
    "from torchmetrics.classification import BinaryF1Score\n",
    "from sklearn.metrics import accuracy_score, balanced_accuracy_score\n",
    "acc = accuracy_score(y_true, y_pred_round, normalize = True)  \n",
    "bal_acc=balanced_accuracy_score(y_true,y_pred_round)\n",
    "f1_score = BinaryF1Score()\n",
    "f1 = f1_score(y_pred_round_tensor, y_true).numpy()\n",
    "summary_metrics = pd.DataFrame(data=[acc, bal_acc, f1], index=['Accuracy', 'Balanced Accuracy', 'F1 Score'], columns=['metrics']).T"
   ]
  },
  {
   "cell_type": "code",
   "execution_count": null,
   "id": "470b9988",
   "metadata": {},
   "outputs": [
    {
     "data": {
      "text/html": [
       "<style type=\"text/css\">\n",
       "</style>\n",
       "<table id=\"T_f7f79\">\n",
       "  <thead>\n",
       "    <tr>\n",
       "      <th class=\"blank level0\" >&nbsp;</th>\n",
       "      <th id=\"T_f7f79_level0_col0\" class=\"col_heading level0 col0\" >Accuracy</th>\n",
       "      <th id=\"T_f7f79_level0_col1\" class=\"col_heading level0 col1\" >Balanced Accuracy</th>\n",
       "      <th id=\"T_f7f79_level0_col2\" class=\"col_heading level0 col2\" >F1 Score</th>\n",
       "    </tr>\n",
       "  </thead>\n",
       "  <tbody>\n",
       "    <tr>\n",
       "      <th id=\"T_f7f79_level0_row0\" class=\"row_heading level0 row0\" >metrics</th>\n",
       "      <td id=\"T_f7f79_row0_col0\" class=\"data row0 col0\" >70.3%</td>\n",
       "      <td id=\"T_f7f79_row0_col1\" class=\"data row0 col1\" >74.3%</td>\n",
       "      <td id=\"T_f7f79_row0_col2\" class=\"data row0 col2\" >76.0%</td>\n",
       "    </tr>\n",
       "  </tbody>\n",
       "</table>\n"
      ],
      "text/plain": [
       "<pandas.io.formats.style.Styler at 0x7fee292932b0>"
      ]
     },
     "metadata": {},
     "output_type": "display_data"
    }
   ],
   "source": [
    "summary_metrics.style.format(format_dict)"
   ]
  },
  {
   "cell_type": "code",
   "execution_count": null,
   "id": "7bc7a73e",
   "metadata": {},
   "outputs": [
    {
     "data": {
      "text/plain": [
       "Text(0.5, 1.0, 'Confusion Matrix, dataset = test')"
      ]
     },
     "metadata": {},
     "output_type": "display_data"
    },
    {
     "data": {
      "image/png": "[encoded data removed]",
      "text/plain": [
       "<Figure size 600x500 with 2 Axes>"
      ]
     },
     "metadata": {},
     "output_type": "display_data"
    }
   ],
   "source": [
    "logreg_conf_matrix = confusion_matrix(y_true, y_pred_round)\n",
    "plt.figure(figsize = (6,5)) \n",
    "sns.set(font_scale=1.1) \n",
    "ax = sns.heatmap(\n",
    "    logreg_conf_matrix,\n",
    "    cmap='Blues',\n",
    "    annot=True,\n",
    "    fmt='d',\n",
    "    square=True,\n",
    "    xticklabels=['NO Heart Disease (0)', 'Heart Disease (1)'],\n",
    "    yticklabels=['NO Heart Disease (0)', 'Heart Disease (1)'])\n",
    "ax.set(xlabel='Predicted', ylabel='Actual')\n",
    "ax.invert_yaxis()\n",
    "ax.invert_xaxis()\n",
    "ax.set_title('Confusion Matrix, dataset = {}'.format(base.data_set))"
   ]
  },
  {
   "cell_type": "code",
   "execution_count": 109,
   "id": "dce57f59",
   "metadata": {},
   "outputs": [
    {
     "ename": "ValueError",
     "evalue": "y should be a 1d array, got an array of shape (2911, 2) instead.",
     "output_type": "error",
     "traceback": [
      "\u001b[0;31m---------------------------------------------------------------------------\u001b[0m",
      "\u001b[0;31mValueError\u001b[0m                                Traceback (most recent call last)",
      "Cell \u001b[0;32mIn[109], line 1\u001b[0m\n\u001b[0;32m----> 1\u001b[0m fpr, tpr, thresholds \u001b[38;5;241m=\u001b[39m \u001b[43mroc_curve\u001b[49m\u001b[43m(\u001b[49m\u001b[43my_true\u001b[49m\u001b[43m,\u001b[49m\u001b[43m \u001b[49m\u001b[43my_pred\u001b[49m\u001b[43m)\u001b[49m\n\u001b[1;32m      2\u001b[0m auc_performance \u001b[38;5;241m=\u001b[39m auc(fpr, tpr)\n",
      "File \u001b[0;32m~/.venv_2/lib/python3.10/site-packages/sklearn/utils/_param_validation.py:213\u001b[0m, in \u001b[0;36mvalidate_params.<locals>.decorator.<locals>.wrapper\u001b[0;34m(*args, **kwargs)\u001b[0m\n\u001b[1;32m    207\u001b[0m \u001b[38;5;28;01mtry\u001b[39;00m:\n\u001b[1;32m    208\u001b[0m     \u001b[38;5;28;01mwith\u001b[39;00m config_context(\n\u001b[1;32m    209\u001b[0m         skip_parameter_validation\u001b[38;5;241m=\u001b[39m(\n\u001b[1;32m    210\u001b[0m             prefer_skip_nested_validation \u001b[38;5;129;01mor\u001b[39;00m global_skip_validation\n\u001b[1;32m    211\u001b[0m         )\n\u001b[1;32m    212\u001b[0m     ):\n\u001b[0;32m--> 213\u001b[0m         \u001b[38;5;28;01mreturn\u001b[39;00m \u001b[43mfunc\u001b[49m\u001b[43m(\u001b[49m\u001b[38;5;241;43m*\u001b[39;49m\u001b[43margs\u001b[49m\u001b[43m,\u001b[49m\u001b[43m \u001b[49m\u001b[38;5;241;43m*\u001b[39;49m\u001b[38;5;241;43m*\u001b[39;49m\u001b[43mkwargs\u001b[49m\u001b[43m)\u001b[49m\n\u001b[1;32m    214\u001b[0m \u001b[38;5;28;01mexcept\u001b[39;00m InvalidParameterError \u001b[38;5;28;01mas\u001b[39;00m e:\n\u001b[1;32m    215\u001b[0m     \u001b[38;5;66;03m# When the function is just a wrapper around an estimator, we allow\u001b[39;00m\n\u001b[1;32m    216\u001b[0m     \u001b[38;5;66;03m# the function to delegate validation to the estimator, but we replace\u001b[39;00m\n\u001b[1;32m    217\u001b[0m     \u001b[38;5;66;03m# the name of the estimator by the name of the function in the error\u001b[39;00m\n\u001b[1;32m    218\u001b[0m     \u001b[38;5;66;03m# message to avoid confusion.\u001b[39;00m\n\u001b[1;32m    219\u001b[0m     msg \u001b[38;5;241m=\u001b[39m re\u001b[38;5;241m.\u001b[39msub(\n\u001b[1;32m    220\u001b[0m         \u001b[38;5;124mr\u001b[39m\u001b[38;5;124m\"\u001b[39m\u001b[38;5;124mparameter of \u001b[39m\u001b[38;5;124m\\\u001b[39m\u001b[38;5;124mw+ must be\u001b[39m\u001b[38;5;124m\"\u001b[39m,\n\u001b[1;32m    221\u001b[0m         \u001b[38;5;124mf\u001b[39m\u001b[38;5;124m\"\u001b[39m\u001b[38;5;124mparameter of \u001b[39m\u001b[38;5;132;01m{\u001b[39;00mfunc\u001b[38;5;241m.\u001b[39m\u001b[38;5;18m__qualname__\u001b[39m\u001b[38;5;132;01m}\u001b[39;00m\u001b[38;5;124m must be\u001b[39m\u001b[38;5;124m\"\u001b[39m,\n\u001b[1;32m    222\u001b[0m         \u001b[38;5;28mstr\u001b[39m(e),\n\u001b[1;32m    223\u001b[0m     )\n",
      "File \u001b[0;32m~/.venv_2/lib/python3.10/site-packages/sklearn/metrics/_ranking.py:1108\u001b[0m, in \u001b[0;36mroc_curve\u001b[0;34m(y_true, y_score, pos_label, sample_weight, drop_intermediate)\u001b[0m\n\u001b[1;32m   1006\u001b[0m \u001b[38;5;129m@validate_params\u001b[39m(\n\u001b[1;32m   1007\u001b[0m     {\n\u001b[1;32m   1008\u001b[0m         \u001b[38;5;124m\"\u001b[39m\u001b[38;5;124my_true\u001b[39m\u001b[38;5;124m\"\u001b[39m: [\u001b[38;5;124m\"\u001b[39m\u001b[38;5;124marray-like\u001b[39m\u001b[38;5;124m\"\u001b[39m],\n\u001b[0;32m   (...)\u001b[0m\n\u001b[1;32m   1017\u001b[0m     y_true, y_score, \u001b[38;5;241m*\u001b[39m, pos_label\u001b[38;5;241m=\u001b[39m\u001b[38;5;28;01mNone\u001b[39;00m, sample_weight\u001b[38;5;241m=\u001b[39m\u001b[38;5;28;01mNone\u001b[39;00m, drop_intermediate\u001b[38;5;241m=\u001b[39m\u001b[38;5;28;01mTrue\u001b[39;00m\n\u001b[1;32m   1018\u001b[0m ):\n\u001b[1;32m   1019\u001b[0m \u001b[38;5;250m    \u001b[39m\u001b[38;5;124;03m\"\"\"Compute Receiver operating characteristic (ROC).\u001b[39;00m\n\u001b[1;32m   1020\u001b[0m \n\u001b[1;32m   1021\u001b[0m \u001b[38;5;124;03m    Note: this implementation is restricted to the binary classification task.\u001b[39;00m\n\u001b[0;32m   (...)\u001b[0m\n\u001b[1;32m   1106\u001b[0m \u001b[38;5;124;03m    array([ inf, 0.8 , 0.4 , 0.35, 0.1 ])\u001b[39;00m\n\u001b[1;32m   1107\u001b[0m \u001b[38;5;124;03m    \"\"\"\u001b[39;00m\n\u001b[0;32m-> 1108\u001b[0m     fps, tps, thresholds \u001b[38;5;241m=\u001b[39m \u001b[43m_binary_clf_curve\u001b[49m\u001b[43m(\u001b[49m\n\u001b[1;32m   1109\u001b[0m \u001b[43m        \u001b[49m\u001b[43my_true\u001b[49m\u001b[43m,\u001b[49m\u001b[43m \u001b[49m\u001b[43my_score\u001b[49m\u001b[43m,\u001b[49m\u001b[43m \u001b[49m\u001b[43mpos_label\u001b[49m\u001b[38;5;241;43m=\u001b[39;49m\u001b[43mpos_label\u001b[49m\u001b[43m,\u001b[49m\u001b[43m \u001b[49m\u001b[43msample_weight\u001b[49m\u001b[38;5;241;43m=\u001b[39;49m\u001b[43msample_weight\u001b[49m\n\u001b[1;32m   1110\u001b[0m \u001b[43m    \u001b[49m\u001b[43m)\u001b[49m\n\u001b[1;32m   1112\u001b[0m     \u001b[38;5;66;03m# Attempt to drop thresholds corresponding to points in between and\u001b[39;00m\n\u001b[1;32m   1113\u001b[0m     \u001b[38;5;66;03m# collinear with other points. These are always suboptimal and do not\u001b[39;00m\n\u001b[1;32m   1114\u001b[0m     \u001b[38;5;66;03m# appear on a plotted ROC curve (and thus do not affect the AUC).\u001b[39;00m\n\u001b[0;32m   (...)\u001b[0m\n\u001b[1;32m   1119\u001b[0m     \u001b[38;5;66;03m# but does not drop more complicated cases like fps = [1, 3, 7],\u001b[39;00m\n\u001b[1;32m   1120\u001b[0m     \u001b[38;5;66;03m# tps = [1, 2, 4]; there is no harm in keeping too many thresholds.\u001b[39;00m\n\u001b[1;32m   1121\u001b[0m     \u001b[38;5;28;01mif\u001b[39;00m drop_intermediate \u001b[38;5;129;01mand\u001b[39;00m \u001b[38;5;28mlen\u001b[39m(fps) \u001b[38;5;241m>\u001b[39m \u001b[38;5;241m2\u001b[39m:\n",
      "File \u001b[0;32m~/.venv_2/lib/python3.10/site-packages/sklearn/metrics/_ranking.py:821\u001b[0m, in \u001b[0;36m_binary_clf_curve\u001b[0;34m(y_true, y_score, pos_label, sample_weight)\u001b[0m\n\u001b[1;32m    819\u001b[0m check_consistent_length(y_true, y_score, sample_weight)\n\u001b[1;32m    820\u001b[0m y_true \u001b[38;5;241m=\u001b[39m column_or_1d(y_true)\n\u001b[0;32m--> 821\u001b[0m y_score \u001b[38;5;241m=\u001b[39m \u001b[43mcolumn_or_1d\u001b[49m\u001b[43m(\u001b[49m\u001b[43my_score\u001b[49m\u001b[43m)\u001b[49m\n\u001b[1;32m    822\u001b[0m assert_all_finite(y_true)\n\u001b[1;32m    823\u001b[0m assert_all_finite(y_score)\n",
      "File \u001b[0;32m~/.venv_2/lib/python3.10/site-packages/sklearn/utils/validation.py:1367\u001b[0m, in \u001b[0;36mcolumn_or_1d\u001b[0;34m(y, dtype, warn)\u001b[0m\n\u001b[1;32m   1356\u001b[0m         warnings\u001b[38;5;241m.\u001b[39mwarn(\n\u001b[1;32m   1357\u001b[0m             (\n\u001b[1;32m   1358\u001b[0m                 \u001b[38;5;124m\"\u001b[39m\u001b[38;5;124mA column-vector y was passed when a 1d array was\u001b[39m\u001b[38;5;124m\"\u001b[39m\n\u001b[0;32m   (...)\u001b[0m\n\u001b[1;32m   1363\u001b[0m             stacklevel\u001b[38;5;241m=\u001b[39m\u001b[38;5;241m2\u001b[39m,\n\u001b[1;32m   1364\u001b[0m         )\n\u001b[1;32m   1365\u001b[0m     \u001b[38;5;28;01mreturn\u001b[39;00m _asarray_with_order(xp\u001b[38;5;241m.\u001b[39mreshape(y, (\u001b[38;5;241m-\u001b[39m\u001b[38;5;241m1\u001b[39m,)), order\u001b[38;5;241m=\u001b[39m\u001b[38;5;124m\"\u001b[39m\u001b[38;5;124mC\u001b[39m\u001b[38;5;124m\"\u001b[39m, xp\u001b[38;5;241m=\u001b[39mxp)\n\u001b[0;32m-> 1367\u001b[0m \u001b[38;5;28;01mraise\u001b[39;00m \u001b[38;5;167;01mValueError\u001b[39;00m(\n\u001b[1;32m   1368\u001b[0m     \u001b[38;5;124m\"\u001b[39m\u001b[38;5;124my should be a 1d array, got an array of shape \u001b[39m\u001b[38;5;132;01m{}\u001b[39;00m\u001b[38;5;124m instead.\u001b[39m\u001b[38;5;124m\"\u001b[39m\u001b[38;5;241m.\u001b[39mformat(shape)\n\u001b[1;32m   1369\u001b[0m )\n",
      "\u001b[0;31mValueError\u001b[0m: y should be a 1d array, got an array of shape (2911, 2) instead."
     ]
    }
   ],
   "source": [
    "fpr, tpr, thresholds = roc_curve(y_true, y_pred)\n",
    "auc_performance = auc(fpr, tpr)"
   ]
  },
  {
   "cell_type": "code",
   "execution_count": 107,
   "id": "91e0a97a",
   "metadata": {},
   "outputs": [
    {
     "data": {
      "text/plain": [
       "tensor([0., 1., 0.,  ..., 1., 1., 0.], dtype=torch.float64)"
      ]
     },
     "execution_count": 107,
     "metadata": {},
     "output_type": "execute_result"
    }
   ],
   "source": [
    "y_true"
   ]
  },
  {
   "cell_type": "code",
   "execution_count": 108,
   "id": "a8de9dde",
   "metadata": {},
   "outputs": [
    {
     "data": {
      "text/plain": [
       "array([[0.37656712, 0.62343288],\n",
       "       [0.03479144, 0.96520856],\n",
       "       [0.75341281, 0.24658719],\n",
       "       ...,\n",
       "       [0.47813038, 0.52186962],\n",
       "       [0.51128523, 0.48871477],\n",
       "       [0.83921732, 0.16078268]])"
      ]
     },
     "execution_count": 108,
     "metadata": {},
     "output_type": "execute_result"
    }
   ],
   "source": [
    "y_pred"
   ]
  },
  {
   "cell_type": "code",
   "execution_count": null,
   "id": "e3d96c1d",
   "metadata": {},
   "outputs": [],
   "source": [
    "import graph as gr\n",
    "reload(gr)\n",
    "import graph as gr"
   ]
  },
  {
   "cell_type": "code",
   "execution_count": null,
   "id": "a18689fc",
   "metadata": {},
   "outputs": [
    {
     "name": "stderr",
     "output_type": "stream",
     "text": [
      "/home/pinolej/eth/healthcare/proj3/task_1/graph.py:300: UserWarning: set_ticklabels() should only be used with a fixed number of ticks, i.e. after set_ticks() or using a FixedLocator.\n",
      "  ax.set_yticklabels(['{:,.0%}'.format(x) for x in vals], fontsize=9)\n",
      "/home/pinolej/eth/healthcare/proj3/task_1/graph.py:302: UserWarning: set_ticklabels() should only be used with a fixed number of ticks, i.e. after set_ticks() or using a FixedLocator.\n",
      "  ax.set_xticklabels(['{:,.0%}'.format(x) for x in vals], fontsize=9)\n"
     ]
    },
    {
     "data": {
      "image/png": "[encoded data removed]",
      "text/plain": [
       "<Figure size 600x600 with 1 Axes>"
      ]
     },
     "metadata": {},
     "output_type": "display_data"
    }
   ],
   "source": [
    "gr.custom_roc_curve(\n",
    "        fpr,\n",
    "        tpr,\n",
    "        thresholds,\n",
    "        thresholds_to_plot=[0.5],\n",
    "        figsize=(6,6),\n",
    "        fontsize={\n",
    "            'ax_title': 12,\n",
    "        },\n",
    "        dataset_type=base.data_set,\n",
    "        auc_performance=auc_performance,\n",
    "        y_text_margin=0.05,\n",
    "        x_text_margin=0.1,\n",
    "        plot_threshold=True,\n",
    ")"
   ]
  },
  {
   "cell_type": "markdown",
   "id": "c7edfcaa",
   "metadata": {},
   "source": [
    "# Adding Features Design & Engineering"
   ]
  },
  {
   "cell_type": "markdown",
   "id": "f68a5b34-a85f-4c57-825c-4d372e3faad8",
   "metadata": {},
   "source": [
    "# Old"
   ]
  },
  {
   "cell_type": "code",
   "execution_count": 53,
   "id": "c8a9ac87",
   "metadata": {},
   "outputs": [],
   "source": []
  }
 ],
 "metadata": {
  "kernelspec": {
   "display_name": "Python 3 (ipykernel)",
   "language": "python",
   "name": "python3"
  },
  "language_info": {
   "codemirror_mode": {
    "name": "ipython",
    "version": 3
   },
   "file_extension": ".py",
   "mimetype": "text/x-python",
   "name": "python",
   "nbconvert_exporter": "python",
   "pygments_lexer": "ipython3",
   "version": "3.10.12"
  }
 },
 "nbformat": 4,
 "nbformat_minor": 5
}
